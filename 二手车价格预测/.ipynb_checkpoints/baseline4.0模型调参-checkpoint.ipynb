{
 "cells": [
  {
   "cell_type": "markdown",
   "metadata": {},
   "source": [
    "# 内容介绍"
   ]
  },
  {
   "cell_type": "markdown",
   "metadata": {},
   "source": [
    "- 线性回归模型\n",
    "    - 线性回归对于特征的要求\n",
    "    - 处理长尾分布\n",
    "    - 理解线性回归模型\n",
    "- 模型性能验证\n",
    "    - 评价函数与目标函数\n",
    "    - 交叉验证方法\n",
    "    - 留一验证方法\n",
    "    - 针对时间序列问题的验证\n",
    "    - 绘制学习率曲线\n",
    "    - 绘制验证曲线\n",
    "- 嵌入式特征选择\n",
    "    - Lasso回归\n",
    "    - Ridge回归\n",
    "    - 决策树\n",
    "- 模型对比\n",
    "    - 常用线性模型\n",
    "    - 常用非线性模型\n",
    "- 模型调参\n",
    "    - 贪心调参方法\n",
    "    - 网格调参方法\n",
    "    - 贝叶斯调参方法"
   ]
  },
  {
   "cell_type": "markdown",
   "metadata": {},
   "source": [
    "# 代码部分"
   ]
  },
  {
   "cell_type": "markdown",
   "metadata": {},
   "source": [
    "## 1）读取数据"
   ]
  },
  {
   "cell_type": "code",
   "execution_count": 1,
   "metadata": {},
   "outputs": [],
   "source": [
    "import pandas as pd\n",
    "import numpy as np\n",
    "import warnings\n",
    "warnings.filterwarnings('ignore')"
   ]
  },
  {
   "cell_type": "markdown",
   "metadata": {},
   "source": [
    "- reduce_mem_usage函数通过调整数据类型，帮助我们减少数据在内存中占用的空间"
   ]
  },
  {
   "cell_type": "code",
   "execution_count": 2,
   "metadata": {},
   "outputs": [],
   "source": [
    "def reduce_mem_usage(df):\n",
    "    \"\"\" iterate through all the columns of a dataframe and modify the data type\n",
    "        to reduce memory usage.        \n",
    "    \"\"\"\n",
    "    start_mem = df.memory_usage().sum() \n",
    "    print('Memory usage of dataframe is {:.2f} MB'.format(start_mem))\n",
    "    \n",
    "    for col in df.columns:\n",
    "        col_type = df[col].dtype\n",
    "        \n",
    "        if col_type != object:\n",
    "            c_min = df[col].min()\n",
    "            c_max = df[col].max()\n",
    "            if str(col_type)[:3] == 'int':\n",
    "                if c_min > np.iinfo(np.int8).min and c_max < np.iinfo(np.int8).max:\n",
    "                    df[col] = df[col].astype(np.int8)\n",
    "                elif c_min > np.iinfo(np.int16).min and c_max < np.iinfo(np.int16).max:\n",
    "                    df[col] = df[col].astype(np.int16)\n",
    "                elif c_min > np.iinfo(np.int32).min and c_max < np.iinfo(np.int32).max:\n",
    "                    df[col] = df[col].astype(np.int32)\n",
    "                elif c_min > np.iinfo(np.int64).min and c_max < np.iinfo(np.int64).max:\n",
    "                    df[col] = df[col].astype(np.int64)  \n",
    "            else:\n",
    "                if c_min > np.finfo(np.float16).min and c_max < np.finfo(np.float16).max:\n",
    "                    df[col] = df[col].astype(np.float16)\n",
    "                elif c_min > np.finfo(np.float32).min and c_max < np.finfo(np.float32).max:\n",
    "                    df[col] = df[col].astype(np.float32)\n",
    "                else:\n",
    "                    df[col] = df[col].astype(np.float64)\n",
    "        else:\n",
    "            df[col] = df[col].astype('category')\n",
    "\n",
    "    end_mem = df.memory_usage().sum() \n",
    "    print('Memory usage after optimization is: {:.2f} MB'.format(end_mem))\n",
    "    print('Decreased by {:.1f}%'.format(100 * (start_mem - end_mem) / start_mem))\n",
    "    return df\n",
    "                    "
   ]
  },
  {
   "cell_type": "code",
   "execution_count": 3,
   "metadata": {},
   "outputs": [
    {
     "name": "stdout",
     "output_type": "stream",
     "text": [
      "Memory usage of dataframe is 62099672.00 MB\n",
      "Memory usage after optimization is: 16719340.00 MB\n",
      "Decreased by 73.1%\n"
     ]
    }
   ],
   "source": [
    "sample_feature=reduce_mem_usage(pd.read_csv('./data_for_tree.csv'))\n"
   ]
  },
  {
   "cell_type": "code",
   "execution_count": 4,
   "metadata": {},
   "outputs": [],
   "source": [
    "continuous_feature_names=[x for x in sample_feature.columns if x not in ['price','brand','model','brand']]\n"
   ]
  },
  {
   "cell_type": "markdown",
   "metadata": {},
   "source": [
    "## 2.线性回归&五折交叉验证&模拟真实业务情况"
   ]
  },
  {
   "cell_type": "code",
   "execution_count": 5,
   "metadata": {},
   "outputs": [
    {
     "data": {
      "text/html": [
       "<div>\n",
       "<style scoped>\n",
       "    .dataframe tbody tr th:only-of-type {\n",
       "        vertical-align: middle;\n",
       "    }\n",
       "\n",
       "    .dataframe tbody tr th {\n",
       "        vertical-align: top;\n",
       "    }\n",
       "\n",
       "    .dataframe thead th {\n",
       "        text-align: right;\n",
       "    }\n",
       "</style>\n",
       "<table border=\"1\" class=\"dataframe\">\n",
       "  <thead>\n",
       "    <tr style=\"text-align: right;\">\n",
       "      <th></th>\n",
       "      <th>SaleID</th>\n",
       "      <th>name</th>\n",
       "      <th>model</th>\n",
       "      <th>brand</th>\n",
       "      <th>bodyType</th>\n",
       "      <th>fuelType</th>\n",
       "      <th>gearbox</th>\n",
       "      <th>power</th>\n",
       "      <th>kilometer</th>\n",
       "      <th>notRepairedDamage</th>\n",
       "      <th>...</th>\n",
       "      <th>used_time</th>\n",
       "      <th>city</th>\n",
       "      <th>brand_amount</th>\n",
       "      <th>brand_price_max</th>\n",
       "      <th>brand_price_median</th>\n",
       "      <th>brand_price_min</th>\n",
       "      <th>brand_price_sum</th>\n",
       "      <th>brand_price_std</th>\n",
       "      <th>brand_price_average</th>\n",
       "      <th>power_bin</th>\n",
       "    </tr>\n",
       "  </thead>\n",
       "  <tbody>\n",
       "    <tr>\n",
       "      <th>0</th>\n",
       "      <td>0</td>\n",
       "      <td>736</td>\n",
       "      <td>30.0</td>\n",
       "      <td>6</td>\n",
       "      <td>1.0</td>\n",
       "      <td>0.0</td>\n",
       "      <td>0.0</td>\n",
       "      <td>60</td>\n",
       "      <td>12.5</td>\n",
       "      <td>0.0</td>\n",
       "      <td>...</td>\n",
       "      <td>4384.0</td>\n",
       "      <td>1.0</td>\n",
       "      <td>10192.0</td>\n",
       "      <td>35990.0</td>\n",
       "      <td>1800.0</td>\n",
       "      <td>13.0</td>\n",
       "      <td>36457520.0</td>\n",
       "      <td>4564.0</td>\n",
       "      <td>3576.0</td>\n",
       "      <td>5.0</td>\n",
       "    </tr>\n",
       "    <tr>\n",
       "      <th>1</th>\n",
       "      <td>2</td>\n",
       "      <td>14874</td>\n",
       "      <td>115.0</td>\n",
       "      <td>15</td>\n",
       "      <td>1.0</td>\n",
       "      <td>0.0</td>\n",
       "      <td>0.0</td>\n",
       "      <td>163</td>\n",
       "      <td>12.5</td>\n",
       "      <td>0.0</td>\n",
       "      <td>...</td>\n",
       "      <td>4384.0</td>\n",
       "      <td>2.0</td>\n",
       "      <td>1458.0</td>\n",
       "      <td>45000.0</td>\n",
       "      <td>8496.0</td>\n",
       "      <td>100.0</td>\n",
       "      <td>14373814.0</td>\n",
       "      <td>5424.0</td>\n",
       "      <td>9848.0</td>\n",
       "      <td>16.0</td>\n",
       "    </tr>\n",
       "    <tr>\n",
       "      <th>2</th>\n",
       "      <td>4</td>\n",
       "      <td>111080</td>\n",
       "      <td>110.0</td>\n",
       "      <td>5</td>\n",
       "      <td>1.0</td>\n",
       "      <td>0.0</td>\n",
       "      <td>0.0</td>\n",
       "      <td>68</td>\n",
       "      <td>5.0</td>\n",
       "      <td>0.0</td>\n",
       "      <td>...</td>\n",
       "      <td>1531.0</td>\n",
       "      <td>6.0</td>\n",
       "      <td>4664.0</td>\n",
       "      <td>31500.0</td>\n",
       "      <td>2300.0</td>\n",
       "      <td>20.0</td>\n",
       "      <td>15414322.0</td>\n",
       "      <td>3344.0</td>\n",
       "      <td>3306.0</td>\n",
       "      <td>6.0</td>\n",
       "    </tr>\n",
       "    <tr>\n",
       "      <th>3</th>\n",
       "      <td>5</td>\n",
       "      <td>137642</td>\n",
       "      <td>24.0</td>\n",
       "      <td>10</td>\n",
       "      <td>0.0</td>\n",
       "      <td>1.0</td>\n",
       "      <td>0.0</td>\n",
       "      <td>109</td>\n",
       "      <td>10.0</td>\n",
       "      <td>0.0</td>\n",
       "      <td>...</td>\n",
       "      <td>2482.0</td>\n",
       "      <td>3.0</td>\n",
       "      <td>13992.0</td>\n",
       "      <td>92900.0</td>\n",
       "      <td>5200.0</td>\n",
       "      <td>15.0</td>\n",
       "      <td>113034208.0</td>\n",
       "      <td>8248.0</td>\n",
       "      <td>8076.0</td>\n",
       "      <td>10.0</td>\n",
       "    </tr>\n",
       "    <tr>\n",
       "      <th>4</th>\n",
       "      <td>6</td>\n",
       "      <td>2402</td>\n",
       "      <td>13.0</td>\n",
       "      <td>4</td>\n",
       "      <td>0.0</td>\n",
       "      <td>0.0</td>\n",
       "      <td>1.0</td>\n",
       "      <td>150</td>\n",
       "      <td>15.0</td>\n",
       "      <td>0.0</td>\n",
       "      <td>...</td>\n",
       "      <td>6184.0</td>\n",
       "      <td>3.0</td>\n",
       "      <td>16576.0</td>\n",
       "      <td>99999.0</td>\n",
       "      <td>6000.0</td>\n",
       "      <td>12.0</td>\n",
       "      <td>138279072.0</td>\n",
       "      <td>8088.0</td>\n",
       "      <td>8344.0</td>\n",
       "      <td>14.0</td>\n",
       "    </tr>\n",
       "    <tr>\n",
       "      <th>...</th>\n",
       "      <td>...</td>\n",
       "      <td>...</td>\n",
       "      <td>...</td>\n",
       "      <td>...</td>\n",
       "      <td>...</td>\n",
       "      <td>...</td>\n",
       "      <td>...</td>\n",
       "      <td>...</td>\n",
       "      <td>...</td>\n",
       "      <td>...</td>\n",
       "      <td>...</td>\n",
       "      <td>...</td>\n",
       "      <td>...</td>\n",
       "      <td>...</td>\n",
       "      <td>...</td>\n",
       "      <td>...</td>\n",
       "      <td>...</td>\n",
       "      <td>...</td>\n",
       "      <td>...</td>\n",
       "      <td>...</td>\n",
       "      <td>...</td>\n",
       "    </tr>\n",
       "    <tr>\n",
       "      <th>91724</th>\n",
       "      <td>149994</td>\n",
       "      <td>43073</td>\n",
       "      <td>42.0</td>\n",
       "      <td>1</td>\n",
       "      <td>1.0</td>\n",
       "      <td>0.0</td>\n",
       "      <td>0.0</td>\n",
       "      <td>122</td>\n",
       "      <td>3.0</td>\n",
       "      <td>0.0</td>\n",
       "      <td>...</td>\n",
       "      <td>1538.0</td>\n",
       "      <td>5.0</td>\n",
       "      <td>13656.0</td>\n",
       "      <td>84000.0</td>\n",
       "      <td>6400.0</td>\n",
       "      <td>15.0</td>\n",
       "      <td>124044600.0</td>\n",
       "      <td>8992.0</td>\n",
       "      <td>9080.0</td>\n",
       "      <td>12.0</td>\n",
       "    </tr>\n",
       "    <tr>\n",
       "      <th>91725</th>\n",
       "      <td>149995</td>\n",
       "      <td>163978</td>\n",
       "      <td>121.0</td>\n",
       "      <td>10</td>\n",
       "      <td>4.0</td>\n",
       "      <td>0.0</td>\n",
       "      <td>1.0</td>\n",
       "      <td>163</td>\n",
       "      <td>15.0</td>\n",
       "      <td>0.0</td>\n",
       "      <td>...</td>\n",
       "      <td>5772.0</td>\n",
       "      <td>4.0</td>\n",
       "      <td>13992.0</td>\n",
       "      <td>92900.0</td>\n",
       "      <td>5200.0</td>\n",
       "      <td>15.0</td>\n",
       "      <td>113034208.0</td>\n",
       "      <td>8248.0</td>\n",
       "      <td>8076.0</td>\n",
       "      <td>16.0</td>\n",
       "    </tr>\n",
       "    <tr>\n",
       "      <th>91726</th>\n",
       "      <td>149996</td>\n",
       "      <td>184535</td>\n",
       "      <td>116.0</td>\n",
       "      <td>11</td>\n",
       "      <td>0.0</td>\n",
       "      <td>0.0</td>\n",
       "      <td>0.0</td>\n",
       "      <td>125</td>\n",
       "      <td>10.0</td>\n",
       "      <td>0.0</td>\n",
       "      <td>...</td>\n",
       "      <td>2322.0</td>\n",
       "      <td>2.0</td>\n",
       "      <td>2944.0</td>\n",
       "      <td>34500.0</td>\n",
       "      <td>2900.0</td>\n",
       "      <td>30.0</td>\n",
       "      <td>13398006.0</td>\n",
       "      <td>4724.0</td>\n",
       "      <td>4548.0</td>\n",
       "      <td>12.0</td>\n",
       "    </tr>\n",
       "    <tr>\n",
       "      <th>91727</th>\n",
       "      <td>149997</td>\n",
       "      <td>147587</td>\n",
       "      <td>60.0</td>\n",
       "      <td>11</td>\n",
       "      <td>1.0</td>\n",
       "      <td>1.0</td>\n",
       "      <td>0.0</td>\n",
       "      <td>90</td>\n",
       "      <td>6.0</td>\n",
       "      <td>0.0</td>\n",
       "      <td>...</td>\n",
       "      <td>2003.0</td>\n",
       "      <td>3.0</td>\n",
       "      <td>2944.0</td>\n",
       "      <td>34500.0</td>\n",
       "      <td>2900.0</td>\n",
       "      <td>30.0</td>\n",
       "      <td>13398006.0</td>\n",
       "      <td>4724.0</td>\n",
       "      <td>4548.0</td>\n",
       "      <td>8.0</td>\n",
       "    </tr>\n",
       "    <tr>\n",
       "      <th>91728</th>\n",
       "      <td>149998</td>\n",
       "      <td>45907</td>\n",
       "      <td>34.0</td>\n",
       "      <td>10</td>\n",
       "      <td>3.0</td>\n",
       "      <td>1.0</td>\n",
       "      <td>0.0</td>\n",
       "      <td>156</td>\n",
       "      <td>15.0</td>\n",
       "      <td>0.0</td>\n",
       "      <td>...</td>\n",
       "      <td>3672.0</td>\n",
       "      <td>1.0</td>\n",
       "      <td>13992.0</td>\n",
       "      <td>92900.0</td>\n",
       "      <td>5200.0</td>\n",
       "      <td>15.0</td>\n",
       "      <td>113034208.0</td>\n",
       "      <td>8248.0</td>\n",
       "      <td>8076.0</td>\n",
       "      <td>15.0</td>\n",
       "    </tr>\n",
       "  </tbody>\n",
       "</table>\n",
       "<p>91729 rows × 39 columns</p>\n",
       "</div>"
      ],
      "text/plain": [
       "       SaleID    name  model  brand  bodyType  fuelType  gearbox  power  \\\n",
       "0           0     736   30.0      6       1.0       0.0      0.0     60   \n",
       "1           2   14874  115.0     15       1.0       0.0      0.0    163   \n",
       "2           4  111080  110.0      5       1.0       0.0      0.0     68   \n",
       "3           5  137642   24.0     10       0.0       1.0      0.0    109   \n",
       "4           6    2402   13.0      4       0.0       0.0      1.0    150   \n",
       "...       ...     ...    ...    ...       ...       ...      ...    ...   \n",
       "91724  149994   43073   42.0      1       1.0       0.0      0.0    122   \n",
       "91725  149995  163978  121.0     10       4.0       0.0      1.0    163   \n",
       "91726  149996  184535  116.0     11       0.0       0.0      0.0    125   \n",
       "91727  149997  147587   60.0     11       1.0       1.0      0.0     90   \n",
       "91728  149998   45907   34.0     10       3.0       1.0      0.0    156   \n",
       "\n",
       "       kilometer notRepairedDamage  ...  used_time  city  brand_amount  \\\n",
       "0           12.5               0.0  ...     4384.0   1.0       10192.0   \n",
       "1           12.5               0.0  ...     4384.0   2.0        1458.0   \n",
       "2            5.0               0.0  ...     1531.0   6.0        4664.0   \n",
       "3           10.0               0.0  ...     2482.0   3.0       13992.0   \n",
       "4           15.0               0.0  ...     6184.0   3.0       16576.0   \n",
       "...          ...               ...  ...        ...   ...           ...   \n",
       "91724        3.0               0.0  ...     1538.0   5.0       13656.0   \n",
       "91725       15.0               0.0  ...     5772.0   4.0       13992.0   \n",
       "91726       10.0               0.0  ...     2322.0   2.0        2944.0   \n",
       "91727        6.0               0.0  ...     2003.0   3.0        2944.0   \n",
       "91728       15.0               0.0  ...     3672.0   1.0       13992.0   \n",
       "\n",
       "       brand_price_max  brand_price_median  brand_price_min  brand_price_sum  \\\n",
       "0              35990.0              1800.0             13.0       36457520.0   \n",
       "1              45000.0              8496.0            100.0       14373814.0   \n",
       "2              31500.0              2300.0             20.0       15414322.0   \n",
       "3              92900.0              5200.0             15.0      113034208.0   \n",
       "4              99999.0              6000.0             12.0      138279072.0   \n",
       "...                ...                 ...              ...              ...   \n",
       "91724          84000.0              6400.0             15.0      124044600.0   \n",
       "91725          92900.0              5200.0             15.0      113034208.0   \n",
       "91726          34500.0              2900.0             30.0       13398006.0   \n",
       "91727          34500.0              2900.0             30.0       13398006.0   \n",
       "91728          92900.0              5200.0             15.0      113034208.0   \n",
       "\n",
       "       brand_price_std  brand_price_average  power_bin  \n",
       "0               4564.0               3576.0        5.0  \n",
       "1               5424.0               9848.0       16.0  \n",
       "2               3344.0               3306.0        6.0  \n",
       "3               8248.0               8076.0       10.0  \n",
       "4               8088.0               8344.0       14.0  \n",
       "...                ...                  ...        ...  \n",
       "91724           8992.0               9080.0       12.0  \n",
       "91725           8248.0               8076.0       16.0  \n",
       "91726           4724.0               4548.0       12.0  \n",
       "91727           4724.0               4548.0        8.0  \n",
       "91728           8248.0               8076.0       15.0  \n",
       "\n",
       "[91729 rows x 39 columns]"
      ]
     },
     "execution_count": 5,
     "metadata": {},
     "output_type": "execute_result"
    }
   ],
   "source": [
    "sample_feature=sample_feature.dropna().replace('-',0).reset_index(drop=True)\n",
    "sample_feature"
   ]
  },
  {
   "cell_type": "code",
   "execution_count": 6,
   "metadata": {},
   "outputs": [
    {
     "data": {
      "text/html": [
       "<div>\n",
       "<style scoped>\n",
       "    .dataframe tbody tr th:only-of-type {\n",
       "        vertical-align: middle;\n",
       "    }\n",
       "\n",
       "    .dataframe tbody tr th {\n",
       "        vertical-align: top;\n",
       "    }\n",
       "\n",
       "    .dataframe thead th {\n",
       "        text-align: right;\n",
       "    }\n",
       "</style>\n",
       "<table border=\"1\" class=\"dataframe\">\n",
       "  <thead>\n",
       "    <tr style=\"text-align: right;\">\n",
       "      <th></th>\n",
       "      <th>SaleID</th>\n",
       "      <th>name</th>\n",
       "      <th>bodyType</th>\n",
       "      <th>fuelType</th>\n",
       "      <th>gearbox</th>\n",
       "      <th>power</th>\n",
       "      <th>kilometer</th>\n",
       "      <th>notRepairedDamage</th>\n",
       "      <th>seller</th>\n",
       "      <th>offerType</th>\n",
       "      <th>...</th>\n",
       "      <th>city</th>\n",
       "      <th>brand_amount</th>\n",
       "      <th>brand_price_max</th>\n",
       "      <th>brand_price_median</th>\n",
       "      <th>brand_price_min</th>\n",
       "      <th>brand_price_sum</th>\n",
       "      <th>brand_price_std</th>\n",
       "      <th>brand_price_average</th>\n",
       "      <th>power_bin</th>\n",
       "      <th>price</th>\n",
       "    </tr>\n",
       "  </thead>\n",
       "  <tbody>\n",
       "    <tr>\n",
       "      <th>0</th>\n",
       "      <td>0</td>\n",
       "      <td>736</td>\n",
       "      <td>1.0</td>\n",
       "      <td>0.0</td>\n",
       "      <td>0.0</td>\n",
       "      <td>60</td>\n",
       "      <td>12.5</td>\n",
       "      <td>0.0</td>\n",
       "      <td>0</td>\n",
       "      <td>0</td>\n",
       "      <td>...</td>\n",
       "      <td>1.0</td>\n",
       "      <td>10192.0</td>\n",
       "      <td>35990.0</td>\n",
       "      <td>1800.0</td>\n",
       "      <td>13.0</td>\n",
       "      <td>36457520.0</td>\n",
       "      <td>4564.0</td>\n",
       "      <td>3576.0</td>\n",
       "      <td>5.0</td>\n",
       "      <td>1850.0</td>\n",
       "    </tr>\n",
       "    <tr>\n",
       "      <th>1</th>\n",
       "      <td>2</td>\n",
       "      <td>14874</td>\n",
       "      <td>1.0</td>\n",
       "      <td>0.0</td>\n",
       "      <td>0.0</td>\n",
       "      <td>163</td>\n",
       "      <td>12.5</td>\n",
       "      <td>0.0</td>\n",
       "      <td>0</td>\n",
       "      <td>0</td>\n",
       "      <td>...</td>\n",
       "      <td>2.0</td>\n",
       "      <td>1458.0</td>\n",
       "      <td>45000.0</td>\n",
       "      <td>8496.0</td>\n",
       "      <td>100.0</td>\n",
       "      <td>14373814.0</td>\n",
       "      <td>5424.0</td>\n",
       "      <td>9848.0</td>\n",
       "      <td>16.0</td>\n",
       "      <td>6222.0</td>\n",
       "    </tr>\n",
       "    <tr>\n",
       "      <th>2</th>\n",
       "      <td>4</td>\n",
       "      <td>111080</td>\n",
       "      <td>1.0</td>\n",
       "      <td>0.0</td>\n",
       "      <td>0.0</td>\n",
       "      <td>68</td>\n",
       "      <td>5.0</td>\n",
       "      <td>0.0</td>\n",
       "      <td>0</td>\n",
       "      <td>0</td>\n",
       "      <td>...</td>\n",
       "      <td>6.0</td>\n",
       "      <td>4664.0</td>\n",
       "      <td>31500.0</td>\n",
       "      <td>2300.0</td>\n",
       "      <td>20.0</td>\n",
       "      <td>15414322.0</td>\n",
       "      <td>3344.0</td>\n",
       "      <td>3306.0</td>\n",
       "      <td>6.0</td>\n",
       "      <td>5200.0</td>\n",
       "    </tr>\n",
       "    <tr>\n",
       "      <th>3</th>\n",
       "      <td>5</td>\n",
       "      <td>137642</td>\n",
       "      <td>0.0</td>\n",
       "      <td>1.0</td>\n",
       "      <td>0.0</td>\n",
       "      <td>109</td>\n",
       "      <td>10.0</td>\n",
       "      <td>0.0</td>\n",
       "      <td>0</td>\n",
       "      <td>0</td>\n",
       "      <td>...</td>\n",
       "      <td>3.0</td>\n",
       "      <td>13992.0</td>\n",
       "      <td>92900.0</td>\n",
       "      <td>5200.0</td>\n",
       "      <td>15.0</td>\n",
       "      <td>113034208.0</td>\n",
       "      <td>8248.0</td>\n",
       "      <td>8076.0</td>\n",
       "      <td>10.0</td>\n",
       "      <td>8000.0</td>\n",
       "    </tr>\n",
       "    <tr>\n",
       "      <th>4</th>\n",
       "      <td>6</td>\n",
       "      <td>2402</td>\n",
       "      <td>0.0</td>\n",
       "      <td>0.0</td>\n",
       "      <td>1.0</td>\n",
       "      <td>150</td>\n",
       "      <td>15.0</td>\n",
       "      <td>0.0</td>\n",
       "      <td>0</td>\n",
       "      <td>0</td>\n",
       "      <td>...</td>\n",
       "      <td>3.0</td>\n",
       "      <td>16576.0</td>\n",
       "      <td>99999.0</td>\n",
       "      <td>6000.0</td>\n",
       "      <td>12.0</td>\n",
       "      <td>138279072.0</td>\n",
       "      <td>8088.0</td>\n",
       "      <td>8344.0</td>\n",
       "      <td>14.0</td>\n",
       "      <td>3500.0</td>\n",
       "    </tr>\n",
       "    <tr>\n",
       "      <th>...</th>\n",
       "      <td>...</td>\n",
       "      <td>...</td>\n",
       "      <td>...</td>\n",
       "      <td>...</td>\n",
       "      <td>...</td>\n",
       "      <td>...</td>\n",
       "      <td>...</td>\n",
       "      <td>...</td>\n",
       "      <td>...</td>\n",
       "      <td>...</td>\n",
       "      <td>...</td>\n",
       "      <td>...</td>\n",
       "      <td>...</td>\n",
       "      <td>...</td>\n",
       "      <td>...</td>\n",
       "      <td>...</td>\n",
       "      <td>...</td>\n",
       "      <td>...</td>\n",
       "      <td>...</td>\n",
       "      <td>...</td>\n",
       "      <td>...</td>\n",
       "    </tr>\n",
       "    <tr>\n",
       "      <th>91724</th>\n",
       "      <td>149994</td>\n",
       "      <td>43073</td>\n",
       "      <td>1.0</td>\n",
       "      <td>0.0</td>\n",
       "      <td>0.0</td>\n",
       "      <td>122</td>\n",
       "      <td>3.0</td>\n",
       "      <td>0.0</td>\n",
       "      <td>0</td>\n",
       "      <td>0</td>\n",
       "      <td>...</td>\n",
       "      <td>5.0</td>\n",
       "      <td>13656.0</td>\n",
       "      <td>84000.0</td>\n",
       "      <td>6400.0</td>\n",
       "      <td>15.0</td>\n",
       "      <td>124044600.0</td>\n",
       "      <td>8992.0</td>\n",
       "      <td>9080.0</td>\n",
       "      <td>12.0</td>\n",
       "      <td>14780.0</td>\n",
       "    </tr>\n",
       "    <tr>\n",
       "      <th>91725</th>\n",
       "      <td>149995</td>\n",
       "      <td>163978</td>\n",
       "      <td>4.0</td>\n",
       "      <td>0.0</td>\n",
       "      <td>1.0</td>\n",
       "      <td>163</td>\n",
       "      <td>15.0</td>\n",
       "      <td>0.0</td>\n",
       "      <td>0</td>\n",
       "      <td>0</td>\n",
       "      <td>...</td>\n",
       "      <td>4.0</td>\n",
       "      <td>13992.0</td>\n",
       "      <td>92900.0</td>\n",
       "      <td>5200.0</td>\n",
       "      <td>15.0</td>\n",
       "      <td>113034208.0</td>\n",
       "      <td>8248.0</td>\n",
       "      <td>8076.0</td>\n",
       "      <td>16.0</td>\n",
       "      <td>5900.0</td>\n",
       "    </tr>\n",
       "    <tr>\n",
       "      <th>91726</th>\n",
       "      <td>149996</td>\n",
       "      <td>184535</td>\n",
       "      <td>0.0</td>\n",
       "      <td>0.0</td>\n",
       "      <td>0.0</td>\n",
       "      <td>125</td>\n",
       "      <td>10.0</td>\n",
       "      <td>0.0</td>\n",
       "      <td>0</td>\n",
       "      <td>0</td>\n",
       "      <td>...</td>\n",
       "      <td>2.0</td>\n",
       "      <td>2944.0</td>\n",
       "      <td>34500.0</td>\n",
       "      <td>2900.0</td>\n",
       "      <td>30.0</td>\n",
       "      <td>13398006.0</td>\n",
       "      <td>4724.0</td>\n",
       "      <td>4548.0</td>\n",
       "      <td>12.0</td>\n",
       "      <td>9500.0</td>\n",
       "    </tr>\n",
       "    <tr>\n",
       "      <th>91727</th>\n",
       "      <td>149997</td>\n",
       "      <td>147587</td>\n",
       "      <td>1.0</td>\n",
       "      <td>1.0</td>\n",
       "      <td>0.0</td>\n",
       "      <td>90</td>\n",
       "      <td>6.0</td>\n",
       "      <td>0.0</td>\n",
       "      <td>0</td>\n",
       "      <td>0</td>\n",
       "      <td>...</td>\n",
       "      <td>3.0</td>\n",
       "      <td>2944.0</td>\n",
       "      <td>34500.0</td>\n",
       "      <td>2900.0</td>\n",
       "      <td>30.0</td>\n",
       "      <td>13398006.0</td>\n",
       "      <td>4724.0</td>\n",
       "      <td>4548.0</td>\n",
       "      <td>8.0</td>\n",
       "      <td>7500.0</td>\n",
       "    </tr>\n",
       "    <tr>\n",
       "      <th>91728</th>\n",
       "      <td>149998</td>\n",
       "      <td>45907</td>\n",
       "      <td>3.0</td>\n",
       "      <td>1.0</td>\n",
       "      <td>0.0</td>\n",
       "      <td>156</td>\n",
       "      <td>15.0</td>\n",
       "      <td>0.0</td>\n",
       "      <td>0</td>\n",
       "      <td>0</td>\n",
       "      <td>...</td>\n",
       "      <td>1.0</td>\n",
       "      <td>13992.0</td>\n",
       "      <td>92900.0</td>\n",
       "      <td>5200.0</td>\n",
       "      <td>15.0</td>\n",
       "      <td>113034208.0</td>\n",
       "      <td>8248.0</td>\n",
       "      <td>8076.0</td>\n",
       "      <td>15.0</td>\n",
       "      <td>4999.0</td>\n",
       "    </tr>\n",
       "  </tbody>\n",
       "</table>\n",
       "<p>91729 rows × 37 columns</p>\n",
       "</div>"
      ],
      "text/plain": [
       "       SaleID    name  bodyType  fuelType  gearbox  power  kilometer  \\\n",
       "0           0     736       1.0       0.0      0.0     60       12.5   \n",
       "1           2   14874       1.0       0.0      0.0    163       12.5   \n",
       "2           4  111080       1.0       0.0      0.0     68        5.0   \n",
       "3           5  137642       0.0       1.0      0.0    109       10.0   \n",
       "4           6    2402       0.0       0.0      1.0    150       15.0   \n",
       "...       ...     ...       ...       ...      ...    ...        ...   \n",
       "91724  149994   43073       1.0       0.0      0.0    122        3.0   \n",
       "91725  149995  163978       4.0       0.0      1.0    163       15.0   \n",
       "91726  149996  184535       0.0       0.0      0.0    125       10.0   \n",
       "91727  149997  147587       1.0       1.0      0.0     90        6.0   \n",
       "91728  149998   45907       3.0       1.0      0.0    156       15.0   \n",
       "\n",
       "       notRepairedDamage  seller  offerType  ...  city  brand_amount  \\\n",
       "0                    0.0       0          0  ...   1.0       10192.0   \n",
       "1                    0.0       0          0  ...   2.0        1458.0   \n",
       "2                    0.0       0          0  ...   6.0        4664.0   \n",
       "3                    0.0       0          0  ...   3.0       13992.0   \n",
       "4                    0.0       0          0  ...   3.0       16576.0   \n",
       "...                  ...     ...        ...  ...   ...           ...   \n",
       "91724                0.0       0          0  ...   5.0       13656.0   \n",
       "91725                0.0       0          0  ...   4.0       13992.0   \n",
       "91726                0.0       0          0  ...   2.0        2944.0   \n",
       "91727                0.0       0          0  ...   3.0        2944.0   \n",
       "91728                0.0       0          0  ...   1.0       13992.0   \n",
       "\n",
       "       brand_price_max  brand_price_median  brand_price_min  brand_price_sum  \\\n",
       "0              35990.0              1800.0             13.0       36457520.0   \n",
       "1              45000.0              8496.0            100.0       14373814.0   \n",
       "2              31500.0              2300.0             20.0       15414322.0   \n",
       "3              92900.0              5200.0             15.0      113034208.0   \n",
       "4              99999.0              6000.0             12.0      138279072.0   \n",
       "...                ...                 ...              ...              ...   \n",
       "91724          84000.0              6400.0             15.0      124044600.0   \n",
       "91725          92900.0              5200.0             15.0      113034208.0   \n",
       "91726          34500.0              2900.0             30.0       13398006.0   \n",
       "91727          34500.0              2900.0             30.0       13398006.0   \n",
       "91728          92900.0              5200.0             15.0      113034208.0   \n",
       "\n",
       "       brand_price_std  brand_price_average  power_bin    price  \n",
       "0               4564.0               3576.0        5.0   1850.0  \n",
       "1               5424.0               9848.0       16.0   6222.0  \n",
       "2               3344.0               3306.0        6.0   5200.0  \n",
       "3               8248.0               8076.0       10.0   8000.0  \n",
       "4               8088.0               8344.0       14.0   3500.0  \n",
       "...                ...                  ...        ...      ...  \n",
       "91724           8992.0               9080.0       12.0  14780.0  \n",
       "91725           8248.0               8076.0       16.0   5900.0  \n",
       "91726           4724.0               4548.0       12.0   9500.0  \n",
       "91727           4724.0               4548.0        8.0   7500.0  \n",
       "91728           8248.0               8076.0       15.0   4999.0  \n",
       "\n",
       "[91729 rows x 37 columns]"
      ]
     },
     "execution_count": 6,
     "metadata": {},
     "output_type": "execute_result"
    }
   ],
   "source": [
    "sample_feature['notRepairedDamage']=sample_feature['notRepairedDamage'].astype(np.float32)\n",
    "train=sample_feature[continuous_feature_names+['price']]\n",
    "train"
   ]
  },
  {
   "cell_type": "code",
   "execution_count": 7,
   "metadata": {},
   "outputs": [],
   "source": [
    "train_X=train[continuous_feature_names]\n",
    "train_y=train['price']"
   ]
  },
  {
   "cell_type": "markdown",
   "metadata": {},
   "source": [
    "### 2.1简单建模"
   ]
  },
  {
   "cell_type": "code",
   "execution_count": 8,
   "metadata": {},
   "outputs": [],
   "source": [
    "from sklearn.linear_model import LinearRegression"
   ]
  },
  {
   "cell_type": "code",
   "execution_count": 9,
   "metadata": {},
   "outputs": [],
   "source": [
    "model=LinearRegression(normalize=True)"
   ]
  },
  {
   "cell_type": "code",
   "execution_count": 10,
   "metadata": {},
   "outputs": [],
   "source": [
    "model=model.fit(train_X,train_y)"
   ]
  },
  {
   "cell_type": "markdown",
   "metadata": {},
   "source": [
    "- 查看训练的线性回归模型的截距(intercept) 与 权重(coef)"
   ]
  },
  {
   "cell_type": "code",
   "execution_count": 11,
   "metadata": {},
   "outputs": [
    {
     "data": {
      "text/plain": [
       "[('v_6', 3367064.341641892),\n",
       " ('v_8', 700675.5609398823),\n",
       " ('v_9', 170630.27723221408),\n",
       " ('v_7', 32322.661932028997),\n",
       " ('v_12', 20473.67079693847),\n",
       " ('v_3', 17868.07954148356),\n",
       " ('v_11', 11474.938996687828),\n",
       " ('v_13', 11261.764560010604),\n",
       " ('v_10', 2683.920090598847),\n",
       " ('gearbox', 881.8225039248246),\n",
       " ('fuelType', 363.90425072142494),\n",
       " ('bodyType', 189.6027101207286),\n",
       " ('city', 44.94975120522865),\n",
       " ('power', 28.55390161675519),\n",
       " ('brand_price_median', 0.5103728134078794),\n",
       " ('brand_price_std', 0.450363470926305),\n",
       " ('brand_amount', 0.14881120395066075),\n",
       " ('brand_price_max', 0.003191018670312298),\n",
       " ('SaleID', 5.355989919861131e-05),\n",
       " ('train', -1.1175870895385742e-08),\n",
       " ('seller', -2.7040368877351284e-07),\n",
       " ('offerType', -1.6549602150917053e-06),\n",
       " ('brand_price_sum', -2.1750068681876853e-05),\n",
       " ('name', -0.00029800127130892476),\n",
       " ('used_time', -0.002515894332847369),\n",
       " ('brand_price_average', -0.40490484510111163),\n",
       " ('brand_price_min', -2.2467753486889808),\n",
       " ('power_bin', -34.420644117288994),\n",
       " ('v_14', -274.7841180773543),\n",
       " ('kilometer', -372.8975266607124),\n",
       " ('notRepairedDamage', -495.19038446288465),\n",
       " ('v_0', -2045.0549573540604),\n",
       " ('v_5', -11022.98624052668),\n",
       " ('v_4', -15121.73110985371),\n",
       " ('v_2', -26098.29992050254),\n",
       " ('v_1', -45556.189297266676)]"
      ]
     },
     "execution_count": 11,
     "metadata": {},
     "output_type": "execute_result"
    }
   ],
   "source": [
    "'intercept:'+str(model.intercept_)\n",
    "sorted(dict(zip(continuous_feature_names,model.coef_)).items(),key=lambda x:x[1],reverse=True)\n"
   ]
  },
  {
   "cell_type": "code",
   "execution_count": 12,
   "metadata": {},
   "outputs": [],
   "source": [
    "import matplotlib.pyplot as plt"
   ]
  },
  {
   "cell_type": "code",
   "execution_count": 13,
   "metadata": {},
   "outputs": [],
   "source": [
    "subsample_index=np.random.randint(low=0,high=len(train_y),size=50)\n"
   ]
  },
  {
   "cell_type": "markdown",
   "metadata": {},
   "source": [
    "- 绘制特征v_9的值与标签的散点图，图片发现模型的预测结果(蓝色点)与真实标签(黑色点)的分布差异较大，且部分预测值出现了小于0的情况，说明我们的模型存在一些问题"
   ]
  },
  {
   "cell_type": "code",
   "execution_count": 14,
   "metadata": {},
   "outputs": [
    {
     "name": "stdout",
     "output_type": "stream",
     "text": [
      "The predicted price is obvious different from true price\n"
     ]
    },
    {
     "data": {
      "image/png": "[encoded data removed]",
      "text/plain": [
       "<Figure size 432x288 with 1 Axes>"
      ]
     },
     "metadata": {
      "needs_background": "light"
     },
     "output_type": "display_data"
    }
   ],
   "source": [
    "plt.scatter(train_X['v_9'][subsample_index],train_y[subsample_index],color='black')\n",
    "plt.scatter(train_X['v_9'][subsample_index],model.predict(train_X.loc[subsample_index]),color='blue')\n",
    "plt.xlabel('v_9')\n",
    "plt.ylabel('price')\n",
    "plt.legend(['True Price','Predicted Price'],loc='upper right')\n",
    "print('The predicted price is obvious different from true price')\n",
    "plt.show()\n"
   ]
  },
  {
   "cell_type": "markdown",
   "metadata": {},
   "source": [
    "- 通过作图发现数据的标签(price)呈现长尾分布，不利于我们的建模预测。原因是很多模型都假设数据误差项符合正态分布，而长尾分布的数据违背了这一假设。参考https://blog.csdn.net/Noob_daniel/article/details/76087829"
   ]
  },
  {
   "cell_type": "code",
   "execution_count": 15,
   "metadata": {},
   "outputs": [
    {
     "name": "stdout",
     "output_type": "stream",
     "text": [
      "It is clear to see the price shows a typical exponential distribution\n"
     ]
    },
    {
     "data": {
      "text/plain": [
       "<AxesSubplot:xlabel='price', ylabel='Density'>"
      ]
     },
     "execution_count": 15,
     "metadata": {},
     "output_type": "execute_result"
    },
    {
     "data": {
      "image/png": "[encoded data removed]",
      "text/plain": [
       "<Figure size 1080x360 with 2 Axes>"
      ]
     },
     "metadata": {
      "needs_background": "light"
     },
     "output_type": "display_data"
    }
   ],
   "source": [
    "import seaborn as sns\n",
    "print('It is clear to see the price shows a typical exponential distribution')\n",
    "plt.figure(figsize=(15,5))\n",
    "plt.subplot(1,2,1)\n",
    "sns.distplot(train_y)\n",
    "plt.subplot(1,2,2)\n",
    "plt.subplot(1,2,2)\n",
    "sns.distplot(train_y[train_y< np.quantile(train_y,0.9)])"
   ]
  },
  {
   "cell_type": "markdown",
   "metadata": {},
   "source": [
    "- 对标签进行log(x+1)变换，使标签贴于正态分布"
   ]
  },
  {
   "cell_type": "code",
   "execution_count": 16,
   "metadata": {},
   "outputs": [],
   "source": [
    "train_y_ln=np.log(train_y+1)"
   ]
  },
  {
   "cell_type": "code",
   "execution_count": 17,
   "metadata": {},
   "outputs": [
    {
     "name": "stdout",
     "output_type": "stream",
     "text": [
      "The transformed price seems like normal distribution\n"
     ]
    },
    {
     "data": {
      "text/plain": [
       "<AxesSubplot:xlabel='price', ylabel='Density'>"
      ]
     },
     "execution_count": 17,
     "metadata": {},
     "output_type": "execute_result"
    },
    {
     "data": {
      "image/png": "[encoded data removed]",
      "text/plain": [
       "<Figure size 1080x360 with 2 Axes>"
      ]
     },
     "metadata": {
      "needs_background": "light"
     },
     "output_type": "display_data"
    }
   ],
   "source": [
    "import seaborn as sns\n",
    "print('The transformed price seems like normal distribution')\n",
    "plt.figure(figsize=(15,5))\n",
    "plt.subplot(1,2,1)\n",
    "sns.distplot(train_y_ln)\n",
    "plt.subplot(1,2,2)\n",
    "sns.distplot(train_y_ln[train_y_ln<np.quantile(train_y_ln,0.9)])\n"
   ]
  },
  {
   "cell_type": "code",
   "execution_count": 18,
   "metadata": {},
   "outputs": [
    {
     "name": "stdout",
     "output_type": "stream",
     "text": [
      "intercept:18.750748443071927\n"
     ]
    },
    {
     "data": {
      "text/plain": [
       "[('v_9', 8.052410408820528),\n",
       " ('v_5', 5.764240780393877),\n",
       " ('v_12', 1.6182060982410218),\n",
       " ('v_1', 1.4798310645468737),\n",
       " ('v_11', 1.1669004173577484),\n",
       " ('v_13', 0.9404706327193165),\n",
       " ('v_7', 0.7137281645197678),\n",
       " ('v_3', 0.6837863827346422),\n",
       " ('v_0', 0.008500505209697827),\n",
       " ('power_bin', 0.008497968353528448),\n",
       " ('gearbox', 0.00792237834328176),\n",
       " ('fuelType', 0.006684768936309473),\n",
       " ('bodyType', 0.004523520651790168),\n",
       " ('power', 0.0007161895389360851),\n",
       " ('brand_price_min', 3.3343545289874285e-05),\n",
       " ('brand_amount', 2.897880289492172e-06),\n",
       " ('brand_price_median', 1.257118777103227e-06),\n",
       " ('brand_price_std', 6.659170007172458e-07),\n",
       " ('brand_price_max', 6.194957302457953e-07),\n",
       " ('brand_price_average', 5.999348706699067e-07),\n",
       " ('SaleID', 2.1194159119233293e-08),\n",
       " ('train', -1.1368683772161603e-13),\n",
       " ('seller', -9.741540907270974e-12),\n",
       " ('offerType', -3.8966163629083894e-11),\n",
       " ('brand_price_sum', -1.5126514245674454e-10),\n",
       " ('name', -7.015511195835873e-08),\n",
       " ('used_time', -4.122477016271897e-06),\n",
       " ('city', -0.0022187837096158207),\n",
       " ('v_14', -0.004234189820662731),\n",
       " ('kilometer', -0.013835867353557692),\n",
       " ('notRepairedDamage', -0.27027942480393646),\n",
       " ('v_4', -0.8315697362910923),\n",
       " ('v_2', -0.947082126774979),\n",
       " ('v_10', -1.6261468392031881),\n",
       " ('v_8', -40.34300817115415),\n",
       " ('v_6', -238.79035497319535)]"
      ]
     },
     "execution_count": 18,
     "metadata": {},
     "output_type": "execute_result"
    }
   ],
   "source": [
    "model=model.fit(train_X,train_y_ln)\n",
    "\n",
    "print('intercept:'+str(model.intercept_))\n",
    "sorted(dict(zip(continuous_feature_names,model.coef_)).items(),key=lambda x:x[1],reverse=True)\n"
   ]
  },
  {
   "cell_type": "markdown",
   "metadata": {},
   "source": [
    "- 再次进行可视化，发现预测结果与真实值较为接近，且未出现异常状况"
   ]
  },
  {
   "cell_type": "code",
   "execution_count": 19,
   "metadata": {},
   "outputs": [
    {
     "name": "stdout",
     "output_type": "stream",
     "text": [
      "The predicted price seems normal after np.log transforming\n"
     ]
    },
    {
     "data": {
      "image/png": "[encoded data removed]",
      "text/plain": [
       "<Figure size 432x288 with 1 Axes>"
      ]
     },
     "metadata": {
      "needs_background": "light"
     },
     "output_type": "display_data"
    }
   ],
   "source": [
    "plt.scatter(train_X['v_9'][subsample_index],train_y[subsample_index],color='black')\n",
    "plt.scatter(train_X['v_9'][subsample_index],np.exp(model.predict(train_X.loc[subsample_index])),color='blue')\n",
    "plt.xlabel('v_9')\n",
    "plt.ylabel('price')\n",
    "plt.legend(['True Price','Predicted Price'],loc='upper right')\n",
    "print('The predicted price seems normal after np.log transforming')\n",
    "plt.show()"
   ]
  },
  {
   "cell_type": "markdown",
   "metadata": {},
   "source": [
    "### 2.2五折交叉验证"
   ]
  },
  {
   "cell_type": "markdown",
   "metadata": {},
   "source": [
    "- 在使用训练集在参数进行训练的时候，经常会发现人们通常会将一整个训练集分成三个部分，一般分为:训练集(train_set),评估集(valid_set)，测试集(test_set)这三个部分。这其实是为了保证训练效果而特意设置的。其中测试集很好理解，其实就是完全不参与训练的数据，仅仅用来观测测试效果的数据。而训练集和评估集则牵涉到下面的知识了。\n",
    "\n",
    "- 因为在实际的训练中，训练的结果对于训练集的拟合程度通常还是挺好的（初始条件敏感），但是对于训练集之外的数据的拟合程度通常就不那么令人满意了。因此我们通常并不会把所有的数据集都拿来训练，而是分出一部分来（这一部分不参加训练）对训练集生成的参数进行测试，相对客观的判断这些参数对训练集之外的数据的符合程度。这种思想就称为交叉验证（Cross Validation）"
   ]
  },
  {
   "cell_type": "code",
   "execution_count": 20,
   "metadata": {},
   "outputs": [],
   "source": [
    "from sklearn.model_selection import cross_val_score\n",
    "from sklearn.metrics import mean_absolute_error,make_scorer"
   ]
  },
  {
   "cell_type": "code",
   "execution_count": 21,
   "metadata": {},
   "outputs": [],
   "source": [
    "def log_transfer(func):\n",
    "    def wrapper(y,yhat):\n",
    "        result=func(np.log(y),np.nan_to_num(np.log(yhat)))\n",
    "        return result\n",
    "    return wrapper\n",
    "        "
   ]
  },
  {
   "cell_type": "code",
   "execution_count": 22,
   "metadata": {},
   "outputs": [
    {
     "name": "stderr",
     "output_type": "stream",
     "text": [
      "[Parallel(n_jobs=1)]: Using backend SequentialBackend with 1 concurrent workers.\n",
      "[Parallel(n_jobs=1)]: Done   5 out of   5 | elapsed:    1.1s finished\n"
     ]
    }
   ],
   "source": [
    "scores=cross_val_score(model,X=train_X,y=train_y,verbose=1,cv=5,scoring=make_scorer(log_transfer(mean_absolute_error)))\n"
   ]
  },
  {
   "cell_type": "markdown",
   "metadata": {},
   "source": [
    "- 使用线性回归模型，对未处理标签的特征数据进行五折交叉验证(Error 1.36)"
   ]
  },
  {
   "cell_type": "code",
   "execution_count": 23,
   "metadata": {},
   "outputs": [
    {
     "name": "stdout",
     "output_type": "stream",
     "text": [
      "AVG: 1.3658024027748699\n"
     ]
    }
   ],
   "source": [
    "print('AVG:',np.mean(scores))"
   ]
  },
  {
   "cell_type": "markdown",
   "metadata": {},
   "source": [
    "- 使用线性回归模型，对处理标签的特征数据进行五折交叉验证(Error 0.19)"
   ]
  },
  {
   "cell_type": "code",
   "execution_count": 24,
   "metadata": {},
   "outputs": [
    {
     "data": {
      "text/html": [
       "<div>\n",
       "<style scoped>\n",
       "    .dataframe tbody tr th:only-of-type {\n",
       "        vertical-align: middle;\n",
       "    }\n",
       "\n",
       "    .dataframe tbody tr th {\n",
       "        vertical-align: top;\n",
       "    }\n",
       "\n",
       "    .dataframe thead th {\n",
       "        text-align: right;\n",
       "    }\n",
       "</style>\n",
       "<table border=\"1\" class=\"dataframe\">\n",
       "  <thead>\n",
       "    <tr style=\"text-align: right;\">\n",
       "      <th></th>\n",
       "      <th>cv1</th>\n",
       "      <th>cv2</th>\n",
       "      <th>cv3</th>\n",
       "      <th>cv4</th>\n",
       "      <th>cv5</th>\n",
       "    </tr>\n",
       "  </thead>\n",
       "  <tbody>\n",
       "    <tr>\n",
       "      <th>MAE</th>\n",
       "      <td>1.348304</td>\n",
       "      <td>1.36349</td>\n",
       "      <td>1.380712</td>\n",
       "      <td>1.378401</td>\n",
       "      <td>1.358105</td>\n",
       "    </tr>\n",
       "  </tbody>\n",
       "</table>\n",
       "</div>"
      ],
      "text/plain": [
       "          cv1      cv2       cv3       cv4       cv5\n",
       "MAE  1.348304  1.36349  1.380712  1.378401  1.358105"
      ]
     },
     "execution_count": 24,
     "metadata": {},
     "output_type": "execute_result"
    }
   ],
   "source": [
    "scores=pd.DataFrame(scores.reshape(1,-1))\n",
    "scores.columns=['cv'+str(x) for x in range(1,6)]\n",
    "scores.index=['MAE']\n",
    "scores"
   ]
  },
  {
   "cell_type": "markdown",
   "metadata": {},
   "source": [
    "### 2.3 模拟真实业务能力"
   ]
  },
  {
   "cell_type": "markdown",
   "metadata": {},
   "source": [
    "- 但在事实上，由于我们并不具有预知未来的能力，五折交叉验证在某些与时间相关的数据集上反而反映了不真实的情况。通过2018年的二手车价格预测2017年的二手车价格，这显然是不合理的，因此我们还可以采用时间顺序对数据集进行分隔。在本例中，我们选用靠前时间的4/5样本当作训练集，靠后时间的1/5当作验证集，最终结果与五折交叉验证差距不大"
   ]
  },
  {
   "cell_type": "code",
   "execution_count": 25,
   "metadata": {},
   "outputs": [],
   "source": [
    "import datetime"
   ]
  },
  {
   "cell_type": "code",
   "execution_count": 26,
   "metadata": {},
   "outputs": [],
   "source": [
    "sample_feature=sample_feature.reset_index(drop=True)\n"
   ]
  },
  {
   "cell_type": "code",
   "execution_count": 27,
   "metadata": {},
   "outputs": [],
   "source": [
    "split_point=len(sample_feature)//5*4"
   ]
  },
  {
   "cell_type": "code",
   "execution_count": 28,
   "metadata": {},
   "outputs": [],
   "source": [
    "train=sample_feature.loc[:split_point].dropna()\n",
    "val=sample_feature.loc[split_point:].dropna()\n",
    "\n",
    "train_X=train[continuous_feature_names]\n",
    "train_y_ln=np.log(train['price']+1)\n",
    "val_X=val[continuous_feature_names]\n",
    "val_y_ln=np.log(val['price']+1)"
   ]
  },
  {
   "cell_type": "code",
   "execution_count": 29,
   "metadata": {},
   "outputs": [],
   "source": [
    "model=model.fit(train_X,train_y_ln)"
   ]
  },
  {
   "cell_type": "code",
   "execution_count": 30,
   "metadata": {},
   "outputs": [
    {
     "data": {
      "text/plain": [
       "0.1957766722947121"
      ]
     },
     "execution_count": 30,
     "metadata": {},
     "output_type": "execute_result"
    }
   ],
   "source": [
    "mean_absolute_error(val_y_ln,model.predict(val_X))"
   ]
  },
  {
   "cell_type": "markdown",
   "metadata": {},
   "source": [
    "### 2.4 绘制学习率曲线与验证曲线"
   ]
  },
  {
   "cell_type": "code",
   "execution_count": 31,
   "metadata": {},
   "outputs": [],
   "source": [
    "from sklearn.model_selection import learning_curve,validation_curve"
   ]
  },
  {
   "cell_type": "code",
   "execution_count": 32,
   "metadata": {},
   "outputs": [],
   "source": [
    "def plot_learning_curve(estimator,title,X,y,ylim=None,cv=None,n_jobs=1,train_size=np.linspace(.1,1.0,5)):\n",
    "    plt.figure()\n",
    "    plt.title(title)\n",
    "    if ylim is not None:\n",
    "        plt.ylim(*ylim)\n",
    "    plt.xlabel('Training example')\n",
    "    plt.ylabel('score')\n",
    "    train_sizes,train_scores,test_scores=learning_curve(estimator,X,y,cv=cv,n_jobs=n_jobs,train_sizes=train_size,\n",
    "                                                       scoring=make_scorer(mean_absolute_error))\n",
    "    train_scores_mean=np.mean(train_scores,axis=1)\n",
    "    train_scores_std=np.std(train_scores,axis=1)\n",
    "    test_scores_mean=np.mean(test_scores,axis=1)\n",
    "    test_scores_std=np.std(test_scores,axis=1)\n",
    "    plt.grid()#区域\n",
    "    plt.fill_between(train_sizes,train_scores_mean-train_scores_std,\n",
    "                    train_scores_mean+train_scores_std,alpha=0.1,\n",
    "                    color='r')\n",
    "    plt.fill_between(train_sizes,test_scores_mean-test_scores_std,\n",
    "                    test_scores_mean+test_scores_std,alpha=0.1,\n",
    "                    color='g')\n",
    "    plt.plot(train_sizes,train_scores_mean,'o-',color='r',\n",
    "            label='Training score')\n",
    "    plt.plot(train_sizes,test_scores_mean,'o-',color='g',\n",
    "            label='Cross-validation score')\n",
    "    plt.legend(loc='best')\n",
    "    return plt\n",
    "    "
   ]
  },
  {
   "cell_type": "code",
   "execution_count": 33,
   "metadata": {},
   "outputs": [
    {
     "data": {
      "text/plain": [
       "<module 'matplotlib.pyplot' from '/Library/Frameworks/Python.framework/Versions/3.7/lib/python3.7/site-packages/matplotlib/pyplot.py'>"
      ]
     },
     "execution_count": 33,
     "metadata": {},
     "output_type": "execute_result"
    },
    {
     "data": {
      "image/png": "[encoded data removed]",
      "text/plain": [
       "<Figure size 432x288 with 1 Axes>"
      ]
     },
     "metadata": {
      "needs_background": "light"
     },
     "output_type": "display_data"
    }
   ],
   "source": [
    "plot_learning_curve(LinearRegression(),'Liner_model',train_X[:1000],train_y_ln[:1000],ylim=(0.0,0.5),cv=5,\n",
    "                   n_jobs=1)"
   ]
  },
  {
   "cell_type": "markdown",
   "metadata": {},
   "source": [
    "## 3.多种模型对比"
   ]
  },
  {
   "cell_type": "code",
   "execution_count": 34,
   "metadata": {},
   "outputs": [],
   "source": [
    "train=sample_feature[continuous_feature_names+['price']].dropna()\n",
    "\n",
    "train_X=train[continuous_feature_names]\n",
    "train_y=train['price']\n",
    "train_y_ln=np.log(train_y+1)"
   ]
  },
  {
   "cell_type": "markdown",
   "metadata": {},
   "source": [
    "### 3.1 线性模型&嵌入式特征选择"
   ]
  },
  {
   "cell_type": "markdown",
   "metadata": {},
   "source": [
    "- 在过滤式和包裹式特征选择方法中，特征选择过程与学习器训练过程有明显的分别。而嵌入式特征选择在学习器训练过程中自动地进行特征选择。嵌入式选择最常用的是L1正则化与L2正则化。在对线性回归模型加入两种正则化方法后，他们分别变成了岭回归与Lasso回归"
   ]
  },
  {
   "cell_type": "code",
   "execution_count": 35,
   "metadata": {},
   "outputs": [],
   "source": [
    "from sklearn.linear_model import LinearRegression\n",
    "from sklearn.linear_model import Ridge\n",
    "from sklearn.linear_model import Lasso"
   ]
  },
  {
   "cell_type": "code",
   "execution_count": 36,
   "metadata": {},
   "outputs": [],
   "source": [
    "models=[LinearRegression(),\n",
    "       Ridge(),\n",
    "       Lasso()]"
   ]
  },
  {
   "cell_type": "code",
   "execution_count": 37,
   "metadata": {},
   "outputs": [
    {
     "name": "stdout",
     "output_type": "stream",
     "text": [
      "LinearRegression is finished\n",
      "Ridge is finished\n",
      "Lasso is finished\n"
     ]
    }
   ],
   "source": [
    "result=dict()\n",
    "for model in models:\n",
    "    model_name=str(model).split('(')[0]\n",
    "    scores=cross_val_score(model,X=train_X,y=train_y_ln,verbose=0,cv=5,scoring=make_scorer(mean_absolute_error))\n",
    "    result[model_name]=scores\n",
    "    print(model_name+' is finished')"
   ]
  },
  {
   "cell_type": "markdown",
   "metadata": {},
   "source": [
    "- 对三种方法的效果对比"
   ]
  },
  {
   "cell_type": "code",
   "execution_count": 38,
   "metadata": {},
   "outputs": [
    {
     "data": {
      "text/html": [
       "<div>\n",
       "<style scoped>\n",
       "    .dataframe tbody tr th:only-of-type {\n",
       "        vertical-align: middle;\n",
       "    }\n",
       "\n",
       "    .dataframe tbody tr th {\n",
       "        vertical-align: top;\n",
       "    }\n",
       "\n",
       "    .dataframe thead th {\n",
       "        text-align: right;\n",
       "    }\n",
       "</style>\n",
       "<table border=\"1\" class=\"dataframe\">\n",
       "  <thead>\n",
       "    <tr style=\"text-align: right;\">\n",
       "      <th></th>\n",
       "      <th>LinearRegression</th>\n",
       "      <th>Ridge</th>\n",
       "      <th>Lasso</th>\n",
       "    </tr>\n",
       "  </thead>\n",
       "  <tbody>\n",
       "    <tr>\n",
       "      <th>cv1</th>\n",
       "      <td>0.190792</td>\n",
       "      <td>0.194832</td>\n",
       "      <td>0.383899</td>\n",
       "    </tr>\n",
       "    <tr>\n",
       "      <th>cv2</th>\n",
       "      <td>0.193758</td>\n",
       "      <td>0.197632</td>\n",
       "      <td>0.381893</td>\n",
       "    </tr>\n",
       "    <tr>\n",
       "      <th>cv3</th>\n",
       "      <td>0.194132</td>\n",
       "      <td>0.198123</td>\n",
       "      <td>0.384090</td>\n",
       "    </tr>\n",
       "    <tr>\n",
       "      <th>cv4</th>\n",
       "      <td>0.191825</td>\n",
       "      <td>0.195670</td>\n",
       "      <td>0.380526</td>\n",
       "    </tr>\n",
       "    <tr>\n",
       "      <th>cv5</th>\n",
       "      <td>0.195758</td>\n",
       "      <td>0.199676</td>\n",
       "      <td>0.383611</td>\n",
       "    </tr>\n",
       "  </tbody>\n",
       "</table>\n",
       "</div>"
      ],
      "text/plain": [
       "     LinearRegression     Ridge     Lasso\n",
       "cv1          0.190792  0.194832  0.383899\n",
       "cv2          0.193758  0.197632  0.381893\n",
       "cv3          0.194132  0.198123  0.384090\n",
       "cv4          0.191825  0.195670  0.380526\n",
       "cv5          0.195758  0.199676  0.383611"
      ]
     },
     "execution_count": 38,
     "metadata": {},
     "output_type": "execute_result"
    }
   ],
   "source": [
    "result=pd.DataFrame(result)\n",
    "result.index=['cv'+str(x) for x in range(1,6)]\n",
    "result"
   ]
  },
  {
   "cell_type": "code",
   "execution_count": 39,
   "metadata": {},
   "outputs": [
    {
     "name": "stdout",
     "output_type": "stream",
     "text": [
      "intercept:18.750748443110897\n"
     ]
    },
    {
     "data": {
      "text/plain": [
       "<AxesSubplot:>"
      ]
     },
     "execution_count": 39,
     "metadata": {},
     "output_type": "execute_result"
    },
    {
     "data": {
      "image/png": "[encoded data removed]",
      "text/plain": [
       "<Figure size 432x288 with 1 Axes>"
      ]
     },
     "metadata": {
      "needs_background": "light"
     },
     "output_type": "display_data"
    }
   ],
   "source": [
    "model=LinearRegression().fit(train_X,train_y_ln)\n",
    "print('intercept:'+str(model.intercept_))\n",
    "sns.barplot(abs(model.coef_),continuous_feature_names)"
   ]
  },
  {
   "cell_type": "markdown",
   "metadata": {},
   "source": [
    "- L2正则化在拟合过程中通常都倾向于让权值尽可能小，最后构造一个所有参数都比较小的模型。因为一般认为参数小的模型比较简单，能适应不同的数据集，也在一定程度上避免了过拟合现象。可以设想一下对于一个线性回归方程，若参数很大，那么只要数据偏移一点点，就会对结果造成很大的影响；但如果参数足够小，数据偏移得多一点也不会对结果造成什么影响，专业一点的说法是『抗扰动能力强』"
   ]
  },
  {
   "cell_type": "code",
   "execution_count": 40,
   "metadata": {},
   "outputs": [
    {
     "name": "stdout",
     "output_type": "stream",
     "text": [
      "intercept:4.6717107632438335\n"
     ]
    },
    {
     "data": {
      "text/plain": [
       "<AxesSubplot:>"
      ]
     },
     "execution_count": 40,
     "metadata": {},
     "output_type": "execute_result"
    },
    {
     "data": {
      "image/png": "[encoded data removed]",
      "text/plain": [
       "<Figure size 432x288 with 1 Axes>"
      ]
     },
     "metadata": {
      "needs_background": "light"
     },
     "output_type": "display_data"
    }
   ],
   "source": [
    "model=Ridge().fit(train_X,train_y_ln)\n",
    "print('intercept:'+str(model.intercept_))\n",
    "sns.barplot(abs(model.coef_),continuous_feature_names)"
   ]
  },
  {
   "cell_type": "markdown",
   "metadata": {},
   "source": [
    "- L1正则化有助于生成一个稀疏权值矩阵，进而可以用于特征选择。如下图，我们发现power与userd_time特征非常重要"
   ]
  },
  {
   "cell_type": "code",
   "execution_count": 41,
   "metadata": {},
   "outputs": [
    {
     "name": "stdout",
     "output_type": "stream",
     "text": [
      "intercept:8.672182470075398\n"
     ]
    },
    {
     "data": {
      "text/plain": [
       "<AxesSubplot:>"
      ]
     },
     "execution_count": 41,
     "metadata": {},
     "output_type": "execute_result"
    },
    {
     "data": {
      "image/png": "[encoded data removed]",
      "text/plain": [
       "<Figure size 432x288 with 1 Axes>"
      ]
     },
     "metadata": {
      "needs_background": "light"
     },
     "output_type": "display_data"
    }
   ],
   "source": [
    "model=Lasso().fit(train_X,train_y_ln)\n",
    "print('intercept:'+str(model.intercept_))\n",
    "sns.barplot(abs(model.coef_),continuous_feature_names)"
   ]
  },
  {
   "cell_type": "markdown",
   "metadata": {},
   "source": [
    "- 除此之外，决策树通过信息熵或GINI指数选择分裂节点时，优先选择的分裂特征也更加重要，这同样是一种特征选择的方法。XGBoost与LightGBM模型中的model_importance指标正是基于此计算的"
   ]
  },
  {
   "cell_type": "markdown",
   "metadata": {},
   "source": [
    "### 3.2 非线性模型"
   ]
  },
  {
   "cell_type": "code",
   "execution_count": 42,
   "metadata": {},
   "outputs": [],
   "source": [
    "from sklearn.linear_model import LinearRegression\n",
    "from sklearn.svm import SVC\n",
    "from sklearn.tree import DecisionTreeRegressor\n",
    "from sklearn.ensemble import RandomForestRegressor\n",
    "from sklearn.ensemble import GradientBoostingRegressor\n",
    "from sklearn.neural_network import MLPRegressor\n",
    "from xgboost.sklearn import XGBRegressor\n",
    "from lightgbm.sklearn import LGBMRegressor"
   ]
  },
  {
   "cell_type": "code",
   "execution_count": 45,
   "metadata": {},
   "outputs": [],
   "source": [
    "models = [LinearRegression(),\n",
    "          DecisionTreeRegressor(),\n",
    "          RandomForestRegressor(),\n",
    "          GradientBoostingRegressor(),\n",
    "          MLPRegressor(solver='lbfgs', max_iter=100), \n",
    "          XGBRegressor(n_estimators = 100, objective='reg:squarederror'), \n",
    "          LGBMRegressor(n_estimators = 100)]"
   ]
  },
  {
   "cell_type": "code",
   "execution_count": 46,
   "metadata": {},
   "outputs": [
    {
     "name": "stdout",
     "output_type": "stream",
     "text": [
      "LinearRegression is finished\n",
      "DecisionTreeRegressor is finished\n",
      "RandomForestRegressor is finished\n",
      "GradientBoostingRegressor is finished\n",
      "MLPRegressor is finished\n",
      "XGBRegressor is finished\n",
      "LGBMRegressor is finished\n"
     ]
    }
   ],
   "source": [
    "result = dict()\n",
    "for model in models:\n",
    "    model_name = str(model).split('(')[0]\n",
    "    scores = cross_val_score(model, X=train_X, y=train_y_ln, verbose=0, cv = 5, scoring=make_scorer(mean_absolute_error))\n",
    "    result[model_name] = scores\n",
    "    print(model_name + ' is finished')"
   ]
  },
  {
   "cell_type": "code",
   "execution_count": 47,
   "metadata": {},
   "outputs": [
    {
     "data": {
      "text/html": [
       "<div>\n",
       "<style scoped>\n",
       "    .dataframe tbody tr th:only-of-type {\n",
       "        vertical-align: middle;\n",
       "    }\n",
       "\n",
       "    .dataframe tbody tr th {\n",
       "        vertical-align: top;\n",
       "    }\n",
       "\n",
       "    .dataframe thead th {\n",
       "        text-align: right;\n",
       "    }\n",
       "</style>\n",
       "<table border=\"1\" class=\"dataframe\">\n",
       "  <thead>\n",
       "    <tr style=\"text-align: right;\">\n",
       "      <th></th>\n",
       "      <th>LinearRegression</th>\n",
       "      <th>DecisionTreeRegressor</th>\n",
       "      <th>RandomForestRegressor</th>\n",
       "      <th>GradientBoostingRegressor</th>\n",
       "      <th>MLPRegressor</th>\n",
       "      <th>XGBRegressor</th>\n",
       "      <th>LGBMRegressor</th>\n",
       "    </tr>\n",
       "  </thead>\n",
       "  <tbody>\n",
       "    <tr>\n",
       "      <th>cv1</th>\n",
       "      <td>0.190792</td>\n",
       "      <td>0.196635</td>\n",
       "      <td>0.132585</td>\n",
       "      <td>0.168900</td>\n",
       "      <td>240.343142</td>\n",
       "      <td>0.138350</td>\n",
       "      <td>0.141544</td>\n",
       "    </tr>\n",
       "    <tr>\n",
       "      <th>cv2</th>\n",
       "      <td>0.193758</td>\n",
       "      <td>0.193291</td>\n",
       "      <td>0.134478</td>\n",
       "      <td>0.171831</td>\n",
       "      <td>1360.261647</td>\n",
       "      <td>0.139659</td>\n",
       "      <td>0.145501</td>\n",
       "    </tr>\n",
       "    <tr>\n",
       "      <th>cv3</th>\n",
       "      <td>0.194132</td>\n",
       "      <td>0.189489</td>\n",
       "      <td>0.133415</td>\n",
       "      <td>0.170929</td>\n",
       "      <td>117.555130</td>\n",
       "      <td>0.139739</td>\n",
       "      <td>0.143887</td>\n",
       "    </tr>\n",
       "    <tr>\n",
       "      <th>cv4</th>\n",
       "      <td>0.191825</td>\n",
       "      <td>0.189756</td>\n",
       "      <td>0.132525</td>\n",
       "      <td>0.169056</td>\n",
       "      <td>414.360056</td>\n",
       "      <td>0.137023</td>\n",
       "      <td>0.142497</td>\n",
       "    </tr>\n",
       "    <tr>\n",
       "      <th>cv5</th>\n",
       "      <td>0.195758</td>\n",
       "      <td>0.204117</td>\n",
       "      <td>0.137160</td>\n",
       "      <td>0.174094</td>\n",
       "      <td>374.001872</td>\n",
       "      <td>0.143772</td>\n",
       "      <td>0.144852</td>\n",
       "    </tr>\n",
       "  </tbody>\n",
       "</table>\n",
       "</div>"
      ],
      "text/plain": [
       "     LinearRegression  DecisionTreeRegressor  RandomForestRegressor  \\\n",
       "cv1          0.190792               0.196635               0.132585   \n",
       "cv2          0.193758               0.193291               0.134478   \n",
       "cv3          0.194132               0.189489               0.133415   \n",
       "cv4          0.191825               0.189756               0.132525   \n",
       "cv5          0.195758               0.204117               0.137160   \n",
       "\n",
       "     GradientBoostingRegressor  MLPRegressor  XGBRegressor  LGBMRegressor  \n",
       "cv1                   0.168900    240.343142      0.138350       0.141544  \n",
       "cv2                   0.171831   1360.261647      0.139659       0.145501  \n",
       "cv3                   0.170929    117.555130      0.139739       0.143887  \n",
       "cv4                   0.169056    414.360056      0.137023       0.142497  \n",
       "cv5                   0.174094    374.001872      0.143772       0.144852  "
      ]
     },
     "execution_count": 47,
     "metadata": {},
     "output_type": "execute_result"
    }
   ],
   "source": [
    "result=pd.DataFrame(result)\n",
    "result.index=['cv'+str(x) for x in range(1,6)]\n",
    "result"
   ]
  },
  {
   "cell_type": "markdown",
   "metadata": {},
   "source": [
    "- 可以看到随机森林模型在每一个fold中均取得了更好的效果"
   ]
  },
  {
   "cell_type": "markdown",
   "metadata": {},
   "source": [
    "## 4.模型调参"
   ]
  },
  {
   "cell_type": "markdown",
   "metadata": {},
   "source": [
    "- 贪心算法 https://www.jianshu.com/p/ab89df9759c8\n",
    "- 网格调参 https://blog.csdn.net/weixin_43172660/article/details/83032029\n",
    "- 贝叶斯调参 https://blog.csdn.net/linxid/article/details/81189154"
   ]
  },
  {
   "cell_type": "code",
   "execution_count": 49,
   "metadata": {},
   "outputs": [],
   "source": [
    "## LGB的参数集合\n",
    "\n",
    "objective=['regression','regression_l1','mape','huber','fair']\n",
    "\n",
    "num_leaves=[3,5,10,15,20,40,55]\n",
    "max_depth=[3,5,10,15,40,55]\n",
    "bagging_fraction=[]\n",
    "feature_fraction=[]\n",
    "drop_rate=[]"
   ]
  },
  {
   "cell_type": "markdown",
   "metadata": {},
   "source": [
    "### 4.1 贪心调参"
   ]
  },
  {
   "cell_type": "code",
   "execution_count": 50,
   "metadata": {},
   "outputs": [],
   "source": [
    "best_obj=dict()\n",
    "for obj in objective:\n",
    "    model=LGBMRegressor(objective=obj)\n",
    "    score=np.mean(cross_val_score(model,X=train_X,y=train_y_ln,verbose=0,cv=5,scoring=make_scorer(mean_absolute_error)))\n",
    "    best_obj[obj]=score\n",
    "    \n",
    "best_leaves=dict()\n",
    "for leaves in num_leaves:\n",
    "    model=LGBMRegressor(objective=min(best_obj.items(),key=lambda x:x[1])[0],num_leaves=leaves)\n",
    "    score=np.mean(cross_val_score(model,X=train_X,y=train_y_ln,verbose=0,cv=5,scoring=make_scorer(mean_absolute_error)))\n",
    "    best_leaves[leaves]=score\n",
    "    \n",
    "    \n",
    "best_depth=dict()\n",
    "for depth in max_depth:\n",
    "    model=LGBMRegressor(objective=min(best_obj.items(),key=lambda x:x[1])[0],\n",
    "                       num_leaves=min(best_leaves.items(),key=lambda x:x[1])[0],\n",
    "                       max_depth=depth)\n",
    "    score=np.mean(cross_val_score(model,X=train_X,y=train_y_ln,verbose=0,cv=5,scoring=make_scorer(mean_absolute_error)))\n",
    "    best_depth[depth]=score\n",
    "    \n",
    "    "
   ]
  },
  {
   "cell_type": "code",
   "execution_count": 51,
   "metadata": {},
   "outputs": [
    {
     "data": {
      "text/plain": [
       "<AxesSubplot:>"
      ]
     },
     "execution_count": 51,
     "metadata": {},
     "output_type": "execute_result"
    },
    {
     "data": {
      "image/png": "[encoded data removed]",
      "text/plain": [
       "<Figure size 432x288 with 1 Axes>"
      ]
     },
     "metadata": {
      "needs_background": "light"
     },
     "output_type": "display_data"
    }
   ],
   "source": [
    "sns.lineplot(x=['0_initial','1_turning_obj','2_turning_leaves','3_turning_depth'],y=[0.143,min(best_obj.values()),\n",
    "                                                                                    min(best_leaves.values()),\n",
    "                                                                                    min(best_depth.values())])\n"
   ]
  },
  {
   "cell_type": "markdown",
   "metadata": {},
   "source": [
    "### 4.2 Grid Search 调参"
   ]
  },
  {
   "cell_type": "code",
   "execution_count": 52,
   "metadata": {},
   "outputs": [],
   "source": [
    "from sklearn.model_selection import GridSearchCV"
   ]
  },
  {
   "cell_type": "code",
   "execution_count": 54,
   "metadata": {},
   "outputs": [],
   "source": [
    "parameters={'objective':objective,'num_leaves':num_leaves,'max_depth':max_depth}\n",
    "model=LGBMRegressor()\n",
    "clf=GridSearchCV(model,parameters,cv=5)\n",
    "clf=clf.fit(train_X,train_y)"
   ]
  },
  {
   "cell_type": "code",
   "execution_count": 55,
   "metadata": {},
   "outputs": [
    {
     "data": {
      "text/plain": [
       "{'max_depth': 15, 'num_leaves': 55, 'objective': 'regression'}"
      ]
     },
     "execution_count": 55,
     "metadata": {},
     "output_type": "execute_result"
    }
   ],
   "source": [
    "clf.best_params_"
   ]
  },
  {
   "cell_type": "code",
   "execution_count": 56,
   "metadata": {},
   "outputs": [],
   "source": [
    "model=LGBMRegressor(objective='regression',\n",
    "                   num_leaves=55,\n",
    "                   max_depth=15)"
   ]
  },
  {
   "cell_type": "code",
   "execution_count": 57,
   "metadata": {},
   "outputs": [
    {
     "data": {
      "text/plain": [
       "0.13754833131833258"
      ]
     },
     "execution_count": 57,
     "metadata": {},
     "output_type": "execute_result"
    }
   ],
   "source": [
    "np.mean(cross_val_score(model,X=train_X,y=train_y_ln,verbose=0,cv=5,scoring=make_scorer(mean_absolute_error)))\n"
   ]
  },
  {
   "cell_type": "markdown",
   "metadata": {},
   "source": [
    "### 4.3贝叶斯调参"
   ]
  },
  {
   "cell_type": "code",
   "execution_count": 59,
   "metadata": {},
   "outputs": [],
   "source": [
    "from bayes_opt import BayesianOptimization"
   ]
  },
  {
   "cell_type": "code",
   "execution_count": 60,
   "metadata": {},
   "outputs": [],
   "source": [
    "def rf_cv(num_leaves,max_depth,subsample,min_child_samples):\n",
    "    val=cross_val_score(\n",
    "    LGBMRegressor(objective='regression_l1',\n",
    "                 num_leaves=int(num_leaves),\n",
    "                 max_depth=int(max_depth),\n",
    "                 subsample=subsample,\n",
    "                 min_child_samples=int(min_child_samples)),\n",
    "    X=train_X,y=train_y_ln,verbose=0,cv=5,scoring=make_scorer(mean_absolute_error)).mean()\n",
    "    return 1-val"
   ]
  },
  {
   "cell_type": "code",
   "execution_count": 61,
   "metadata": {},
   "outputs": [],
   "source": [
    "rf_bo=BayesianOptimization(\n",
    "    rf_cv,\n",
    "    {\n",
    "        'num_leaves':(2,100),\n",
    "        'max_depth':(2,100),\n",
    "        'subsample':(0.1,1),\n",
    "        'min_child_samples':(2,100)\n",
    "    }\n",
    ")"
   ]
  },
  {
   "cell_type": "code",
   "execution_count": 62,
   "metadata": {},
   "outputs": [
    {
     "name": "stdout",
     "output_type": "stream",
     "text": [
      "|   iter    |  target   | max_depth | min_ch... | num_le... | subsample |\n",
      "-------------------------------------------------------------------------\n",
      "| \u001b[0m 1       \u001b[0m | \u001b[0m 0.8344  \u001b[0m | \u001b[0m 61.19   \u001b[0m | \u001b[0m 27.5    \u001b[0m | \u001b[0m 8.765   \u001b[0m | \u001b[0m 0.9401  \u001b[0m |\n",
      "| \u001b[95m 2       \u001b[0m | \u001b[95m 0.8555  \u001b[0m | \u001b[95m 53.2    \u001b[0m | \u001b[95m 34.0    \u001b[0m | \u001b[95m 26.36   \u001b[0m | \u001b[95m 0.4393  \u001b[0m |\n",
      "| \u001b[95m 3       \u001b[0m | \u001b[95m 0.8648  \u001b[0m | \u001b[95m 82.86   \u001b[0m | \u001b[95m 55.68   \u001b[0m | \u001b[95m 58.23   \u001b[0m | \u001b[95m 0.6367  \u001b[0m |\n",
      "| \u001b[0m 4       \u001b[0m | \u001b[0m 0.7719  \u001b[0m | \u001b[0m 58.56   \u001b[0m | \u001b[0m 67.39   \u001b[0m | \u001b[0m 2.232   \u001b[0m | \u001b[0m 0.8696  \u001b[0m |\n",
      "| \u001b[0m 5       \u001b[0m | \u001b[0m 0.8373  \u001b[0m | \u001b[0m 67.84   \u001b[0m | \u001b[0m 29.76   \u001b[0m | \u001b[0m 9.328   \u001b[0m | \u001b[0m 0.1605  \u001b[0m |\n",
      "| \u001b[0m 6       \u001b[0m | \u001b[0m 0.8648  \u001b[0m | \u001b[0m 83.44   \u001b[0m | \u001b[0m 57.42   \u001b[0m | \u001b[0m 58.82   \u001b[0m | \u001b[0m 0.1835  \u001b[0m |\n",
      "| \u001b[95m 7       \u001b[0m | \u001b[95m 0.8654  \u001b[0m | \u001b[95m 53.39   \u001b[0m | \u001b[95m 10.4    \u001b[0m | \u001b[95m 63.65   \u001b[0m | \u001b[95m 0.1     \u001b[0m |\n",
      "| \u001b[95m 8       \u001b[0m | \u001b[95m 0.8689  \u001b[0m | \u001b[95m 44.09   \u001b[0m | \u001b[95m 55.48   \u001b[0m | \u001b[95m 92.38   \u001b[0m | \u001b[95m 0.1     \u001b[0m |\n",
      "| \u001b[95m 9       \u001b[0m | \u001b[95m 0.8693  \u001b[0m | \u001b[95m 99.69   \u001b[0m | \u001b[95m 38.4    \u001b[0m | \u001b[95m 100.0   \u001b[0m | \u001b[95m 0.1     \u001b[0m |\n",
      "| \u001b[0m 10      \u001b[0m | \u001b[0m 0.8692  \u001b[0m | \u001b[0m 98.91   \u001b[0m | \u001b[0m 97.77   \u001b[0m | \u001b[0m 99.08   \u001b[0m | \u001b[0m 0.3555  \u001b[0m |\n",
      "| \u001b[0m 11      \u001b[0m | \u001b[0m 0.8062  \u001b[0m | \u001b[0m 2.0     \u001b[0m | \u001b[0m 27.35   \u001b[0m | \u001b[0m 67.5    \u001b[0m | \u001b[0m 0.1     \u001b[0m |\n",
      "| \u001b[0m 12      \u001b[0m | \u001b[0m 0.8638  \u001b[0m | \u001b[0m 100.0   \u001b[0m | \u001b[0m 2.0     \u001b[0m | \u001b[0m 51.5    \u001b[0m | \u001b[0m 0.1     \u001b[0m |\n",
      "| \u001b[95m 13      \u001b[0m | \u001b[95m 0.8695  \u001b[0m | \u001b[95m 50.76   \u001b[0m | \u001b[95m 100.0   \u001b[0m | \u001b[95m 100.0   \u001b[0m | \u001b[95m 0.1     \u001b[0m |\n",
      "| \u001b[0m 14      \u001b[0m | \u001b[0m 0.8692  \u001b[0m | \u001b[0m 77.16   \u001b[0m | \u001b[0m 2.0     \u001b[0m | \u001b[0m 100.0   \u001b[0m | \u001b[0m 1.0     \u001b[0m |\n",
      "| \u001b[0m 15      \u001b[0m | \u001b[0m 0.8062  \u001b[0m | \u001b[0m 2.0     \u001b[0m | \u001b[0m 100.0   \u001b[0m | \u001b[0m 100.0   \u001b[0m | \u001b[0m 1.0     \u001b[0m |\n",
      "| \u001b[0m 16      \u001b[0m | \u001b[0m 0.8693  \u001b[0m | \u001b[0m 73.82   \u001b[0m | \u001b[0m 69.03   \u001b[0m | \u001b[0m 100.0   \u001b[0m | \u001b[0m 1.0     \u001b[0m |\n",
      "| \u001b[0m 17      \u001b[0m | \u001b[0m 0.8666  \u001b[0m | \u001b[0m 71.26   \u001b[0m | \u001b[0m 100.0   \u001b[0m | \u001b[0m 71.22   \u001b[0m | \u001b[0m 1.0     \u001b[0m |\n",
      "| \u001b[0m 18      \u001b[0m | \u001b[0m 0.8694  \u001b[0m | \u001b[0m 61.95   \u001b[0m | \u001b[0m 30.75   \u001b[0m | \u001b[0m 100.0   \u001b[0m | \u001b[0m 0.1     \u001b[0m |\n",
      "| \u001b[0m 19      \u001b[0m | \u001b[0m 0.7719  \u001b[0m | \u001b[0m 100.0   \u001b[0m | \u001b[0m 2.0     \u001b[0m | \u001b[0m 2.0     \u001b[0m | \u001b[0m 0.1     \u001b[0m |\n",
      "| \u001b[0m 20      \u001b[0m | \u001b[0m 0.8678  \u001b[0m | \u001b[0m 100.0   \u001b[0m | \u001b[0m 2.0     \u001b[0m | \u001b[0m 82.93   \u001b[0m | \u001b[0m 0.1     \u001b[0m |\n",
      "| \u001b[0m 21      \u001b[0m | \u001b[0m 0.864   \u001b[0m | \u001b[0m 100.0   \u001b[0m | \u001b[0m 100.0   \u001b[0m | \u001b[0m 53.52   \u001b[0m | \u001b[0m 0.1     \u001b[0m |\n",
      "| \u001b[0m 22      \u001b[0m | \u001b[0m 0.8666  \u001b[0m | \u001b[0m 81.84   \u001b[0m | \u001b[0m 22.31   \u001b[0m | \u001b[0m 69.79   \u001b[0m | \u001b[0m 0.1     \u001b[0m |\n",
      "| \u001b[0m 23      \u001b[0m | \u001b[0m 0.8692  \u001b[0m | \u001b[0m 36.43   \u001b[0m | \u001b[0m 2.0     \u001b[0m | \u001b[0m 100.0   \u001b[0m | \u001b[0m 1.0     \u001b[0m |\n",
      "| \u001b[0m 24      \u001b[0m | \u001b[0m 0.8063  \u001b[0m | \u001b[0m 2.357   \u001b[0m | \u001b[0m 4.041   \u001b[0m | \u001b[0m 9.577   \u001b[0m | \u001b[0m 0.2284  \u001b[0m |\n",
      "| \u001b[0m 25      \u001b[0m | \u001b[0m 0.8683  \u001b[0m | \u001b[0m 100.0   \u001b[0m | \u001b[0m 72.27   \u001b[0m | \u001b[0m 82.03   \u001b[0m | \u001b[0m 1.0     \u001b[0m |\n",
      "| \u001b[0m 26      \u001b[0m | \u001b[0m 0.8628  \u001b[0m | \u001b[0m 100.0   \u001b[0m | \u001b[0m 37.46   \u001b[0m | \u001b[0m 47.43   \u001b[0m | \u001b[0m 0.1     \u001b[0m |\n",
      "| \u001b[0m 27      \u001b[0m | \u001b[0m 0.8613  \u001b[0m | \u001b[0m 69.22   \u001b[0m | \u001b[0m 13.6    \u001b[0m | \u001b[0m 41.69   \u001b[0m | \u001b[0m 0.5494  \u001b[0m |\n",
      "| \u001b[0m 28      \u001b[0m | \u001b[0m 0.8695  \u001b[0m | \u001b[0m 73.87   \u001b[0m | \u001b[0m 100.0   \u001b[0m | \u001b[0m 100.0   \u001b[0m | \u001b[0m 0.1     \u001b[0m |\n",
      "| \u001b[0m 29      \u001b[0m | \u001b[0m 0.867   \u001b[0m | \u001b[0m 53.9    \u001b[0m | \u001b[0m 71.75   \u001b[0m | \u001b[0m 73.62   \u001b[0m | \u001b[0m 0.1     \u001b[0m |\n",
      "| \u001b[0m 30      \u001b[0m | \u001b[0m 0.866   \u001b[0m | \u001b[0m 53.83   \u001b[0m | \u001b[0m 39.85   \u001b[0m | \u001b[0m 67.29   \u001b[0m | \u001b[0m 0.1     \u001b[0m |\n",
      "=========================================================================\n"
     ]
    }
   ],
   "source": [
    "rf_bo.maximize()"
   ]
  },
  {
   "cell_type": "code",
   "execution_count": 64,
   "metadata": {},
   "outputs": [
    {
     "data": {
      "text/plain": [
       "0.1305163668163436"
      ]
     },
     "execution_count": 64,
     "metadata": {},
     "output_type": "execute_result"
    }
   ],
   "source": [
    "1- rf_bo.max['target']"
   ]
  },
  {
   "cell_type": "markdown",
   "metadata": {},
   "source": [
    "# 总结"
   ]
  },
  {
   "cell_type": "markdown",
   "metadata": {},
   "source": [
    "- 在本章中完成了建模与调参的工作，并对模型进行了验证"
   ]
  },
  {
   "cell_type": "code",
   "execution_count": 65,
   "metadata": {},
   "outputs": [
    {
     "data": {
      "text/plain": [
       "<AxesSubplot:>"
      ]
     },
     "execution_count": 65,
     "metadata": {},
     "output_type": "execute_result"
    },
    {
     "data": {
      "image/png": "[encoded data removed]",
      "text/plain": [
       "<Figure size 936x360 with 1 Axes>"
      ]
     },
     "metadata": {
      "needs_background": "light"
     },
     "output_type": "display_data"
    }
   ],
   "source": [
    "plt.figure(figsize=(13,5))\n",
    "sns.lineplot(x=['0_origin','1_log_transfer','2_L1_&_L2','3_change_model','4_parameter_turning'], \n",
    "             y=[1.36 ,0.19, 0.19, 0.14, 0.13])"
   ]
  },
  {
   "cell_type": "code",
   "execution_count": null,
   "metadata": {},
   "outputs": [],
   "source": []
  }
 ],
 "metadata": {
  "kernelspec": {
   "display_name": "Python 3",
   "language": "python",
   "name": "python3"
  },
  "language_info": {
   "codemirror_mode": {
    "name": "ipython",
    "version": 3
   },
   "file_extension": ".py",
   "mimetype": "text/x-python",
   "name": "python",
   "nbconvert_exporter": "python",
   "pygments_lexer": "ipython3",
   "version": "3.7.8"
  }
 },
 "nbformat": 4,
 "nbformat_minor": 4
}
