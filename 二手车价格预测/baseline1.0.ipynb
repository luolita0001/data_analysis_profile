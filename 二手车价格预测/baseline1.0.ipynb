{
 "cells": [
  {
   "cell_type": "markdown",
   "metadata": {},
   "source": [
    "## 1.读取数据"
   ]
  },
  {
   "cell_type": "markdown",
   "metadata": {},
   "source": [
    "## 1.1分类指标评价计算示例"
   ]
  },
  {
   "cell_type": "code",
   "execution_count": null,
   "metadata": {},
   "outputs": [],
   "source": [
    "##accuracy\n",
    "from sklearn.metrics import accuracy_score\n",
    "y_pred=[0,1,0,1]\n",
    "y_true=[0,1,1,1]\n",
    "print('ACC',accuracy_score(y_true,y_pred))\n",
    "print('ACC2',accuracy_score(y_true,y_pred,normalize=False))#返回分类正确的样本数量"
   ]
  },
  {
   "cell_type": "code",
   "execution_count": null,
   "metadata": {},
   "outputs": [],
   "source": [
    "##在二元标签指示符的多标签分类案例\n",
    "print(accuracy_score(np.array([[1,1],[1,0]]),np.ones((2,2))))"
   ]
  },
  {
   "cell_type": "code",
   "execution_count": null,
   "metadata": {},
   "outputs": [],
   "source": [
    "##Precision Recall,F1-score\n",
    "from sklearn import metrics\n",
    "y_pred=[0,1,0,1]\n",
    "y_true=[0,1,1,1]\n",
    "print('Precision',metrics.precision_score(y_true,y_pred))\n",
    "print('Recall',metrics.recall_score(y_true,y_pred))\n",
    "print('F1-score',metrics.f1_score(y_true,y_pred))"
   ]
  },
  {
   "cell_type": "code",
   "execution_count": null,
   "metadata": {},
   "outputs": [],
   "source": [
    "from sklearn import metrics\n",
    "y_pred=[0,1,0,1]\n",
    "y_true=[0,1,1,1]\n",
    "print('Precision',metrics.precision_score(y_true,y_pred,average='macro'))"
   ]
  },
  {
   "cell_type": "code",
   "execution_count": null,
   "metadata": {},
   "outputs": [],
   "source": [
    "##precision:预测为正的样本中实际也为正的样本占被预测为正的样本的比例，TP/(TP+FP)\n",
    "from sklearn.metrics import precision_score\n",
    "\n",
    "y_true=[0,1,2,0,1,2]\n",
    "y_pred=[0,2,1,0,0,1]\n",
    "\n",
    "print(precision_score(y_true,y_pred,average='macro'))#宏平均，结果是每个类别精度的算术平均值\n",
    "print(precision_score(y_true,y_pred,average='micro'))#微平均，对每个样本考虑，预测正确为TP,否则为FP\n",
    "#如果每个类别的样本数量差不多，则宏平均和微平均没有太大差异\n",
    "#如果每个类别的样本数量差异很大，那么注重样本最多的类时使用微平均，注重样本量少的类时使用宏平均\n",
    "#如果微平均大大低于宏平均，则检查样本量多的类来确定指标表现差的原因\n",
    "#如果宏平均大大低于微平均，则检查样本量少的类来确定指标表现差的原因"
   ]
  },
  {
   "cell_type": "code",
   "execution_count": null,
   "metadata": {},
   "outputs": [],
   "source": [
    "##recall(召回率):实际为正的样本中被预测为正的样本所占实际为正的样本的比例，TP/(TP+FN)\n",
    "\n",
    "from sklearn.metrics import recall_score\n",
    "\n",
    "y_true=[0,1,2,0,1,2]\n",
    "y_pred=[0,2,1,0,0,1]\n",
    "print(recall_score(y_true,y_pred,average='macro'))\n",
    "print(recall_score(y_true,y_pred,average='micro'))"
   ]
  },
  {
   "cell_type": "code",
   "execution_count": null,
   "metadata": {},
   "outputs": [],
   "source": [
    "##P-R曲线：横轴是召回率，纵轴是精确率。\n",
    "##F1 score:精确率和召回率的调和平均值\n",
    "\n",
    "from sklearn.metrics import f1_score\n",
    "\n",
    "y_true=[0,1,2,0,1,2]\n",
    "y_pred=[0,2,1,0,0,1]\n",
    "print(f1_score(y_true,y_pred,average='macro'))\n",
    "print(f1_score(y_true,y_pred,average='micro'))\n",
    "print(f1_score(y_true,y_pred,average=None))"
   ]
  },
  {
   "cell_type": "code",
   "execution_count": null,
   "metadata": {},
   "outputs": [],
   "source": [
    "##AUC\n",
    "import numpy as np\n",
    "from sklearn.metrics import roc_auc_score\n",
    "y_true=np.array([0,0,1,1])\n",
    "y_score=np.array([0.1,0.4,0.35,0.8])\n",
    "print('AUC score',roc_auc_score(y_true,y_score))"
   ]
  },
  {
   "cell_type": "markdown",
   "metadata": {},
   "source": [
    "## 1.2 回归指标评价计算示例"
   ]
  },
  {
   "cell_type": "code",
   "execution_count": null,
   "metadata": {},
   "outputs": [],
   "source": [
    "import numpy as np\n",
    "from sklearn import metrics\n",
    "\n",
    "#MAPE需要自己实现\n",
    "def mape(y_true,y_pred):\n",
    "    return np.mean(np.abs((y_pred-y_true)/y_true))\n",
    "\n",
    "y_true=np.array([1,5,4,3,2,5,-3])\n",
    "y_pred=np.array([1,4.5,3.8,3.2,3,4.8,-2.2])\n",
    "\n",
    "#MSE\n",
    "print('MSE',metrics.mean_squared_error(y_true,y_pred))\n",
    "#RMSE\n",
    "print('RMSE',np.sqrt(metrics.mean_squared_error(y_true,y_pred)))\n",
    "#MSE\n",
    "print('MAE',metrics.mean_absolute_error(y_true,y_pred))\n",
    "#MAPE\n",
    "print('MAPE',mape(y_true,y_pred))"
   ]
  },
  {
   "cell_type": "code",
   "execution_count": null,
   "metadata": {},
   "outputs": [],
   "source": [
    "## R2-score\n",
    "from sklearn.metrics import r2_score\n",
    "y_true=[3,-0.5,2,7]\n",
    "y_pred=[2.5,0,2,8]\n",
    "print('R2-score',r2_score(y_true,y_pred))"
   ]
  },
  {
   "cell_type": "markdown",
   "metadata": {},
   "source": [
    "# baseline讲解"
   ]
  },
  {
   "cell_type": "markdown",
   "metadata": {},
   "source": [
    "## 1导入函数工具箱"
   ]
  },
  {
   "cell_type": "code",
   "execution_count": 2,
   "metadata": {},
   "outputs": [],
   "source": [
    "## 基础工具\n",
    "import numpy as np\n",
    "import pandas as pd\n",
    "import warnings\n",
    "import matplotlib.pyplot as plt\n",
    "import seaborn as sns\n",
    "#import scipy.special import jn\n",
    "from IPython.display import display,clear_output\n",
    "import time\n",
    "\n",
    "warnings.filterwarnings('ignore')\n",
    "%matplotlib inline\n",
    "\n",
    "## 模型预测\n",
    "from sklearn import linear_model\n",
    "from sklearn import preprocessing\n",
    "from sklearn.svm import SVR\n",
    "from sklearn.ensemble import RandomForestRegressor,GradientBoostingRegressor\n",
    "\n",
    "## 数据降维处理\n",
    "from sklearn.decomposition import PCA,FastICA,FactorAnalysis,SparsePCA\n",
    "\n",
    "import lightgbm as lgb\n",
    "import xgboost as xgb\n",
    "\n",
    "## 参数搜索和评价的\n",
    "from sklearn.model_selection import GridSearchCV,cross_val_score,StratifiedKFold,train_test_split\n",
    "from sklearn.metrics import mean_squared_error,mean_absolute_error\n"
   ]
  },
  {
   "cell_type": "markdown",
   "metadata": {},
   "source": [
    "## 2.数据读取"
   ]
  },
  {
   "cell_type": "code",
   "execution_count": 3,
   "metadata": {},
   "outputs": [
    {
     "name": "stdout",
     "output_type": "stream",
     "text": [
      "Train data shape: (150000, 31)\n",
      "Test data shape: (50000, 30)\n"
     ]
    }
   ],
   "source": [
    "train_data=pd.read_csv('./used_car_train_20200313.csv',sep=' ')\n",
    "test_data=pd.read_csv('./used_car_testB_20200421.csv',sep=' ')\n",
    "\n",
    "#输出数据的大小信息\n",
    "print('Train data shape:',train_data.shape)\n",
    "print('Test data shape:',test_data.shape)"
   ]
  },
  {
   "cell_type": "markdown",
   "metadata": {},
   "source": [
    "### 1)数据简要浏览"
   ]
  },
  {
   "cell_type": "code",
   "execution_count": 4,
   "metadata": {},
   "outputs": [
    {
     "data": {
      "text/html": [
       "<div>\n",
       "<style scoped>\n",
       "    .dataframe tbody tr th:only-of-type {\n",
       "        vertical-align: middle;\n",
       "    }\n",
       "\n",
       "    .dataframe tbody tr th {\n",
       "        vertical-align: top;\n",
       "    }\n",
       "\n",
       "    .dataframe thead th {\n",
       "        text-align: right;\n",
       "    }\n",
       "</style>\n",
       "<table border=\"1\" class=\"dataframe\">\n",
       "  <thead>\n",
       "    <tr style=\"text-align: right;\">\n",
       "      <th></th>\n",
       "      <th>SaleID</th>\n",
       "      <th>name</th>\n",
       "      <th>regDate</th>\n",
       "      <th>model</th>\n",
       "      <th>brand</th>\n",
       "      <th>bodyType</th>\n",
       "      <th>fuelType</th>\n",
       "      <th>gearbox</th>\n",
       "      <th>power</th>\n",
       "      <th>kilometer</th>\n",
       "      <th>...</th>\n",
       "      <th>v_5</th>\n",
       "      <th>v_6</th>\n",
       "      <th>v_7</th>\n",
       "      <th>v_8</th>\n",
       "      <th>v_9</th>\n",
       "      <th>v_10</th>\n",
       "      <th>v_11</th>\n",
       "      <th>v_12</th>\n",
       "      <th>v_13</th>\n",
       "      <th>v_14</th>\n",
       "    </tr>\n",
       "  </thead>\n",
       "  <tbody>\n",
       "    <tr>\n",
       "      <th>0</th>\n",
       "      <td>0</td>\n",
       "      <td>736</td>\n",
       "      <td>20040402</td>\n",
       "      <td>30.0</td>\n",
       "      <td>6</td>\n",
       "      <td>1.0</td>\n",
       "      <td>0.0</td>\n",
       "      <td>0.0</td>\n",
       "      <td>60</td>\n",
       "      <td>12.5</td>\n",
       "      <td>...</td>\n",
       "      <td>0.235676</td>\n",
       "      <td>0.101988</td>\n",
       "      <td>0.129549</td>\n",
       "      <td>0.022816</td>\n",
       "      <td>0.097462</td>\n",
       "      <td>-2.881803</td>\n",
       "      <td>2.804097</td>\n",
       "      <td>-2.420821</td>\n",
       "      <td>0.795292</td>\n",
       "      <td>0.914762</td>\n",
       "    </tr>\n",
       "    <tr>\n",
       "      <th>1</th>\n",
       "      <td>1</td>\n",
       "      <td>2262</td>\n",
       "      <td>20030301</td>\n",
       "      <td>40.0</td>\n",
       "      <td>1</td>\n",
       "      <td>2.0</td>\n",
       "      <td>0.0</td>\n",
       "      <td>0.0</td>\n",
       "      <td>0</td>\n",
       "      <td>15.0</td>\n",
       "      <td>...</td>\n",
       "      <td>0.264777</td>\n",
       "      <td>0.121004</td>\n",
       "      <td>0.135731</td>\n",
       "      <td>0.026597</td>\n",
       "      <td>0.020582</td>\n",
       "      <td>-4.900482</td>\n",
       "      <td>2.096338</td>\n",
       "      <td>-1.030483</td>\n",
       "      <td>-1.722674</td>\n",
       "      <td>0.245522</td>\n",
       "    </tr>\n",
       "    <tr>\n",
       "      <th>2</th>\n",
       "      <td>2</td>\n",
       "      <td>14874</td>\n",
       "      <td>20040403</td>\n",
       "      <td>115.0</td>\n",
       "      <td>15</td>\n",
       "      <td>1.0</td>\n",
       "      <td>0.0</td>\n",
       "      <td>0.0</td>\n",
       "      <td>163</td>\n",
       "      <td>12.5</td>\n",
       "      <td>...</td>\n",
       "      <td>0.251410</td>\n",
       "      <td>0.114912</td>\n",
       "      <td>0.165147</td>\n",
       "      <td>0.062173</td>\n",
       "      <td>0.027075</td>\n",
       "      <td>-4.846749</td>\n",
       "      <td>1.803559</td>\n",
       "      <td>1.565330</td>\n",
       "      <td>-0.832687</td>\n",
       "      <td>-0.229963</td>\n",
       "    </tr>\n",
       "    <tr>\n",
       "      <th>3</th>\n",
       "      <td>3</td>\n",
       "      <td>71865</td>\n",
       "      <td>19960908</td>\n",
       "      <td>109.0</td>\n",
       "      <td>10</td>\n",
       "      <td>0.0</td>\n",
       "      <td>0.0</td>\n",
       "      <td>1.0</td>\n",
       "      <td>193</td>\n",
       "      <td>15.0</td>\n",
       "      <td>...</td>\n",
       "      <td>0.274293</td>\n",
       "      <td>0.110300</td>\n",
       "      <td>0.121964</td>\n",
       "      <td>0.033395</td>\n",
       "      <td>0.000000</td>\n",
       "      <td>-4.509599</td>\n",
       "      <td>1.285940</td>\n",
       "      <td>-0.501868</td>\n",
       "      <td>-2.438353</td>\n",
       "      <td>-0.478699</td>\n",
       "    </tr>\n",
       "    <tr>\n",
       "      <th>4</th>\n",
       "      <td>4</td>\n",
       "      <td>111080</td>\n",
       "      <td>20120103</td>\n",
       "      <td>110.0</td>\n",
       "      <td>5</td>\n",
       "      <td>1.0</td>\n",
       "      <td>0.0</td>\n",
       "      <td>0.0</td>\n",
       "      <td>68</td>\n",
       "      <td>5.0</td>\n",
       "      <td>...</td>\n",
       "      <td>0.228036</td>\n",
       "      <td>0.073205</td>\n",
       "      <td>0.091880</td>\n",
       "      <td>0.078819</td>\n",
       "      <td>0.121534</td>\n",
       "      <td>-1.896240</td>\n",
       "      <td>0.910783</td>\n",
       "      <td>0.931110</td>\n",
       "      <td>2.834518</td>\n",
       "      <td>1.923482</td>\n",
       "    </tr>\n",
       "  </tbody>\n",
       "</table>\n",
       "<p>5 rows × 31 columns</p>\n",
       "</div>"
      ],
      "text/plain": [
       "   SaleID    name   regDate  model  brand  bodyType  fuelType  gearbox  power  \\\n",
       "0       0     736  20040402   30.0      6       1.0       0.0      0.0     60   \n",
       "1       1    2262  20030301   40.0      1       2.0       0.0      0.0      0   \n",
       "2       2   14874  20040403  115.0     15       1.0       0.0      0.0    163   \n",
       "3       3   71865  19960908  109.0     10       0.0       0.0      1.0    193   \n",
       "4       4  111080  20120103  110.0      5       1.0       0.0      0.0     68   \n",
       "\n",
       "   kilometer  ...       v_5       v_6       v_7       v_8       v_9      v_10  \\\n",
       "0       12.5  ...  0.235676  0.101988  0.129549  0.022816  0.097462 -2.881803   \n",
       "1       15.0  ...  0.264777  0.121004  0.135731  0.026597  0.020582 -4.900482   \n",
       "2       12.5  ...  0.251410  0.114912  0.165147  0.062173  0.027075 -4.846749   \n",
       "3       15.0  ...  0.274293  0.110300  0.121964  0.033395  0.000000 -4.509599   \n",
       "4        5.0  ...  0.228036  0.073205  0.091880  0.078819  0.121534 -1.896240   \n",
       "\n",
       "       v_11      v_12      v_13      v_14  \n",
       "0  2.804097 -2.420821  0.795292  0.914762  \n",
       "1  2.096338 -1.030483 -1.722674  0.245522  \n",
       "2  1.803559  1.565330 -0.832687 -0.229963  \n",
       "3  1.285940 -0.501868 -2.438353 -0.478699  \n",
       "4  0.910783  0.931110  2.834518  1.923482  \n",
       "\n",
       "[5 rows x 31 columns]"
      ]
     },
     "execution_count": 4,
     "metadata": {},
     "output_type": "execute_result"
    }
   ],
   "source": [
    "#head()\n",
    "train_data.head()"
   ]
  },
  {
   "cell_type": "markdown",
   "metadata": {},
   "source": [
    "### 2)数据信息查看"
   ]
  },
  {
   "cell_type": "code",
   "execution_count": 4,
   "metadata": {},
   "outputs": [
    {
     "name": "stdout",
     "output_type": "stream",
     "text": [
      "<class 'pandas.core.frame.DataFrame'>\n",
      "RangeIndex: 150000 entries, 0 to 149999\n",
      "Data columns (total 31 columns):\n",
      " #   Column             Non-Null Count   Dtype  \n",
      "---  ------             --------------   -----  \n",
      " 0   SaleID             150000 non-null  int64  \n",
      " 1   name               150000 non-null  int64  \n",
      " 2   regDate            150000 non-null  int64  \n",
      " 3   model              149999 non-null  float64\n",
      " 4   brand              150000 non-null  int64  \n",
      " 5   bodyType           145494 non-null  float64\n",
      " 6   fuelType           141320 non-null  float64\n",
      " 7   gearbox            144019 non-null  float64\n",
      " 8   power              150000 non-null  int64  \n",
      " 9   kilometer          150000 non-null  float64\n",
      " 10  notRepairedDamage  150000 non-null  object \n",
      " 11  regionCode         150000 non-null  int64  \n",
      " 12  seller             150000 non-null  int64  \n",
      " 13  offerType          150000 non-null  int64  \n",
      " 14  creatDate          150000 non-null  int64  \n",
      " 15  price              150000 non-null  int64  \n",
      " 16  v_0                150000 non-null  float64\n",
      " 17  v_1                150000 non-null  float64\n",
      " 18  v_2                150000 non-null  float64\n",
      " 19  v_3                150000 non-null  float64\n",
      " 20  v_4                150000 non-null  float64\n",
      " 21  v_5                150000 non-null  float64\n",
      " 22  v_6                150000 non-null  float64\n",
      " 23  v_7                150000 non-null  float64\n",
      " 24  v_8                150000 non-null  float64\n",
      " 25  v_9                150000 non-null  float64\n",
      " 26  v_10               150000 non-null  float64\n",
      " 27  v_11               150000 non-null  float64\n",
      " 28  v_12               150000 non-null  float64\n",
      " 29  v_13               150000 non-null  float64\n",
      " 30  v_14               150000 non-null  float64\n",
      "dtypes: float64(20), int64(10), object(1)\n",
      "memory usage: 35.5+ MB\n"
     ]
    }
   ],
   "source": [
    "#.info() #观察数据类型和有无缺失值情况\n",
    "train_data.info()"
   ]
  },
  {
   "cell_type": "code",
   "execution_count": 5,
   "metadata": {},
   "outputs": [
    {
     "data": {
      "text/plain": [
       "Index(['SaleID', 'name', 'regDate', 'model', 'brand', 'bodyType', 'fuelType',\n",
       "       'gearbox', 'power', 'kilometer', 'notRepairedDamage', 'regionCode',\n",
       "       'seller', 'offerType', 'creatDate', 'price', 'v_0', 'v_1', 'v_2', 'v_3',\n",
       "       'v_4', 'v_5', 'v_6', 'v_7', 'v_8', 'v_9', 'v_10', 'v_11', 'v_12',\n",
       "       'v_13', 'v_14'],\n",
       "      dtype='object')"
      ]
     },
     "execution_count": 5,
     "metadata": {},
     "output_type": "execute_result"
    }
   ],
   "source": [
    "#.columns\n",
    "train_data.columns"
   ]
  },
  {
   "attachments": {
    "%E6%88%AA%E5%B1%8F2020-09-29%20%E4%B8%8B%E5%8D%8812.48.48.png": {
     "image/png": "[encoded data removed]"
    }
   },
   "cell_type": "markdown",
   "metadata": {},
   "source": [
    "- 字段含义\n",
    "![%E6%88%AA%E5%B1%8F2020-09-29%20%E4%B8%8B%E5%8D%8812.48.48.png](attachment:%E6%88%AA%E5%B1%8F2020-09-29%20%E4%B8%8B%E5%8D%8812.48.48.png)"
   ]
  },
  {
   "cell_type": "code",
   "execution_count": 6,
   "metadata": {},
   "outputs": [
    {
     "name": "stdout",
     "output_type": "stream",
     "text": [
      "<class 'pandas.core.frame.DataFrame'>\n",
      "RangeIndex: 50000 entries, 0 to 49999\n",
      "Data columns (total 30 columns):\n",
      " #   Column             Non-Null Count  Dtype  \n",
      "---  ------             --------------  -----  \n",
      " 0   SaleID             50000 non-null  int64  \n",
      " 1   name               50000 non-null  int64  \n",
      " 2   regDate            50000 non-null  int64  \n",
      " 3   model              50000 non-null  float64\n",
      " 4   brand              50000 non-null  int64  \n",
      " 5   bodyType           48496 non-null  float64\n",
      " 6   fuelType           47076 non-null  float64\n",
      " 7   gearbox            48032 non-null  float64\n",
      " 8   power              50000 non-null  int64  \n",
      " 9   kilometer          50000 non-null  float64\n",
      " 10  notRepairedDamage  50000 non-null  object \n",
      " 11  regionCode         50000 non-null  int64  \n",
      " 12  seller             50000 non-null  int64  \n",
      " 13  offerType          50000 non-null  int64  \n",
      " 14  creatDate          50000 non-null  int64  \n",
      " 15  v_0                50000 non-null  float64\n",
      " 16  v_1                50000 non-null  float64\n",
      " 17  v_2                50000 non-null  float64\n",
      " 18  v_3                50000 non-null  float64\n",
      " 19  v_4                50000 non-null  float64\n",
      " 20  v_5                50000 non-null  float64\n",
      " 21  v_6                50000 non-null  float64\n",
      " 22  v_7                50000 non-null  float64\n",
      " 23  v_8                50000 non-null  float64\n",
      " 24  v_9                50000 non-null  float64\n",
      " 25  v_10               50000 non-null  float64\n",
      " 26  v_11               50000 non-null  float64\n",
      " 27  v_12               50000 non-null  float64\n",
      " 28  v_13               50000 non-null  float64\n",
      " 29  v_14               50000 non-null  float64\n",
      "dtypes: float64(20), int64(9), object(1)\n",
      "memory usage: 11.4+ MB\n"
     ]
    }
   ],
   "source": [
    "test_data.info()"
   ]
  },
  {
   "cell_type": "markdown",
   "metadata": {},
   "source": [
    "### 3）数据统计信息浏览\n",
    "- 查看有无异常数值\n",
    "- 比较train_data和test_data的分布有什么不同，若相差较大，考虑从train_data中分出检验集"
   ]
  },
  {
   "cell_type": "code",
   "execution_count": 7,
   "metadata": {},
   "outputs": [
    {
     "data": {
      "text/html": [
       "<div>\n",
       "<style scoped>\n",
       "    .dataframe tbody tr th:only-of-type {\n",
       "        vertical-align: middle;\n",
       "    }\n",
       "\n",
       "    .dataframe tbody tr th {\n",
       "        vertical-align: top;\n",
       "    }\n",
       "\n",
       "    .dataframe thead th {\n",
       "        text-align: right;\n",
       "    }\n",
       "</style>\n",
       "<table border=\"1\" class=\"dataframe\">\n",
       "  <thead>\n",
       "    <tr style=\"text-align: right;\">\n",
       "      <th></th>\n",
       "      <th>SaleID</th>\n",
       "      <th>name</th>\n",
       "      <th>regDate</th>\n",
       "      <th>model</th>\n",
       "      <th>brand</th>\n",
       "      <th>bodyType</th>\n",
       "      <th>fuelType</th>\n",
       "      <th>gearbox</th>\n",
       "      <th>power</th>\n",
       "      <th>kilometer</th>\n",
       "      <th>...</th>\n",
       "      <th>v_5</th>\n",
       "      <th>v_6</th>\n",
       "      <th>v_7</th>\n",
       "      <th>v_8</th>\n",
       "      <th>v_9</th>\n",
       "      <th>v_10</th>\n",
       "      <th>v_11</th>\n",
       "      <th>v_12</th>\n",
       "      <th>v_13</th>\n",
       "      <th>v_14</th>\n",
       "    </tr>\n",
       "  </thead>\n",
       "  <tbody>\n",
       "    <tr>\n",
       "      <th>count</th>\n",
       "      <td>150000.000000</td>\n",
       "      <td>150000.000000</td>\n",
       "      <td>1.500000e+05</td>\n",
       "      <td>149999.000000</td>\n",
       "      <td>150000.000000</td>\n",
       "      <td>145494.000000</td>\n",
       "      <td>141320.000000</td>\n",
       "      <td>144019.000000</td>\n",
       "      <td>150000.000000</td>\n",
       "      <td>150000.000000</td>\n",
       "      <td>...</td>\n",
       "      <td>150000.000000</td>\n",
       "      <td>150000.000000</td>\n",
       "      <td>150000.000000</td>\n",
       "      <td>150000.000000</td>\n",
       "      <td>150000.000000</td>\n",
       "      <td>150000.000000</td>\n",
       "      <td>150000.000000</td>\n",
       "      <td>150000.000000</td>\n",
       "      <td>150000.000000</td>\n",
       "      <td>150000.000000</td>\n",
       "    </tr>\n",
       "    <tr>\n",
       "      <th>mean</th>\n",
       "      <td>74999.500000</td>\n",
       "      <td>68349.172873</td>\n",
       "      <td>2.003417e+07</td>\n",
       "      <td>47.129021</td>\n",
       "      <td>8.052733</td>\n",
       "      <td>1.792369</td>\n",
       "      <td>0.375842</td>\n",
       "      <td>0.224943</td>\n",
       "      <td>119.316547</td>\n",
       "      <td>12.597160</td>\n",
       "      <td>...</td>\n",
       "      <td>0.248204</td>\n",
       "      <td>0.044923</td>\n",
       "      <td>0.124692</td>\n",
       "      <td>0.058144</td>\n",
       "      <td>0.061996</td>\n",
       "      <td>-0.001000</td>\n",
       "      <td>0.009035</td>\n",
       "      <td>0.004813</td>\n",
       "      <td>0.000313</td>\n",
       "      <td>-0.000688</td>\n",
       "    </tr>\n",
       "    <tr>\n",
       "      <th>std</th>\n",
       "      <td>43301.414527</td>\n",
       "      <td>61103.875095</td>\n",
       "      <td>5.364988e+04</td>\n",
       "      <td>49.536040</td>\n",
       "      <td>7.864956</td>\n",
       "      <td>1.760640</td>\n",
       "      <td>0.548677</td>\n",
       "      <td>0.417546</td>\n",
       "      <td>177.168419</td>\n",
       "      <td>3.919576</td>\n",
       "      <td>...</td>\n",
       "      <td>0.045804</td>\n",
       "      <td>0.051743</td>\n",
       "      <td>0.201410</td>\n",
       "      <td>0.029186</td>\n",
       "      <td>0.035692</td>\n",
       "      <td>3.772386</td>\n",
       "      <td>3.286071</td>\n",
       "      <td>2.517478</td>\n",
       "      <td>1.288988</td>\n",
       "      <td>1.038685</td>\n",
       "    </tr>\n",
       "    <tr>\n",
       "      <th>min</th>\n",
       "      <td>0.000000</td>\n",
       "      <td>0.000000</td>\n",
       "      <td>1.991000e+07</td>\n",
       "      <td>0.000000</td>\n",
       "      <td>0.000000</td>\n",
       "      <td>0.000000</td>\n",
       "      <td>0.000000</td>\n",
       "      <td>0.000000</td>\n",
       "      <td>0.000000</td>\n",
       "      <td>0.500000</td>\n",
       "      <td>...</td>\n",
       "      <td>0.000000</td>\n",
       "      <td>0.000000</td>\n",
       "      <td>0.000000</td>\n",
       "      <td>0.000000</td>\n",
       "      <td>0.000000</td>\n",
       "      <td>-9.168192</td>\n",
       "      <td>-5.558207</td>\n",
       "      <td>-9.639552</td>\n",
       "      <td>-4.153899</td>\n",
       "      <td>-6.546556</td>\n",
       "    </tr>\n",
       "    <tr>\n",
       "      <th>25%</th>\n",
       "      <td>37499.750000</td>\n",
       "      <td>11156.000000</td>\n",
       "      <td>1.999091e+07</td>\n",
       "      <td>10.000000</td>\n",
       "      <td>1.000000</td>\n",
       "      <td>0.000000</td>\n",
       "      <td>0.000000</td>\n",
       "      <td>0.000000</td>\n",
       "      <td>75.000000</td>\n",
       "      <td>12.500000</td>\n",
       "      <td>...</td>\n",
       "      <td>0.243615</td>\n",
       "      <td>0.000038</td>\n",
       "      <td>0.062474</td>\n",
       "      <td>0.035334</td>\n",
       "      <td>0.033930</td>\n",
       "      <td>-3.722303</td>\n",
       "      <td>-1.951543</td>\n",
       "      <td>-1.871846</td>\n",
       "      <td>-1.057789</td>\n",
       "      <td>-0.437034</td>\n",
       "    </tr>\n",
       "    <tr>\n",
       "      <th>50%</th>\n",
       "      <td>74999.500000</td>\n",
       "      <td>51638.000000</td>\n",
       "      <td>2.003091e+07</td>\n",
       "      <td>30.000000</td>\n",
       "      <td>6.000000</td>\n",
       "      <td>1.000000</td>\n",
       "      <td>0.000000</td>\n",
       "      <td>0.000000</td>\n",
       "      <td>110.000000</td>\n",
       "      <td>15.000000</td>\n",
       "      <td>...</td>\n",
       "      <td>0.257798</td>\n",
       "      <td>0.000812</td>\n",
       "      <td>0.095866</td>\n",
       "      <td>0.057014</td>\n",
       "      <td>0.058484</td>\n",
       "      <td>1.624076</td>\n",
       "      <td>-0.358053</td>\n",
       "      <td>-0.130753</td>\n",
       "      <td>-0.036245</td>\n",
       "      <td>0.141246</td>\n",
       "    </tr>\n",
       "    <tr>\n",
       "      <th>75%</th>\n",
       "      <td>112499.250000</td>\n",
       "      <td>118841.250000</td>\n",
       "      <td>2.007111e+07</td>\n",
       "      <td>66.000000</td>\n",
       "      <td>13.000000</td>\n",
       "      <td>3.000000</td>\n",
       "      <td>1.000000</td>\n",
       "      <td>0.000000</td>\n",
       "      <td>150.000000</td>\n",
       "      <td>15.000000</td>\n",
       "      <td>...</td>\n",
       "      <td>0.265297</td>\n",
       "      <td>0.102009</td>\n",
       "      <td>0.125243</td>\n",
       "      <td>0.079382</td>\n",
       "      <td>0.087491</td>\n",
       "      <td>2.844357</td>\n",
       "      <td>1.255022</td>\n",
       "      <td>1.776933</td>\n",
       "      <td>0.942813</td>\n",
       "      <td>0.680378</td>\n",
       "    </tr>\n",
       "    <tr>\n",
       "      <th>max</th>\n",
       "      <td>149999.000000</td>\n",
       "      <td>196812.000000</td>\n",
       "      <td>2.015121e+07</td>\n",
       "      <td>247.000000</td>\n",
       "      <td>39.000000</td>\n",
       "      <td>7.000000</td>\n",
       "      <td>6.000000</td>\n",
       "      <td>1.000000</td>\n",
       "      <td>19312.000000</td>\n",
       "      <td>15.000000</td>\n",
       "      <td>...</td>\n",
       "      <td>0.291838</td>\n",
       "      <td>0.151420</td>\n",
       "      <td>1.404936</td>\n",
       "      <td>0.160791</td>\n",
       "      <td>0.222787</td>\n",
       "      <td>12.357011</td>\n",
       "      <td>18.819042</td>\n",
       "      <td>13.847792</td>\n",
       "      <td>11.147669</td>\n",
       "      <td>8.658418</td>\n",
       "    </tr>\n",
       "  </tbody>\n",
       "</table>\n",
       "<p>8 rows × 30 columns</p>\n",
       "</div>"
      ],
      "text/plain": [
       "              SaleID           name       regDate          model  \\\n",
       "count  150000.000000  150000.000000  1.500000e+05  149999.000000   \n",
       "mean    74999.500000   68349.172873  2.003417e+07      47.129021   \n",
       "std     43301.414527   61103.875095  5.364988e+04      49.536040   \n",
       "min         0.000000       0.000000  1.991000e+07       0.000000   \n",
       "25%     37499.750000   11156.000000  1.999091e+07      10.000000   \n",
       "50%     74999.500000   51638.000000  2.003091e+07      30.000000   \n",
       "75%    112499.250000  118841.250000  2.007111e+07      66.000000   \n",
       "max    149999.000000  196812.000000  2.015121e+07     247.000000   \n",
       "\n",
       "               brand       bodyType       fuelType        gearbox  \\\n",
       "count  150000.000000  145494.000000  141320.000000  144019.000000   \n",
       "mean        8.052733       1.792369       0.375842       0.224943   \n",
       "std         7.864956       1.760640       0.548677       0.417546   \n",
       "min         0.000000       0.000000       0.000000       0.000000   \n",
       "25%         1.000000       0.000000       0.000000       0.000000   \n",
       "50%         6.000000       1.000000       0.000000       0.000000   \n",
       "75%        13.000000       3.000000       1.000000       0.000000   \n",
       "max        39.000000       7.000000       6.000000       1.000000   \n",
       "\n",
       "               power      kilometer  ...            v_5            v_6  \\\n",
       "count  150000.000000  150000.000000  ...  150000.000000  150000.000000   \n",
       "mean      119.316547      12.597160  ...       0.248204       0.044923   \n",
       "std       177.168419       3.919576  ...       0.045804       0.051743   \n",
       "min         0.000000       0.500000  ...       0.000000       0.000000   \n",
       "25%        75.000000      12.500000  ...       0.243615       0.000038   \n",
       "50%       110.000000      15.000000  ...       0.257798       0.000812   \n",
       "75%       150.000000      15.000000  ...       0.265297       0.102009   \n",
       "max     19312.000000      15.000000  ...       0.291838       0.151420   \n",
       "\n",
       "                 v_7            v_8            v_9           v_10  \\\n",
       "count  150000.000000  150000.000000  150000.000000  150000.000000   \n",
       "mean        0.124692       0.058144       0.061996      -0.001000   \n",
       "std         0.201410       0.029186       0.035692       3.772386   \n",
       "min         0.000000       0.000000       0.000000      -9.168192   \n",
       "25%         0.062474       0.035334       0.033930      -3.722303   \n",
       "50%         0.095866       0.057014       0.058484       1.624076   \n",
       "75%         0.125243       0.079382       0.087491       2.844357   \n",
       "max         1.404936       0.160791       0.222787      12.357011   \n",
       "\n",
       "                v_11           v_12           v_13           v_14  \n",
       "count  150000.000000  150000.000000  150000.000000  150000.000000  \n",
       "mean        0.009035       0.004813       0.000313      -0.000688  \n",
       "std         3.286071       2.517478       1.288988       1.038685  \n",
       "min        -5.558207      -9.639552      -4.153899      -6.546556  \n",
       "25%        -1.951543      -1.871846      -1.057789      -0.437034  \n",
       "50%        -0.358053      -0.130753      -0.036245       0.141246  \n",
       "75%         1.255022       1.776933       0.942813       0.680378  \n",
       "max        18.819042      13.847792      11.147669       8.658418  \n",
       "\n",
       "[8 rows x 30 columns]"
      ]
     },
     "execution_count": 7,
     "metadata": {},
     "output_type": "execute_result"
    }
   ],
   "source": [
    "train_data.describe()"
   ]
  },
  {
   "cell_type": "code",
   "execution_count": 8,
   "metadata": {},
   "outputs": [
    {
     "data": {
      "text/html": [
       "<div>\n",
       "<style scoped>\n",
       "    .dataframe tbody tr th:only-of-type {\n",
       "        vertical-align: middle;\n",
       "    }\n",
       "\n",
       "    .dataframe tbody tr th {\n",
       "        vertical-align: top;\n",
       "    }\n",
       "\n",
       "    .dataframe thead th {\n",
       "        text-align: right;\n",
       "    }\n",
       "</style>\n",
       "<table border=\"1\" class=\"dataframe\">\n",
       "  <thead>\n",
       "    <tr style=\"text-align: right;\">\n",
       "      <th></th>\n",
       "      <th>SaleID</th>\n",
       "      <th>name</th>\n",
       "      <th>regDate</th>\n",
       "      <th>model</th>\n",
       "      <th>brand</th>\n",
       "      <th>bodyType</th>\n",
       "      <th>fuelType</th>\n",
       "      <th>gearbox</th>\n",
       "      <th>power</th>\n",
       "      <th>kilometer</th>\n",
       "      <th>...</th>\n",
       "      <th>v_5</th>\n",
       "      <th>v_6</th>\n",
       "      <th>v_7</th>\n",
       "      <th>v_8</th>\n",
       "      <th>v_9</th>\n",
       "      <th>v_10</th>\n",
       "      <th>v_11</th>\n",
       "      <th>v_12</th>\n",
       "      <th>v_13</th>\n",
       "      <th>v_14</th>\n",
       "    </tr>\n",
       "  </thead>\n",
       "  <tbody>\n",
       "    <tr>\n",
       "      <th>count</th>\n",
       "      <td>50000.000000</td>\n",
       "      <td>50000.000000</td>\n",
       "      <td>5.000000e+04</td>\n",
       "      <td>50000.00000</td>\n",
       "      <td>50000.000000</td>\n",
       "      <td>48496.000000</td>\n",
       "      <td>47076.000000</td>\n",
       "      <td>48032.000000</td>\n",
       "      <td>50000.000000</td>\n",
       "      <td>50000.000000</td>\n",
       "      <td>...</td>\n",
       "      <td>50000.000000</td>\n",
       "      <td>50000.000000</td>\n",
       "      <td>50000.000000</td>\n",
       "      <td>50000.000000</td>\n",
       "      <td>50000.000000</td>\n",
       "      <td>50000.000000</td>\n",
       "      <td>50000.000000</td>\n",
       "      <td>50000.000000</td>\n",
       "      <td>50000.000000</td>\n",
       "      <td>50000.000000</td>\n",
       "    </tr>\n",
       "    <tr>\n",
       "      <th>mean</th>\n",
       "      <td>224999.500000</td>\n",
       "      <td>68505.606100</td>\n",
       "      <td>2.003401e+07</td>\n",
       "      <td>47.64948</td>\n",
       "      <td>8.087140</td>\n",
       "      <td>1.793736</td>\n",
       "      <td>0.376498</td>\n",
       "      <td>0.226953</td>\n",
       "      <td>119.766960</td>\n",
       "      <td>12.598260</td>\n",
       "      <td>...</td>\n",
       "      <td>0.248147</td>\n",
       "      <td>0.044624</td>\n",
       "      <td>0.124693</td>\n",
       "      <td>0.058198</td>\n",
       "      <td>0.062113</td>\n",
       "      <td>0.019633</td>\n",
       "      <td>0.002759</td>\n",
       "      <td>0.004342</td>\n",
       "      <td>0.004570</td>\n",
       "      <td>-0.007209</td>\n",
       "    </tr>\n",
       "    <tr>\n",
       "      <th>std</th>\n",
       "      <td>14433.901067</td>\n",
       "      <td>61032.124271</td>\n",
       "      <td>5.351615e+04</td>\n",
       "      <td>49.90741</td>\n",
       "      <td>7.899648</td>\n",
       "      <td>1.764970</td>\n",
       "      <td>0.549281</td>\n",
       "      <td>0.418866</td>\n",
       "      <td>206.313348</td>\n",
       "      <td>3.912519</td>\n",
       "      <td>...</td>\n",
       "      <td>0.045836</td>\n",
       "      <td>0.051664</td>\n",
       "      <td>0.201440</td>\n",
       "      <td>0.029171</td>\n",
       "      <td>0.035723</td>\n",
       "      <td>3.764095</td>\n",
       "      <td>3.289523</td>\n",
       "      <td>2.515912</td>\n",
       "      <td>1.287194</td>\n",
       "      <td>1.044718</td>\n",
       "    </tr>\n",
       "    <tr>\n",
       "      <th>min</th>\n",
       "      <td>200000.000000</td>\n",
       "      <td>1.000000</td>\n",
       "      <td>1.991000e+07</td>\n",
       "      <td>0.00000</td>\n",
       "      <td>0.000000</td>\n",
       "      <td>0.000000</td>\n",
       "      <td>0.000000</td>\n",
       "      <td>0.000000</td>\n",
       "      <td>0.000000</td>\n",
       "      <td>0.500000</td>\n",
       "      <td>...</td>\n",
       "      <td>0.000000</td>\n",
       "      <td>0.000000</td>\n",
       "      <td>0.000000</td>\n",
       "      <td>0.000000</td>\n",
       "      <td>0.000000</td>\n",
       "      <td>-9.119719</td>\n",
       "      <td>-5.662163</td>\n",
       "      <td>-8.291868</td>\n",
       "      <td>-4.157649</td>\n",
       "      <td>-6.098192</td>\n",
       "    </tr>\n",
       "    <tr>\n",
       "      <th>25%</th>\n",
       "      <td>212499.750000</td>\n",
       "      <td>11315.000000</td>\n",
       "      <td>1.999100e+07</td>\n",
       "      <td>11.00000</td>\n",
       "      <td>1.000000</td>\n",
       "      <td>0.000000</td>\n",
       "      <td>0.000000</td>\n",
       "      <td>0.000000</td>\n",
       "      <td>75.000000</td>\n",
       "      <td>12.500000</td>\n",
       "      <td>...</td>\n",
       "      <td>0.243436</td>\n",
       "      <td>0.000035</td>\n",
       "      <td>0.062519</td>\n",
       "      <td>0.035413</td>\n",
       "      <td>0.033880</td>\n",
       "      <td>-3.675196</td>\n",
       "      <td>-1.963928</td>\n",
       "      <td>-1.865406</td>\n",
       "      <td>-1.048722</td>\n",
       "      <td>-0.440706</td>\n",
       "    </tr>\n",
       "    <tr>\n",
       "      <th>50%</th>\n",
       "      <td>224999.500000</td>\n",
       "      <td>52215.000000</td>\n",
       "      <td>2.003091e+07</td>\n",
       "      <td>30.00000</td>\n",
       "      <td>6.000000</td>\n",
       "      <td>1.000000</td>\n",
       "      <td>0.000000</td>\n",
       "      <td>0.000000</td>\n",
       "      <td>110.000000</td>\n",
       "      <td>15.000000</td>\n",
       "      <td>...</td>\n",
       "      <td>0.257818</td>\n",
       "      <td>0.000801</td>\n",
       "      <td>0.095880</td>\n",
       "      <td>0.056804</td>\n",
       "      <td>0.058749</td>\n",
       "      <td>1.632134</td>\n",
       "      <td>-0.375537</td>\n",
       "      <td>-0.138943</td>\n",
       "      <td>-0.036352</td>\n",
       "      <td>0.136849</td>\n",
       "    </tr>\n",
       "    <tr>\n",
       "      <th>75%</th>\n",
       "      <td>237499.250000</td>\n",
       "      <td>118710.750000</td>\n",
       "      <td>2.007110e+07</td>\n",
       "      <td>66.00000</td>\n",
       "      <td>13.000000</td>\n",
       "      <td>3.000000</td>\n",
       "      <td>1.000000</td>\n",
       "      <td>0.000000</td>\n",
       "      <td>150.000000</td>\n",
       "      <td>15.000000</td>\n",
       "      <td>...</td>\n",
       "      <td>0.265263</td>\n",
       "      <td>0.101654</td>\n",
       "      <td>0.125470</td>\n",
       "      <td>0.079387</td>\n",
       "      <td>0.087624</td>\n",
       "      <td>2.846205</td>\n",
       "      <td>1.263451</td>\n",
       "      <td>1.775632</td>\n",
       "      <td>0.945239</td>\n",
       "      <td>0.685555</td>\n",
       "    </tr>\n",
       "    <tr>\n",
       "      <th>max</th>\n",
       "      <td>249999.000000</td>\n",
       "      <td>196808.000000</td>\n",
       "      <td>2.015121e+07</td>\n",
       "      <td>246.00000</td>\n",
       "      <td>39.000000</td>\n",
       "      <td>7.000000</td>\n",
       "      <td>6.000000</td>\n",
       "      <td>1.000000</td>\n",
       "      <td>19211.000000</td>\n",
       "      <td>15.000000</td>\n",
       "      <td>...</td>\n",
       "      <td>0.291176</td>\n",
       "      <td>0.153403</td>\n",
       "      <td>1.411559</td>\n",
       "      <td>0.157458</td>\n",
       "      <td>0.211304</td>\n",
       "      <td>12.177864</td>\n",
       "      <td>18.789496</td>\n",
       "      <td>13.384828</td>\n",
       "      <td>5.635374</td>\n",
       "      <td>2.649768</td>\n",
       "    </tr>\n",
       "  </tbody>\n",
       "</table>\n",
       "<p>8 rows × 29 columns</p>\n",
       "</div>"
      ],
      "text/plain": [
       "              SaleID           name       regDate        model         brand  \\\n",
       "count   50000.000000   50000.000000  5.000000e+04  50000.00000  50000.000000   \n",
       "mean   224999.500000   68505.606100  2.003401e+07     47.64948      8.087140   \n",
       "std     14433.901067   61032.124271  5.351615e+04     49.90741      7.899648   \n",
       "min    200000.000000       1.000000  1.991000e+07      0.00000      0.000000   \n",
       "25%    212499.750000   11315.000000  1.999100e+07     11.00000      1.000000   \n",
       "50%    224999.500000   52215.000000  2.003091e+07     30.00000      6.000000   \n",
       "75%    237499.250000  118710.750000  2.007110e+07     66.00000     13.000000   \n",
       "max    249999.000000  196808.000000  2.015121e+07    246.00000     39.000000   \n",
       "\n",
       "           bodyType      fuelType       gearbox         power     kilometer  \\\n",
       "count  48496.000000  47076.000000  48032.000000  50000.000000  50000.000000   \n",
       "mean       1.793736      0.376498      0.226953    119.766960     12.598260   \n",
       "std        1.764970      0.549281      0.418866    206.313348      3.912519   \n",
       "min        0.000000      0.000000      0.000000      0.000000      0.500000   \n",
       "25%        0.000000      0.000000      0.000000     75.000000     12.500000   \n",
       "50%        1.000000      0.000000      0.000000    110.000000     15.000000   \n",
       "75%        3.000000      1.000000      0.000000    150.000000     15.000000   \n",
       "max        7.000000      6.000000      1.000000  19211.000000     15.000000   \n",
       "\n",
       "       ...           v_5           v_6           v_7           v_8  \\\n",
       "count  ...  50000.000000  50000.000000  50000.000000  50000.000000   \n",
       "mean   ...      0.248147      0.044624      0.124693      0.058198   \n",
       "std    ...      0.045836      0.051664      0.201440      0.029171   \n",
       "min    ...      0.000000      0.000000      0.000000      0.000000   \n",
       "25%    ...      0.243436      0.000035      0.062519      0.035413   \n",
       "50%    ...      0.257818      0.000801      0.095880      0.056804   \n",
       "75%    ...      0.265263      0.101654      0.125470      0.079387   \n",
       "max    ...      0.291176      0.153403      1.411559      0.157458   \n",
       "\n",
       "                v_9          v_10          v_11          v_12          v_13  \\\n",
       "count  50000.000000  50000.000000  50000.000000  50000.000000  50000.000000   \n",
       "mean       0.062113      0.019633      0.002759      0.004342      0.004570   \n",
       "std        0.035723      3.764095      3.289523      2.515912      1.287194   \n",
       "min        0.000000     -9.119719     -5.662163     -8.291868     -4.157649   \n",
       "25%        0.033880     -3.675196     -1.963928     -1.865406     -1.048722   \n",
       "50%        0.058749      1.632134     -0.375537     -0.138943     -0.036352   \n",
       "75%        0.087624      2.846205      1.263451      1.775632      0.945239   \n",
       "max        0.211304     12.177864     18.789496     13.384828      5.635374   \n",
       "\n",
       "               v_14  \n",
       "count  50000.000000  \n",
       "mean      -0.007209  \n",
       "std        1.044718  \n",
       "min       -6.098192  \n",
       "25%       -0.440706  \n",
       "50%        0.136849  \n",
       "75%        0.685555  \n",
       "max        2.649768  \n",
       "\n",
       "[8 rows x 29 columns]"
      ]
     },
     "execution_count": 8,
     "metadata": {},
     "output_type": "execute_result"
    }
   ],
   "source": [
    "test_data.describe()"
   ]
  },
  {
   "cell_type": "markdown",
   "metadata": {},
   "source": [
    "## 3.特征与标签构建"
   ]
  },
  {
   "cell_type": "markdown",
   "metadata": {},
   "source": [
    "### 1）提取数值型类型特征列名"
   ]
  },
  {
   "cell_type": "code",
   "execution_count": 5,
   "metadata": {},
   "outputs": [
    {
     "name": "stdout",
     "output_type": "stream",
     "text": [
      "Index(['SaleID', 'name', 'regDate', 'model', 'brand', 'bodyType', 'fuelType',\n",
      "       'gearbox', 'power', 'kilometer', 'regionCode', 'seller', 'offerType',\n",
      "       'creatDate', 'price', 'v_0', 'v_1', 'v_2', 'v_3', 'v_4', 'v_5', 'v_6',\n",
      "       'v_7', 'v_8', 'v_9', 'v_10', 'v_11', 'v_12', 'v_13', 'v_14'],\n",
      "      dtype='object')\n"
     ]
    }
   ],
   "source": [
    "#将是int和float类型的标签取出来\n",
    "numerical_cols=train_data.select_dtypes(exclude='object').columns\n",
    "print(numerical_cols)"
   ]
  },
  {
   "cell_type": "code",
   "execution_count": 6,
   "metadata": {},
   "outputs": [
    {
     "name": "stdout",
     "output_type": "stream",
     "text": [
      "Index(['notRepairedDamage'], dtype='object')\n"
     ]
    }
   ],
   "source": [
    "#将不是int和float类型的标签取出来\n",
    "categorical_cols=train_data.select_dtypes(include='object').columns\n",
    "print(categorical_cols)"
   ]
  },
  {
   "cell_type": "markdown",
   "metadata": {},
   "source": [
    "### 2)构建训练和测试样本"
   ]
  },
  {
   "cell_type": "code",
   "execution_count": 7,
   "metadata": {},
   "outputs": [
    {
     "name": "stdout",
     "output_type": "stream",
     "text": [
      "X train data: (150000, 18)\n",
      "X test data: (50000, 18)\n"
     ]
    }
   ],
   "source": [
    "##选择特征列\n",
    "feature_cols=[col for col in numerical_cols if col not in ['SaleID','name','regDate','creatDate','price','model','brand','regionCode','seller']]\n",
    "feature_cols=[col for col in feature_cols if 'Type' not in col]\n",
    "\n",
    "##提取特征列，标签列构造训练样本和测试样本\n",
    "X_data=train_data[feature_cols]\n",
    "Y_data=train_data['price']\n",
    "\n",
    "X_test=test_data[feature_cols]\n",
    "\n",
    "print('X train data:',X_data.shape)\n",
    "print('X test data:',X_test.shape)"
   ]
  },
  {
   "cell_type": "code",
   "execution_count": 8,
   "metadata": {},
   "outputs": [],
   "source": [
    "## 定义了一个统计函数，方便后续信息统计\n",
    "def Sta_inf(data):\n",
    "    print('_min',np.min(data))\n",
    "    print('_max',np.max(data))\n",
    "    print('_mean',np.mean(data))\n",
    "    print('_ptp',np.ptp(data))\n",
    "    print('_std',np.std(data))\n",
    "    print('_var',np.var(data))"
   ]
  },
  {
   "cell_type": "markdown",
   "metadata": {},
   "source": [
    "### 3)统计标签的基本分布信息"
   ]
  },
  {
   "cell_type": "code",
   "execution_count": 15,
   "metadata": {},
   "outputs": [
    {
     "name": "stdout",
     "output_type": "stream",
     "text": [
      "Sta of label:\n",
      "_min 11\n",
      "_max 99999\n",
      "_mean 5923.327333333334\n",
      "_ptp 99988\n",
      "_std 7501.973469876635\n",
      "_var 56279605.942732885\n"
     ]
    }
   ],
   "source": [
    "print('Sta of label:')\n",
    "Sta_inf(Y_data)"
   ]
  },
  {
   "cell_type": "code",
   "execution_count": 18,
   "metadata": {},
   "outputs": [
    {
     "data": {
      "image/png": "[encoded data removed]",
      "text/plain": [
       "<Figure size 432x288 with 1 Axes>"
      ]
     },
     "metadata": {
      "needs_background": "light"
     },
     "output_type": "display_data"
    }
   ],
   "source": [
    "## 绘制标签的统计图，查看标签分布\n",
    "plt.hist(Y_data)\n",
    "plt.show()\n",
    "plt.close()"
   ]
  },
  {
   "cell_type": "markdown",
   "metadata": {},
   "source": [
    "### 4)缺省值用-1填补"
   ]
  },
  {
   "cell_type": "code",
   "execution_count": 9,
   "metadata": {},
   "outputs": [],
   "source": [
    "X_data=X_data.fillna(-1)\n",
    "X_test=X_test.fillna(-1)"
   ]
  },
  {
   "cell_type": "markdown",
   "metadata": {},
   "source": [
    "## 4:模型训练与预测"
   ]
  },
  {
   "cell_type": "markdown",
   "metadata": {},
   "source": [
    "### 1）利用xgb进行五折交叉验证查看模型的参数效果"
   ]
  },
  {
   "cell_type": "code",
   "execution_count": 10,
   "metadata": {},
   "outputs": [
    {
     "name": "stdout",
     "output_type": "stream",
     "text": [
      "Train mae 615.7464457286892\n",
      "Val mae 711.9293119709927\n"
     ]
    }
   ],
   "source": [
    "## xgb-Model\n",
    "xgr=xgb.XGBRegressor(n_estimators=120,learning_rate=0.1,gamma=0,subsample=0.8,\\\n",
    "                    colsample_bytree=0.9,max_depth=7)#,objective='reg:squarederror'\n",
    "\n",
    "#gamma(default=0)，对于一个节点的划分只有在其loss function得到结果大于0的情况下才进行\n",
    "#subsample(default=1)训练模型的子样本占样本集合的比例，可以防止过拟合\n",
    "#colsample_bytree(default=1)建立树时对特征随机采样的比例\n",
    "#objective='reg:squarederror线性回归\n",
    "\n",
    "scores_train=[]\n",
    "scores=[]\n",
    "\n",
    "## 5折交叉验证方式\n",
    "sk=StratifiedKFold(n_splits=5,shuffle=True,random_state=0)\n",
    "for train_ind,val_ind in sk.split(X_data,Y_data):\n",
    "    train_x=X_data.iloc[train_ind].values\n",
    "    train_y=Y_data.iloc[train_ind]\n",
    "    val_x=X_data.iloc[val_ind].values\n",
    "    val_y=Y_data.iloc[val_ind]\n",
    "    \n",
    "    xgr.fit(train_x,train_y)\n",
    "    pred_train_xgb=xgr.predict(train_x)\n",
    "    pred_xgb=xgr.predict(val_x)\n",
    "    \n",
    "    score_train=mean_absolute_error(train_y,pred_train_xgb)\n",
    "    scores_train.append(score_train)\n",
    "    score=mean_absolute_error(val_y,pred_xgb)\n",
    "    scores.append(score)\n",
    "    \n",
    "print('Train mae',np.mean(score_train))\n",
    "print('Val mae',np.mean(scores))"
   ]
  },
  {
   "cell_type": "markdown",
   "metadata": {},
   "source": [
    "### 2）定义xgb和lgb模型函数"
   ]
  },
  {
   "cell_type": "code",
   "execution_count": 11,
   "metadata": {},
   "outputs": [],
   "source": [
    "def build_model_xgb(x_train,y_train):\n",
    "    model=xgb.XGBRegressor(n_estimators=150,learning_rate=0.1,gamma=0,subsample=0.8,\\\n",
    "                          colsample_btree=0.9,max_depth=7)#默认线性回归\n",
    "    model.fit(x_train,y_train)\n",
    "    return model\n",
    "\n",
    "def build_model_lgb(x_train,y_train):\n",
    "    estimator=lgb.LGBMRegressor(num_leaves=127,n_estimators=150)\n",
    "    param_grid={\n",
    "        'learning_rate':[0.01,0.05,0.1,0.2]\n",
    "    }\n",
    "    gbm=GridSearchCV(estimator,param_grid)#会从四个学习率中选择模型效果最好的一个\n",
    "    #GridSearchCV网格搜素，较费时\n",
    "    gbm.fit(x_train,y_train)\n",
    "    return gbm\n"
   ]
  },
  {
   "cell_type": "markdown",
   "metadata": {},
   "source": [
    "### 3）切分数据集(Train,Val)进行模型训练，评价和预测"
   ]
  },
  {
   "cell_type": "code",
   "execution_count": 12,
   "metadata": {},
   "outputs": [],
   "source": [
    "## split,data with val\n",
    "x_train,x_val,y_train,y_val=train_test_split(X_data,Y_data,test_size=0.3)\n",
    "#train训练集占70%，validation验证集占30%\n",
    "#常取0.2，0.3"
   ]
  },
  {
   "cell_type": "code",
   "execution_count": 14,
   "metadata": {},
   "outputs": [
    {
     "name": "stdout",
     "output_type": "stream",
     "text": [
      "Train lgb...\n",
      "\n",
      "MAE of val with lgb: 687.3690877900118\n",
      "\n",
      "Predict lgb...\n",
      "\n",
      "Sta of predict lgb\n",
      "_min -589.8793550785414\n",
      "_max 90760.26063584947\n",
      "_mean 5906.935218383807\n",
      "_ptp 91350.13999092802\n",
      "_std 7344.644970956768\n",
      "_var 53943809.749400534\n"
     ]
    }
   ],
   "source": [
    "print('Train lgb...')\n",
    "model_lgb=build_model_lgb(x_train,y_train)\n",
    "val_lgb=model_lgb.predict(x_val)\n",
    "MAE_lgb=mean_absolute_error(y_val,val_lgb)\n",
    "print('')\n",
    "print('MAE of val with lgb:',MAE_lgb)\n",
    "print('')\n",
    "print('Predict lgb...')\n",
    "model_lgb_pre=build_model_lgb(X_data,Y_data)\n",
    "subA_lgb=model_lgb_pre.predict(X_test)\n",
    "print('')\n",
    "print('Sta of predict lgb')\n",
    "Sta_inf(subA_lgb)\n",
    "#预测结果显示的问题：\n",
    "#1.结果有负数（但实际中车的价格不可能为负数\n",
    "\n",
    "#好的结果\n",
    "#预测的结果是实际数据的均值和标准差接近"
   ]
  },
  {
   "cell_type": "code",
   "execution_count": 15,
   "metadata": {},
   "outputs": [
    {
     "name": "stdout",
     "output_type": "stream",
     "text": [
      "Train xgb...\n",
      "[20:13:36] WARNING: /Users/travis/build/dmlc/xgboost/src/learner.cc:516: \n",
      "Parameters: { colsample_btree } might not be used.\n",
      "\n",
      "  This may not be accurate due to some parameters are only used in language bindings but\n",
      "  passed down to XGBoost core.  Or some parameters are not used but slip through this\n",
      "  verification. Please open an issue if you find above cases.\n",
      "\n",
      "\n",
      "MAE of val with xgb: 707.7744089265506\n",
      "\n",
      "Predict xgb...\n",
      "[20:14:18] WARNING: /Users/travis/build/dmlc/xgboost/src/learner.cc:516: \n",
      "Parameters: { colsample_btree } might not be used.\n",
      "\n",
      "  This may not be accurate due to some parameters are only used in language bindings but\n",
      "  passed down to XGBoost core.  Or some parameters are not used but slip through this\n",
      "  verification. Please open an issue if you find above cases.\n",
      "\n",
      "\n",
      "Sta of Predict xgb:\n",
      "_min -379.5961\n",
      "_max 91099.0\n",
      "_mean 5908.255\n",
      "_ptp 91478.59\n",
      "_std 7346.0815\n",
      "_var 53964910.0\n"
     ]
    }
   ],
   "source": [
    "print('Train xgb...')\n",
    "model_xgb=build_model_xgb(x_train,y_train)\n",
    "val_xgb=model_xgb.predict(x_val)\n",
    "MAE_xgb=mean_absolute_error(y_val,val_xgb)\n",
    "print('MAE of val with xgb:',MAE_xgb)\n",
    "print('')\n",
    "print('Predict xgb...')\n",
    "model_xgb_pre=build_model_xgb(X_data,Y_data)\n",
    "subA_xgb=model_xgb_pre.predict(X_test)\n",
    "print('Sta of Predict xgb:')\n",
    "Sta_inf(subA_xgb)"
   ]
  },
  {
   "cell_type": "markdown",
   "metadata": {},
   "source": [
    "### 4)进行两模型的结果加权融合"
   ]
  },
  {
   "cell_type": "code",
   "execution_count": 18,
   "metadata": {},
   "outputs": [
    {
     "name": "stdout",
     "output_type": "stream",
     "text": [
      "MAE of val with Weighted ensemble: 683.0275660139603\n"
     ]
    }
   ],
   "source": [
    "## 这里采取简单的加权融合的方式\n",
    "val_Weighted=(1-MAE_lgb/(MAE_xgb+MAE_lgb))*val_lgb+(1-MAE_xgb/(MAE_xgb+MAE_lgb))*val_xgb\n",
    "#目标：误差大的给予小权重，误差小的给予大权重\n",
    "val_Weighted[val_Weighted<0]=10#将预测为负的结果重新赋值为10\n",
    "print('MAE of val with Weighted ensemble:',mean_absolute_error(y_val,val_Weighted))"
   ]
  },
  {
   "cell_type": "code",
   "execution_count": 19,
   "metadata": {},
   "outputs": [
    {
     "data": {
      "image/png": "[encoded data removed]",
      "text/plain": [
       "<Figure size 432x288 with 1 Axes>"
      ]
     },
     "metadata": {
      "needs_background": "light"
     },
     "output_type": "display_data"
    }
   ],
   "source": [
    "sub_Weighted=(1-MAE_lgb/(MAE_xgb+MAE_lgb))*subA_lgb+(1-MAE_xgb/(MAE_xgb+MAE_lgb))*subA_xgb\n",
    "\n",
    "## 查看预测值的统计进行\n",
    "plt.hist(Y_data)\n",
    "plt.show()\n",
    "plt.close()"
   ]
  },
  {
   "cell_type": "markdown",
   "metadata": {},
   "source": [
    "### 5)输出结果"
   ]
  },
  {
   "cell_type": "code",
   "execution_count": 21,
   "metadata": {},
   "outputs": [],
   "source": [
    "sub=pd.DataFrame()\n",
    "sub['SaleID']=test_data.SaleID\n",
    "sub['price']=sub_Weighted\n",
    "sub.to_csv('./sub_Weighted.csv',index=False)"
   ]
  },
  {
   "cell_type": "code",
   "execution_count": 22,
   "metadata": {},
   "outputs": [
    {
     "data": {
      "text/html": [
       "<div>\n",
       "<style scoped>\n",
       "    .dataframe tbody tr th:only-of-type {\n",
       "        vertical-align: middle;\n",
       "    }\n",
       "\n",
       "    .dataframe tbody tr th {\n",
       "        vertical-align: top;\n",
       "    }\n",
       "\n",
       "    .dataframe thead th {\n",
       "        text-align: right;\n",
       "    }\n",
       "</style>\n",
       "<table border=\"1\" class=\"dataframe\">\n",
       "  <thead>\n",
       "    <tr style=\"text-align: right;\">\n",
       "      <th></th>\n",
       "      <th>SaleID</th>\n",
       "      <th>price</th>\n",
       "    </tr>\n",
       "  </thead>\n",
       "  <tbody>\n",
       "    <tr>\n",
       "      <th>0</th>\n",
       "      <td>200000</td>\n",
       "      <td>1188.536334</td>\n",
       "    </tr>\n",
       "    <tr>\n",
       "      <th>1</th>\n",
       "      <td>200001</td>\n",
       "      <td>1829.836222</td>\n",
       "    </tr>\n",
       "    <tr>\n",
       "      <th>2</th>\n",
       "      <td>200002</td>\n",
       "      <td>8434.329715</td>\n",
       "    </tr>\n",
       "    <tr>\n",
       "      <th>3</th>\n",
       "      <td>200003</td>\n",
       "      <td>1347.426275</td>\n",
       "    </tr>\n",
       "    <tr>\n",
       "      <th>4</th>\n",
       "      <td>200004</td>\n",
       "      <td>2055.322989</td>\n",
       "    </tr>\n",
       "  </tbody>\n",
       "</table>\n",
       "</div>"
      ],
      "text/plain": [
       "   SaleID        price\n",
       "0  200000  1188.536334\n",
       "1  200001  1829.836222\n",
       "2  200002  8434.329715\n",
       "3  200003  1347.426275\n",
       "4  200004  2055.322989"
      ]
     },
     "execution_count": 22,
     "metadata": {},
     "output_type": "execute_result"
    }
   ],
   "source": [
    "sub.head()"
   ]
  },
  {
   "cell_type": "code",
   "execution_count": null,
   "metadata": {},
   "outputs": [],
   "source": []
  }
 ],
 "metadata": {
  "kernelspec": {
   "display_name": "Python 3",
   "language": "python",
   "name": "python3"
  },
  "language_info": {
   "codemirror_mode": {
    "name": "ipython",
    "version": 3
   },
   "file_extension": ".py",
   "mimetype": "text/x-python",
   "name": "python",
   "nbconvert_exporter": "python",
   "pygments_lexer": "ipython3",
   "version": "3.7.8"
  }
 },
 "nbformat": 4,
 "nbformat_minor": 4
}
