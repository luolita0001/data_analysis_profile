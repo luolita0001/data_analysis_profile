{
 "cells": [
  {
   "cell_type": "code",
   "execution_count": 1,
   "metadata": {},
   "outputs": [],
   "source": [
    "import pandas as pd\n",
    "import numpy as np\n",
    "import matplotlib.pyplot as plt\n",
    "import seaborn as sns\n",
    "import datetime\n",
    "import warnings\n",
    "\n",
    "warnings.filterwarnings('ignore')\n",
    "plt.rcParams['font.sans-serif'] = ['SimHei']\n",
    "plt.rcParams['axes.unicode_minus'] = False"
   ]
  },
  {
   "cell_type": "code",
   "execution_count": 74,
   "metadata": {},
   "outputs": [],
   "source": [
    "from sklearn.linear_model import LinearRegression\n",
    "from statsmodels.graphics.tsaplots import plot_acf\n",
    "from statsmodels.tsa.stattools import adfuller as ADF"
   ]
  },
  {
   "cell_type": "code",
   "execution_count": 2,
   "metadata": {},
   "outputs": [],
   "source": [
    "#数据读取\n",
    "order_data=pd.read_excel('./order_data.xlsx',sheet_name='订单表')\n",
    "city_data=pd.read_excel('./order_data.xlsx',sheet_name='城市表')\n",
    "cus_data=pd.read_excel('./order_data.xlsx',sheet_name='客户表')\n",
    "saler_data=pd.read_excel('./order_data.xlsx',sheet_name='销售人员表')"
   ]
  },
  {
   "cell_type": "markdown",
   "metadata": {},
   "source": [
    "# 目前经营情况分析\n",
    "## 角度：\n",
    "    - 订单量\n",
    "    - 销售金额\n",
    "    - 销售利润\n",
    "    - 利润率\n",
    "    "
   ]
  },
  {
   "cell_type": "markdown",
   "metadata": {},
   "source": [
    "### 订单量"
   ]
  },
  {
   "cell_type": "code",
   "execution_count": 3,
   "metadata": {},
   "outputs": [],
   "source": [
    "#去除异常订单日期数据\n",
    "order_data=order_data[order_data['订单日期'].apply(type)!=int]"
   ]
  },
  {
   "cell_type": "code",
   "execution_count": 18,
   "metadata": {},
   "outputs": [
    {
     "name": "stdout",
     "output_type": "stream",
     "text": [
      "<class 'pandas.core.frame.DataFrame'>\n",
      "Int64Index: 25000 entries, 0 to 24999\n",
      "Data columns (total 17 columns):\n",
      " #   Column  Non-Null Count  Dtype  \n",
      "---  ------  --------------  -----  \n",
      " 0   产品ID    25000 non-null  object \n",
      " 1   订单ID    25000 non-null  int64  \n",
      " 2   客户ID    25000 non-null  int64  \n",
      " 3   订单日期    25000 non-null  object \n",
      " 4   发货日期    25000 non-null  object \n",
      " 5   销售经理ID  25000 non-null  object \n",
      " 6   利润      25000 non-null  float64\n",
      " 7   折扣      25000 non-null  float64\n",
      " 8   数量      25000 non-null  int64  \n",
      " 9   是否退回    25000 non-null  int64  \n",
      " 10  计划发货天数  25000 non-null  int64  \n",
      " 11  销售额     25000 non-null  float64\n",
      " 12  实际发货天数  25000 non-null  int64  \n",
      " 13  产品类型    25000 non-null  object \n",
      " 14  产品名称    25000 non-null  object \n",
      " 15  产品单价    25000 non-null  float64\n",
      " 16  产品成本价   25000 non-null  int64  \n",
      "dtypes: float64(4), int64(7), object(6)\n",
      "memory usage: 4.1+ MB\n"
     ]
    }
   ],
   "source": [
    "order_data.info()"
   ]
  },
  {
   "cell_type": "code",
   "execution_count": 4,
   "metadata": {
    "scrolled": true
   },
   "outputs": [],
   "source": [
    "#产品类型维度\n",
    "order_data['month']=order_data['订单日期'].apply(str).str[:7]\n",
    "order_data['quater']=pd.PeriodIndex(order_data['订单日期'].astype('datetime64'), freq='Q').astype('str')\n",
    "order_data['year']=pd.to_datetime(order_data['订单日期']).dt.year\n"
   ]
  },
  {
   "cell_type": "code",
   "execution_count": 5,
   "metadata": {},
   "outputs": [],
   "source": [
    "order_data['1-12month']=pd.to_datetime(order_data['订单日期']).dt.month\n",
    "#是为了看有无季节周期性"
   ]
  },
  {
   "cell_type": "code",
   "execution_count": 106,
   "metadata": {},
   "outputs": [],
   "source": [
    "order_year=order_data.groupby('year').agg({\n",
    "    '订单ID':'count',\n",
    "    '销售额':'sum',\n",
    "    '利润':'sum',\n",
    "    '数量':'sum'\n",
    "}).rename(columns={\n",
    "    '订单ID':'订单数量',\n",
    "    '数量':'销量'\n",
    "})"
   ]
  },
  {
   "cell_type": "code",
   "execution_count": 131,
   "metadata": {},
   "outputs": [],
   "source": [
    "order_year['利润率']=order_year['利润']/order_year['销售额']"
   ]
  },
  {
   "cell_type": "code",
   "execution_count": 132,
   "metadata": {},
   "outputs": [],
   "source": [
    "profit_rate_label=['%.2f%%' % (i*100) for i in  order_year['利润率']]"
   ]
  },
  {
   "cell_type": "code",
   "execution_count": 133,
   "metadata": {},
   "outputs": [
    {
     "data": {
      "text/plain": [
       "['53.98%', '54.25%', '53.99%']"
      ]
     },
     "execution_count": 133,
     "metadata": {},
     "output_type": "execute_result"
    }
   ],
   "source": [
    "profit_rate_label"
   ]
  },
  {
   "cell_type": "code",
   "execution_count": 130,
   "metadata": {},
   "outputs": [],
   "source": [
    "order_year['销售额增长率']=(order_year['销售额'].diff()/order_year['销售额']).fillna(0)"
   ]
  },
  {
   "cell_type": "code",
   "execution_count": 128,
   "metadata": {},
   "outputs": [],
   "source": [
    "sale_rate_label=['%.2f%%'%(i*100) for i in order_year['销售额增长率']]"
   ]
  },
  {
   "cell_type": "code",
   "execution_count": 129,
   "metadata": {},
   "outputs": [
    {
     "data": {
      "text/plain": [
       "['0.00%', '0.83%', '-2.25%']"
      ]
     },
     "execution_count": 129,
     "metadata": {},
     "output_type": "execute_result"
    }
   ],
   "source": [
    "sale_rate_label"
   ]
  },
  {
   "cell_type": "code",
   "execution_count": 135,
   "metadata": {},
   "outputs": [],
   "source": [
    "y1=order_year['销售额']\n",
    "y2=order_year['销售额增长率']\n",
    "x=[str(i) for i in order_year.index]"
   ]
  },
  {
   "cell_type": "code",
   "execution_count": 138,
   "metadata": {},
   "outputs": [
    {
     "data": {
      "image/png": "[encoded data removed]",
      "text/plain": [
       "<Figure size 432x288 with 2 Axes>"
      ]
     },
     "metadata": {},
     "output_type": "display_data"
    }
   ],
   "source": [
    "#设置风格\n",
    "plt.style.use('ggplot')\n",
    "y1=order_year['销售额']\n",
    "y2=order_year['销售额增长率']\n",
    "x=[str(i) for i in order_year.index]\n",
    "#新建figure对象\n",
    "fig=plt.figure()\n",
    "#新建子图\n",
    "ax1=fig.add_subplot(1,1,1)\n",
    "#ax2与ax1共享x轴\n",
    "ax2=ax1.twinx()\n",
    "ax1.bar(x,y1,color='blue')\n",
    "ax2.plot(x,y2,marker='*',color='r')\n",
    "ax1.set_xlabel('年份')\n",
    "ax1.set_ylabel('销售额')\n",
    "ax2.set_ylabel('销售额增长率')\n",
    "ax1.set_title('销售额与增长率变化')\n",
    "plt.show()"
   ]
  },
  {
   "cell_type": "code",
   "execution_count": 137,
   "metadata": {},
   "outputs": [
    {
     "data": {
      "text/plain": [
       "year\n",
       "2017    0.000000\n",
       "2018    0.008319\n",
       "2019   -0.022484\n",
       "Name: 销售额增长率, dtype: float64"
      ]
     },
     "execution_count": 137,
     "metadata": {},
     "output_type": "execute_result"
    }
   ],
   "source": [
    "y2\n"
   ]
  },
  {
   "cell_type": "code",
   "execution_count": 89,
   "metadata": {},
   "outputs": [],
   "source": [
    "order_quater=order_data.groupby('quater').agg({\n",
    "    '订单ID':'count',\n",
    "    '销售额':'sum',\n",
    "    '利润':'sum',\n",
    "    '数量':'sum'\n",
    "}).rename(columns={\n",
    "    '订单ID':'订单数量',\n",
    "    '数量':'销量'\n",
    "})"
   ]
  },
  {
   "cell_type": "code",
   "execution_count": 96,
   "metadata": {},
   "outputs": [],
   "source": [
    "order_quater['利润率']=['%.2f%%' % (i*100) for i in  order_quater['利润']/order_quater['销售额']]\n",
    "# [\"%.2f%%\"%(i/sum(df.values)*100) for i in df.values]"
   ]
  },
  {
   "cell_type": "code",
   "execution_count": 97,
   "metadata": {},
   "outputs": [
    {
     "data": {
      "text/html": [
       "<div>\n",
       "<style scoped>\n",
       "    .dataframe tbody tr th:only-of-type {\n",
       "        vertical-align: middle;\n",
       "    }\n",
       "\n",
       "    .dataframe tbody tr th {\n",
       "        vertical-align: top;\n",
       "    }\n",
       "\n",
       "    .dataframe thead th {\n",
       "        text-align: right;\n",
       "    }\n",
       "</style>\n",
       "<table border=\"1\" class=\"dataframe\">\n",
       "  <thead>\n",
       "    <tr style=\"text-align: right;\">\n",
       "      <th></th>\n",
       "      <th>订单数量</th>\n",
       "      <th>销售额</th>\n",
       "      <th>利润</th>\n",
       "      <th>销量</th>\n",
       "      <th>利润率</th>\n",
       "    </tr>\n",
       "    <tr>\n",
       "      <th>quater</th>\n",
       "      <th></th>\n",
       "      <th></th>\n",
       "      <th></th>\n",
       "      <th></th>\n",
       "      <th></th>\n",
       "    </tr>\n",
       "  </thead>\n",
       "  <tbody>\n",
       "    <tr>\n",
       "      <th>2017Q1</th>\n",
       "      <td>2038</td>\n",
       "      <td>1467185.0</td>\n",
       "      <td>790634.700</td>\n",
       "      <td>11050</td>\n",
       "      <td>53.89%</td>\n",
       "    </tr>\n",
       "    <tr>\n",
       "      <th>2017Q2</th>\n",
       "      <td>2103</td>\n",
       "      <td>1417899.5</td>\n",
       "      <td>768580.645</td>\n",
       "      <td>11545</td>\n",
       "      <td>54.21%</td>\n",
       "    </tr>\n",
       "    <tr>\n",
       "      <th>2017Q3</th>\n",
       "      <td>2138</td>\n",
       "      <td>1506792.0</td>\n",
       "      <td>813116.545</td>\n",
       "      <td>11880</td>\n",
       "      <td>53.96%</td>\n",
       "    </tr>\n",
       "    <tr>\n",
       "      <th>2017Q4</th>\n",
       "      <td>2156</td>\n",
       "      <td>1581162.7</td>\n",
       "      <td>852088.905</td>\n",
       "      <td>11963</td>\n",
       "      <td>53.89%</td>\n",
       "    </tr>\n",
       "    <tr>\n",
       "      <th>2018Q1</th>\n",
       "      <td>2111</td>\n",
       "      <td>1460510.5</td>\n",
       "      <td>794525.040</td>\n",
       "      <td>11585</td>\n",
       "      <td>54.40%</td>\n",
       "    </tr>\n",
       "    <tr>\n",
       "      <th>2018Q2</th>\n",
       "      <td>2056</td>\n",
       "      <td>1502694.9</td>\n",
       "      <td>811823.595</td>\n",
       "      <td>11401</td>\n",
       "      <td>54.02%</td>\n",
       "    </tr>\n",
       "    <tr>\n",
       "      <th>2018Q3</th>\n",
       "      <td>2073</td>\n",
       "      <td>1522755.0</td>\n",
       "      <td>826808.375</td>\n",
       "      <td>11620</td>\n",
       "      <td>54.30%</td>\n",
       "    </tr>\n",
       "    <tr>\n",
       "      <th>2018Q4</th>\n",
       "      <td>2117</td>\n",
       "      <td>1537186.5</td>\n",
       "      <td>834431.840</td>\n",
       "      <td>11685</td>\n",
       "      <td>54.28%</td>\n",
       "    </tr>\n",
       "    <tr>\n",
       "      <th>2019Q1</th>\n",
       "      <td>2037</td>\n",
       "      <td>1405149.6</td>\n",
       "      <td>753042.725</td>\n",
       "      <td>11244</td>\n",
       "      <td>53.59%</td>\n",
       "    </tr>\n",
       "    <tr>\n",
       "      <th>2019Q2</th>\n",
       "      <td>2102</td>\n",
       "      <td>1500820.8</td>\n",
       "      <td>816482.170</td>\n",
       "      <td>11572</td>\n",
       "      <td>54.40%</td>\n",
       "    </tr>\n",
       "    <tr>\n",
       "      <th>2019Q3</th>\n",
       "      <td>2050</td>\n",
       "      <td>1557003.9</td>\n",
       "      <td>844423.715</td>\n",
       "      <td>11421</td>\n",
       "      <td>54.23%</td>\n",
       "    </tr>\n",
       "    <tr>\n",
       "      <th>2019Q4</th>\n",
       "      <td>2019</td>\n",
       "      <td>1427724.7</td>\n",
       "      <td>766408.720</td>\n",
       "      <td>10993</td>\n",
       "      <td>53.68%</td>\n",
       "    </tr>\n",
       "  </tbody>\n",
       "</table>\n",
       "</div>"
      ],
      "text/plain": [
       "        订单数量        销售额          利润     销量     利润率\n",
       "quater                                            \n",
       "2017Q1  2038  1467185.0  790634.700  11050  53.89%\n",
       "2017Q2  2103  1417899.5  768580.645  11545  54.21%\n",
       "2017Q3  2138  1506792.0  813116.545  11880  53.96%\n",
       "2017Q4  2156  1581162.7  852088.905  11963  53.89%\n",
       "2018Q1  2111  1460510.5  794525.040  11585  54.40%\n",
       "2018Q2  2056  1502694.9  811823.595  11401  54.02%\n",
       "2018Q3  2073  1522755.0  826808.375  11620  54.30%\n",
       "2018Q4  2117  1537186.5  834431.840  11685  54.28%\n",
       "2019Q1  2037  1405149.6  753042.725  11244  53.59%\n",
       "2019Q2  2102  1500820.8  816482.170  11572  54.40%\n",
       "2019Q3  2050  1557003.9  844423.715  11421  54.23%\n",
       "2019Q4  2019  1427724.7  766408.720  10993  53.68%"
      ]
     },
     "execution_count": 97,
     "metadata": {},
     "output_type": "execute_result"
    }
   ],
   "source": [
    "order_quater"
   ]
  },
  {
   "cell_type": "code",
   "execution_count": 105,
   "metadata": {},
   "outputs": [
    {
     "data": {
      "text/plain": [
       "<BarContainer object of 12 artists>"
      ]
     },
     "execution_count": 105,
     "metadata": {},
     "output_type": "execute_result"
    },
    {
     "data": {
      "image/png": "[encoded data removed]",
      "text/plain": [
       "<Figure size 432x288 with 1 Axes>"
      ]
     },
     "metadata": {
      "needs_background": "light"
     },
     "output_type": "display_data"
    }
   ],
   "source": [
    "# plt.plot(order_quater['销售额'])\n",
    "plt.bar(x=order_quater.index,height=order_quater['销售额'])\n",
    "plt.bar(x=order_quater.index,height=order_quater['利润'])\n",
    "# plt.plot(order_quater['利润率'])"
   ]
  },
  {
   "cell_type": "code",
   "execution_count": 86,
   "metadata": {
    "scrolled": true
   },
   "outputs": [
    {
     "data": {
      "text/plain": [
       "quater\n",
       "2017Q1    729\n",
       "2017Q2    727\n",
       "2017Q3    735\n",
       "2017Q4    727\n",
       "2018Q1    732\n",
       "2018Q2    734\n",
       "2018Q3    739\n",
       "2018Q4    747\n",
       "2019Q1    727\n",
       "2019Q2    741\n",
       "2019Q3    726\n",
       "2019Q4    735\n",
       "Name: 客户ID, dtype: int64"
      ]
     },
     "execution_count": 86,
     "metadata": {},
     "output_type": "execute_result"
    }
   ],
   "source": [
    "order_data[['quater','客户ID']].drop_duplicates().groupby('quater')['客户ID'].count()"
   ]
  },
  {
   "cell_type": "code",
   "execution_count": null,
   "metadata": {},
   "outputs": [],
   "source": [
    "order_data.groupby('quater').agg({\n",
    "    ''\n",
    "})"
   ]
  },
  {
   "cell_type": "code",
   "execution_count": 35,
   "metadata": {},
   "outputs": [],
   "source": [
    "product_quater=pd.pivot_table(order_data,columns='产品类型',index='quater',values='订单ID',aggfunc='count')"
   ]
  },
  {
   "cell_type": "code",
   "execution_count": 54,
   "metadata": {
    "collapsed": true
   },
   "outputs": [
    {
     "data": {
      "text/html": [
       "<div>\n",
       "<style scoped>\n",
       "    .dataframe tbody tr th:only-of-type {\n",
       "        vertical-align: middle;\n",
       "    }\n",
       "\n",
       "    .dataframe tbody tr th {\n",
       "        vertical-align: top;\n",
       "    }\n",
       "\n",
       "    .dataframe thead th {\n",
       "        text-align: right;\n",
       "    }\n",
       "</style>\n",
       "<table border=\"1\" class=\"dataframe\">\n",
       "  <thead>\n",
       "    <tr style=\"text-align: right;\">\n",
       "      <th>产品类型</th>\n",
       "      <th>冬装</th>\n",
       "      <th>夏装</th>\n",
       "      <th>秋装</th>\n",
       "    </tr>\n",
       "    <tr>\n",
       "      <th>quater</th>\n",
       "      <th></th>\n",
       "      <th></th>\n",
       "      <th></th>\n",
       "    </tr>\n",
       "  </thead>\n",
       "  <tbody>\n",
       "    <tr>\n",
       "      <th>2017Q1</th>\n",
       "      <td>1083</td>\n",
       "      <td>477</td>\n",
       "      <td>478</td>\n",
       "    </tr>\n",
       "    <tr>\n",
       "      <th>2017Q2</th>\n",
       "      <td>1125</td>\n",
       "      <td>476</td>\n",
       "      <td>502</td>\n",
       "    </tr>\n",
       "    <tr>\n",
       "      <th>2017Q3</th>\n",
       "      <td>1054</td>\n",
       "      <td>530</td>\n",
       "      <td>554</td>\n",
       "    </tr>\n",
       "    <tr>\n",
       "      <th>2017Q4</th>\n",
       "      <td>1152</td>\n",
       "      <td>502</td>\n",
       "      <td>502</td>\n",
       "    </tr>\n",
       "    <tr>\n",
       "      <th>2018Q1</th>\n",
       "      <td>1141</td>\n",
       "      <td>505</td>\n",
       "      <td>465</td>\n",
       "    </tr>\n",
       "    <tr>\n",
       "      <th>2018Q2</th>\n",
       "      <td>1095</td>\n",
       "      <td>470</td>\n",
       "      <td>491</td>\n",
       "    </tr>\n",
       "    <tr>\n",
       "      <th>2018Q3</th>\n",
       "      <td>1069</td>\n",
       "      <td>519</td>\n",
       "      <td>485</td>\n",
       "    </tr>\n",
       "    <tr>\n",
       "      <th>2018Q4</th>\n",
       "      <td>1149</td>\n",
       "      <td>494</td>\n",
       "      <td>474</td>\n",
       "    </tr>\n",
       "    <tr>\n",
       "      <th>2019Q1</th>\n",
       "      <td>1063</td>\n",
       "      <td>492</td>\n",
       "      <td>482</td>\n",
       "    </tr>\n",
       "    <tr>\n",
       "      <th>2019Q2</th>\n",
       "      <td>1137</td>\n",
       "      <td>475</td>\n",
       "      <td>490</td>\n",
       "    </tr>\n",
       "    <tr>\n",
       "      <th>2019Q3</th>\n",
       "      <td>1086</td>\n",
       "      <td>484</td>\n",
       "      <td>480</td>\n",
       "    </tr>\n",
       "    <tr>\n",
       "      <th>2019Q4</th>\n",
       "      <td>1052</td>\n",
       "      <td>502</td>\n",
       "      <td>465</td>\n",
       "    </tr>\n",
       "  </tbody>\n",
       "</table>\n",
       "</div>"
      ],
      "text/plain": [
       "产品类型      冬装   夏装   秋装\n",
       "quater                \n",
       "2017Q1  1083  477  478\n",
       "2017Q2  1125  476  502\n",
       "2017Q3  1054  530  554\n",
       "2017Q4  1152  502  502\n",
       "2018Q1  1141  505  465\n",
       "2018Q2  1095  470  491\n",
       "2018Q3  1069  519  485\n",
       "2018Q4  1149  494  474\n",
       "2019Q1  1063  492  482\n",
       "2019Q2  1137  475  490\n",
       "2019Q3  1086  484  480\n",
       "2019Q4  1052  502  465"
      ]
     },
     "execution_count": 54,
     "metadata": {},
     "output_type": "execute_result"
    }
   ],
   "source": [
    "product_quater"
   ]
  },
  {
   "cell_type": "code",
   "execution_count": 63,
   "metadata": {
    "scrolled": true
   },
   "outputs": [
    {
     "data": {
      "image/png": "[encoded data removed]",
      "text/plain": [
       "<Figure size 720x288 with 1 Axes>"
      ]
     },
     "metadata": {
      "needs_background": "light"
     },
     "output_type": "display_data"
    }
   ],
   "source": [
    "# f,ax=plt.subplots(3,1)\n",
    "f,ax=plt.subplots(figsize=(10,4))\n",
    "for col in product_quater.columns:\n",
    "    plt.plot(product_quater[col],marker='o',linestyle='-')\n",
    "plt.legend(labels=['冬装','夏装','秋装'])\n",
    "plt.show()"
   ]
  },
  {
   "cell_type": "markdown",
   "metadata": {},
   "source": [
    "- 可以看出冬装和夏装周期性明显，并可以预测2020第1季度，冬装订单量会下降，夏装订单量会上升，夏装订单量以1年为1周期"
   ]
  },
  {
   "cell_type": "code",
   "execution_count": 68,
   "metadata": {},
   "outputs": [],
   "source": [
    "product_month=pd.pivot_table(order_data,columns='产品类型',index='month',values='订单ID',aggfunc='count')"
   ]
  },
  {
   "cell_type": "code",
   "execution_count": 71,
   "metadata": {},
   "outputs": [
    {
     "data": {
      "image/png": "[encoded data removed]",
      "text/plain": [
       "<Figure size 1080x288 with 1 Axes>"
      ]
     },
     "metadata": {
      "needs_background": "light"
     },
     "output_type": "display_data"
    }
   ],
   "source": [
    "f,ax=plt.subplots(figsize=(15,4))\n",
    "for col in product_month.columns:\n",
    "    plt.plot(product_month[col],marker='o',linestyle='-')\n",
    "    plt.xticks(rotation=45)\n",
    "plt.legend(labels=['冬装','夏装','秋装'])\n",
    "plt.show()"
   ]
  },
  {
   "cell_type": "code",
   "execution_count": 79,
   "metadata": {},
   "outputs": [],
   "source": [
    "order_data.to_excel('./新订单表.xlsx')"
   ]
  },
  {
   "cell_type": "code",
   "execution_count": 77,
   "metadata": {
    "collapsed": true
   },
   "outputs": [
    {
     "data": {
      "text/html": [
       "<div>\n",
       "<style scoped>\n",
       "    .dataframe tbody tr th:only-of-type {\n",
       "        vertical-align: middle;\n",
       "    }\n",
       "\n",
       "    .dataframe tbody tr th {\n",
       "        vertical-align: top;\n",
       "    }\n",
       "\n",
       "    .dataframe thead th {\n",
       "        text-align: right;\n",
       "    }\n",
       "</style>\n",
       "<table border=\"1\" class=\"dataframe\">\n",
       "  <thead>\n",
       "    <tr style=\"text-align: right;\">\n",
       "      <th>产品类型</th>\n",
       "      <th>month</th>\n",
       "      <th>冬装</th>\n",
       "      <th>夏装</th>\n",
       "      <th>秋装</th>\n",
       "    </tr>\n",
       "  </thead>\n",
       "  <tbody>\n",
       "    <tr>\n",
       "      <th>0</th>\n",
       "      <td>2017-01</td>\n",
       "      <td>356</td>\n",
       "      <td>172</td>\n",
       "      <td>159</td>\n",
       "    </tr>\n",
       "    <tr>\n",
       "      <th>1</th>\n",
       "      <td>2017-02</td>\n",
       "      <td>352</td>\n",
       "      <td>144</td>\n",
       "      <td>146</td>\n",
       "    </tr>\n",
       "    <tr>\n",
       "      <th>2</th>\n",
       "      <td>2017-03</td>\n",
       "      <td>375</td>\n",
       "      <td>161</td>\n",
       "      <td>173</td>\n",
       "    </tr>\n",
       "    <tr>\n",
       "      <th>3</th>\n",
       "      <td>2017-04</td>\n",
       "      <td>362</td>\n",
       "      <td>137</td>\n",
       "      <td>163</td>\n",
       "    </tr>\n",
       "    <tr>\n",
       "      <th>4</th>\n",
       "      <td>2017-05</td>\n",
       "      <td>406</td>\n",
       "      <td>171</td>\n",
       "      <td>173</td>\n",
       "    </tr>\n",
       "    <tr>\n",
       "      <th>5</th>\n",
       "      <td>2017-06</td>\n",
       "      <td>357</td>\n",
       "      <td>168</td>\n",
       "      <td>166</td>\n",
       "    </tr>\n",
       "    <tr>\n",
       "      <th>6</th>\n",
       "      <td>2017-07</td>\n",
       "      <td>375</td>\n",
       "      <td>183</td>\n",
       "      <td>197</td>\n",
       "    </tr>\n",
       "    <tr>\n",
       "      <th>7</th>\n",
       "      <td>2017-08</td>\n",
       "      <td>361</td>\n",
       "      <td>166</td>\n",
       "      <td>197</td>\n",
       "    </tr>\n",
       "    <tr>\n",
       "      <th>8</th>\n",
       "      <td>2017-09</td>\n",
       "      <td>318</td>\n",
       "      <td>181</td>\n",
       "      <td>160</td>\n",
       "    </tr>\n",
       "    <tr>\n",
       "      <th>9</th>\n",
       "      <td>2017-10</td>\n",
       "      <td>408</td>\n",
       "      <td>169</td>\n",
       "      <td>177</td>\n",
       "    </tr>\n",
       "    <tr>\n",
       "      <th>10</th>\n",
       "      <td>2017-11</td>\n",
       "      <td>354</td>\n",
       "      <td>160</td>\n",
       "      <td>155</td>\n",
       "    </tr>\n",
       "    <tr>\n",
       "      <th>11</th>\n",
       "      <td>2017-12</td>\n",
       "      <td>390</td>\n",
       "      <td>173</td>\n",
       "      <td>170</td>\n",
       "    </tr>\n",
       "    <tr>\n",
       "      <th>12</th>\n",
       "      <td>2018-01</td>\n",
       "      <td>401</td>\n",
       "      <td>160</td>\n",
       "      <td>183</td>\n",
       "    </tr>\n",
       "    <tr>\n",
       "      <th>13</th>\n",
       "      <td>2018-02</td>\n",
       "      <td>336</td>\n",
       "      <td>167</td>\n",
       "      <td>138</td>\n",
       "    </tr>\n",
       "    <tr>\n",
       "      <th>14</th>\n",
       "      <td>2018-03</td>\n",
       "      <td>404</td>\n",
       "      <td>178</td>\n",
       "      <td>144</td>\n",
       "    </tr>\n",
       "    <tr>\n",
       "      <th>15</th>\n",
       "      <td>2018-04</td>\n",
       "      <td>351</td>\n",
       "      <td>153</td>\n",
       "      <td>153</td>\n",
       "    </tr>\n",
       "    <tr>\n",
       "      <th>16</th>\n",
       "      <td>2018-05</td>\n",
       "      <td>399</td>\n",
       "      <td>170</td>\n",
       "      <td>171</td>\n",
       "    </tr>\n",
       "    <tr>\n",
       "      <th>17</th>\n",
       "      <td>2018-06</td>\n",
       "      <td>345</td>\n",
       "      <td>147</td>\n",
       "      <td>167</td>\n",
       "    </tr>\n",
       "    <tr>\n",
       "      <th>18</th>\n",
       "      <td>2018-07</td>\n",
       "      <td>375</td>\n",
       "      <td>197</td>\n",
       "      <td>176</td>\n",
       "    </tr>\n",
       "    <tr>\n",
       "      <th>19</th>\n",
       "      <td>2018-08</td>\n",
       "      <td>345</td>\n",
       "      <td>161</td>\n",
       "      <td>163</td>\n",
       "    </tr>\n",
       "    <tr>\n",
       "      <th>20</th>\n",
       "      <td>2018-09</td>\n",
       "      <td>349</td>\n",
       "      <td>161</td>\n",
       "      <td>146</td>\n",
       "    </tr>\n",
       "    <tr>\n",
       "      <th>21</th>\n",
       "      <td>2018-10</td>\n",
       "      <td>392</td>\n",
       "      <td>177</td>\n",
       "      <td>176</td>\n",
       "    </tr>\n",
       "    <tr>\n",
       "      <th>22</th>\n",
       "      <td>2018-11</td>\n",
       "      <td>370</td>\n",
       "      <td>152</td>\n",
       "      <td>165</td>\n",
       "    </tr>\n",
       "    <tr>\n",
       "      <th>23</th>\n",
       "      <td>2018-12</td>\n",
       "      <td>387</td>\n",
       "      <td>165</td>\n",
       "      <td>133</td>\n",
       "    </tr>\n",
       "    <tr>\n",
       "      <th>24</th>\n",
       "      <td>2019-01</td>\n",
       "      <td>360</td>\n",
       "      <td>170</td>\n",
       "      <td>168</td>\n",
       "    </tr>\n",
       "    <tr>\n",
       "      <th>25</th>\n",
       "      <td>2019-02</td>\n",
       "      <td>328</td>\n",
       "      <td>148</td>\n",
       "      <td>156</td>\n",
       "    </tr>\n",
       "    <tr>\n",
       "      <th>26</th>\n",
       "      <td>2019-03</td>\n",
       "      <td>375</td>\n",
       "      <td>174</td>\n",
       "      <td>158</td>\n",
       "    </tr>\n",
       "    <tr>\n",
       "      <th>27</th>\n",
       "      <td>2019-04</td>\n",
       "      <td>399</td>\n",
       "      <td>155</td>\n",
       "      <td>155</td>\n",
       "    </tr>\n",
       "    <tr>\n",
       "      <th>28</th>\n",
       "      <td>2019-05</td>\n",
       "      <td>367</td>\n",
       "      <td>169</td>\n",
       "      <td>177</td>\n",
       "    </tr>\n",
       "    <tr>\n",
       "      <th>29</th>\n",
       "      <td>2019-06</td>\n",
       "      <td>371</td>\n",
       "      <td>151</td>\n",
       "      <td>158</td>\n",
       "    </tr>\n",
       "    <tr>\n",
       "      <th>30</th>\n",
       "      <td>2019-07</td>\n",
       "      <td>387</td>\n",
       "      <td>171</td>\n",
       "      <td>168</td>\n",
       "    </tr>\n",
       "    <tr>\n",
       "      <th>31</th>\n",
       "      <td>2019-08</td>\n",
       "      <td>355</td>\n",
       "      <td>147</td>\n",
       "      <td>153</td>\n",
       "    </tr>\n",
       "    <tr>\n",
       "      <th>32</th>\n",
       "      <td>2019-09</td>\n",
       "      <td>344</td>\n",
       "      <td>166</td>\n",
       "      <td>159</td>\n",
       "    </tr>\n",
       "    <tr>\n",
       "      <th>33</th>\n",
       "      <td>2019-10</td>\n",
       "      <td>339</td>\n",
       "      <td>193</td>\n",
       "      <td>162</td>\n",
       "    </tr>\n",
       "    <tr>\n",
       "      <th>34</th>\n",
       "      <td>2019-11</td>\n",
       "      <td>386</td>\n",
       "      <td>162</td>\n",
       "      <td>154</td>\n",
       "    </tr>\n",
       "    <tr>\n",
       "      <th>35</th>\n",
       "      <td>2019-12</td>\n",
       "      <td>327</td>\n",
       "      <td>147</td>\n",
       "      <td>149</td>\n",
       "    </tr>\n",
       "  </tbody>\n",
       "</table>\n",
       "</div>"
      ],
      "text/plain": [
       "产品类型    month   冬装   夏装   秋装\n",
       "0     2017-01  356  172  159\n",
       "1     2017-02  352  144  146\n",
       "2     2017-03  375  161  173\n",
       "3     2017-04  362  137  163\n",
       "4     2017-05  406  171  173\n",
       "5     2017-06  357  168  166\n",
       "6     2017-07  375  183  197\n",
       "7     2017-08  361  166  197\n",
       "8     2017-09  318  181  160\n",
       "9     2017-10  408  169  177\n",
       "10    2017-11  354  160  155\n",
       "11    2017-12  390  173  170\n",
       "12    2018-01  401  160  183\n",
       "13    2018-02  336  167  138\n",
       "14    2018-03  404  178  144\n",
       "15    2018-04  351  153  153\n",
       "16    2018-05  399  170  171\n",
       "17    2018-06  345  147  167\n",
       "18    2018-07  375  197  176\n",
       "19    2018-08  345  161  163\n",
       "20    2018-09  349  161  146\n",
       "21    2018-10  392  177  176\n",
       "22    2018-11  370  152  165\n",
       "23    2018-12  387  165  133\n",
       "24    2019-01  360  170  168\n",
       "25    2019-02  328  148  156\n",
       "26    2019-03  375  174  158\n",
       "27    2019-04  399  155  155\n",
       "28    2019-05  367  169  177\n",
       "29    2019-06  371  151  158\n",
       "30    2019-07  387  171  168\n",
       "31    2019-08  355  147  153\n",
       "32    2019-09  344  166  159\n",
       "33    2019-10  339  193  162\n",
       "34    2019-11  386  162  154\n",
       "35    2019-12  327  147  149"
      ]
     },
     "execution_count": 77,
     "metadata": {},
     "output_type": "execute_result"
    }
   ],
   "source": [
    "product_month.reset_index()"
   ]
  },
  {
   "cell_type": "code",
   "execution_count": 33,
   "metadata": {
    "scrolled": true
   },
   "outputs": [
    {
     "data": {
      "text/html": [
       "<div>\n",
       "<style scoped>\n",
       "    .dataframe tbody tr th:only-of-type {\n",
       "        vertical-align: middle;\n",
       "    }\n",
       "\n",
       "    .dataframe tbody tr th {\n",
       "        vertical-align: top;\n",
       "    }\n",
       "\n",
       "    .dataframe thead tr th {\n",
       "        text-align: left;\n",
       "    }\n",
       "\n",
       "    .dataframe thead tr:last-of-type th {\n",
       "        text-align: right;\n",
       "    }\n",
       "</style>\n",
       "<table border=\"1\" class=\"dataframe\">\n",
       "  <thead>\n",
       "    <tr>\n",
       "      <th>产品类型</th>\n",
       "      <th colspan=\"9\" halign=\"left\">冬装</th>\n",
       "      <th colspan=\"4\" halign=\"left\">夏装</th>\n",
       "      <th colspan=\"4\" halign=\"left\">秋装</th>\n",
       "    </tr>\n",
       "    <tr>\n",
       "      <th>产品名称</th>\n",
       "      <th>保暖内衣</th>\n",
       "      <th>冲锋衣</th>\n",
       "      <th>围巾</th>\n",
       "      <th>帽子</th>\n",
       "      <th>手套</th>\n",
       "      <th>棉衣</th>\n",
       "      <th>棉袜</th>\n",
       "      <th>毛衣</th>\n",
       "      <th>羽绒服</th>\n",
       "      <th>短袖</th>\n",
       "      <th>短裙</th>\n",
       "      <th>短裤</th>\n",
       "      <th>长裙</th>\n",
       "      <th>外套</th>\n",
       "      <th>秋衣</th>\n",
       "      <th>秋裤</th>\n",
       "      <th>裤子</th>\n",
       "    </tr>\n",
       "    <tr>\n",
       "      <th>quater</th>\n",
       "      <th></th>\n",
       "      <th></th>\n",
       "      <th></th>\n",
       "      <th></th>\n",
       "      <th></th>\n",
       "      <th></th>\n",
       "      <th></th>\n",
       "      <th></th>\n",
       "      <th></th>\n",
       "      <th></th>\n",
       "      <th></th>\n",
       "      <th></th>\n",
       "      <th></th>\n",
       "      <th></th>\n",
       "      <th></th>\n",
       "      <th></th>\n",
       "      <th></th>\n",
       "    </tr>\n",
       "  </thead>\n",
       "  <tbody>\n",
       "    <tr>\n",
       "      <th>2017Q1</th>\n",
       "      <td>109</td>\n",
       "      <td>117</td>\n",
       "      <td>114</td>\n",
       "      <td>132</td>\n",
       "      <td>123</td>\n",
       "      <td>127</td>\n",
       "      <td>119</td>\n",
       "      <td>103</td>\n",
       "      <td>139</td>\n",
       "      <td>121</td>\n",
       "      <td>122</td>\n",
       "      <td>113</td>\n",
       "      <td>121</td>\n",
       "      <td>121</td>\n",
       "      <td>125</td>\n",
       "      <td>135</td>\n",
       "      <td>97</td>\n",
       "    </tr>\n",
       "    <tr>\n",
       "      <th>2017Q2</th>\n",
       "      <td>112</td>\n",
       "      <td>117</td>\n",
       "      <td>142</td>\n",
       "      <td>131</td>\n",
       "      <td>144</td>\n",
       "      <td>123</td>\n",
       "      <td>126</td>\n",
       "      <td>115</td>\n",
       "      <td>115</td>\n",
       "      <td>113</td>\n",
       "      <td>118</td>\n",
       "      <td>124</td>\n",
       "      <td>121</td>\n",
       "      <td>119</td>\n",
       "      <td>148</td>\n",
       "      <td>108</td>\n",
       "      <td>127</td>\n",
       "    </tr>\n",
       "    <tr>\n",
       "      <th>2017Q3</th>\n",
       "      <td>130</td>\n",
       "      <td>106</td>\n",
       "      <td>109</td>\n",
       "      <td>98</td>\n",
       "      <td>135</td>\n",
       "      <td>125</td>\n",
       "      <td>107</td>\n",
       "      <td>117</td>\n",
       "      <td>127</td>\n",
       "      <td>125</td>\n",
       "      <td>154</td>\n",
       "      <td>131</td>\n",
       "      <td>120</td>\n",
       "      <td>132</td>\n",
       "      <td>144</td>\n",
       "      <td>134</td>\n",
       "      <td>144</td>\n",
       "    </tr>\n",
       "    <tr>\n",
       "      <th>2017Q4</th>\n",
       "      <td>132</td>\n",
       "      <td>135</td>\n",
       "      <td>141</td>\n",
       "      <td>108</td>\n",
       "      <td>106</td>\n",
       "      <td>112</td>\n",
       "      <td>123</td>\n",
       "      <td>155</td>\n",
       "      <td>140</td>\n",
       "      <td>114</td>\n",
       "      <td>127</td>\n",
       "      <td>134</td>\n",
       "      <td>127</td>\n",
       "      <td>127</td>\n",
       "      <td>132</td>\n",
       "      <td>125</td>\n",
       "      <td>118</td>\n",
       "    </tr>\n",
       "    <tr>\n",
       "      <th>2018Q1</th>\n",
       "      <td>130</td>\n",
       "      <td>131</td>\n",
       "      <td>135</td>\n",
       "      <td>124</td>\n",
       "      <td>135</td>\n",
       "      <td>113</td>\n",
       "      <td>121</td>\n",
       "      <td>127</td>\n",
       "      <td>125</td>\n",
       "      <td>140</td>\n",
       "      <td>142</td>\n",
       "      <td>124</td>\n",
       "      <td>99</td>\n",
       "      <td>134</td>\n",
       "      <td>114</td>\n",
       "      <td>114</td>\n",
       "      <td>103</td>\n",
       "    </tr>\n",
       "    <tr>\n",
       "      <th>2018Q2</th>\n",
       "      <td>110</td>\n",
       "      <td>124</td>\n",
       "      <td>125</td>\n",
       "      <td>111</td>\n",
       "      <td>137</td>\n",
       "      <td>124</td>\n",
       "      <td>115</td>\n",
       "      <td>117</td>\n",
       "      <td>132</td>\n",
       "      <td>129</td>\n",
       "      <td>125</td>\n",
       "      <td>118</td>\n",
       "      <td>98</td>\n",
       "      <td>117</td>\n",
       "      <td>124</td>\n",
       "      <td>119</td>\n",
       "      <td>131</td>\n",
       "    </tr>\n",
       "    <tr>\n",
       "      <th>2018Q3</th>\n",
       "      <td>112</td>\n",
       "      <td>126</td>\n",
       "      <td>113</td>\n",
       "      <td>130</td>\n",
       "      <td>114</td>\n",
       "      <td>122</td>\n",
       "      <td>112</td>\n",
       "      <td>104</td>\n",
       "      <td>136</td>\n",
       "      <td>119</td>\n",
       "      <td>133</td>\n",
       "      <td>153</td>\n",
       "      <td>114</td>\n",
       "      <td>118</td>\n",
       "      <td>116</td>\n",
       "      <td>109</td>\n",
       "      <td>142</td>\n",
       "    </tr>\n",
       "    <tr>\n",
       "      <th>2018Q4</th>\n",
       "      <td>128</td>\n",
       "      <td>147</td>\n",
       "      <td>123</td>\n",
       "      <td>117</td>\n",
       "      <td>125</td>\n",
       "      <td>128</td>\n",
       "      <td>116</td>\n",
       "      <td>141</td>\n",
       "      <td>124</td>\n",
       "      <td>151</td>\n",
       "      <td>113</td>\n",
       "      <td>117</td>\n",
       "      <td>113</td>\n",
       "      <td>111</td>\n",
       "      <td>126</td>\n",
       "      <td>114</td>\n",
       "      <td>123</td>\n",
       "    </tr>\n",
       "    <tr>\n",
       "      <th>2019Q1</th>\n",
       "      <td>138</td>\n",
       "      <td>122</td>\n",
       "      <td>118</td>\n",
       "      <td>111</td>\n",
       "      <td>114</td>\n",
       "      <td>111</td>\n",
       "      <td>109</td>\n",
       "      <td>135</td>\n",
       "      <td>105</td>\n",
       "      <td>117</td>\n",
       "      <td>121</td>\n",
       "      <td>134</td>\n",
       "      <td>120</td>\n",
       "      <td>122</td>\n",
       "      <td>106</td>\n",
       "      <td>135</td>\n",
       "      <td>119</td>\n",
       "    </tr>\n",
       "    <tr>\n",
       "      <th>2019Q2</th>\n",
       "      <td>122</td>\n",
       "      <td>120</td>\n",
       "      <td>139</td>\n",
       "      <td>135</td>\n",
       "      <td>130</td>\n",
       "      <td>117</td>\n",
       "      <td>137</td>\n",
       "      <td>110</td>\n",
       "      <td>127</td>\n",
       "      <td>118</td>\n",
       "      <td>112</td>\n",
       "      <td>133</td>\n",
       "      <td>112</td>\n",
       "      <td>126</td>\n",
       "      <td>130</td>\n",
       "      <td>107</td>\n",
       "      <td>127</td>\n",
       "    </tr>\n",
       "    <tr>\n",
       "      <th>2019Q3</th>\n",
       "      <td>112</td>\n",
       "      <td>123</td>\n",
       "      <td>116</td>\n",
       "      <td>115</td>\n",
       "      <td>125</td>\n",
       "      <td>122</td>\n",
       "      <td>108</td>\n",
       "      <td>124</td>\n",
       "      <td>141</td>\n",
       "      <td>129</td>\n",
       "      <td>121</td>\n",
       "      <td>110</td>\n",
       "      <td>124</td>\n",
       "      <td>129</td>\n",
       "      <td>130</td>\n",
       "      <td>111</td>\n",
       "      <td>110</td>\n",
       "    </tr>\n",
       "    <tr>\n",
       "      <th>2019Q4</th>\n",
       "      <td>133</td>\n",
       "      <td>114</td>\n",
       "      <td>125</td>\n",
       "      <td>112</td>\n",
       "      <td>114</td>\n",
       "      <td>121</td>\n",
       "      <td>103</td>\n",
       "      <td>98</td>\n",
       "      <td>132</td>\n",
       "      <td>123</td>\n",
       "      <td>123</td>\n",
       "      <td>130</td>\n",
       "      <td>126</td>\n",
       "      <td>113</td>\n",
       "      <td>116</td>\n",
       "      <td>114</td>\n",
       "      <td>122</td>\n",
       "    </tr>\n",
       "  </tbody>\n",
       "</table>\n",
       "</div>"
      ],
      "text/plain": [
       "产品类型     冬装                                           夏装                  秋装  \\\n",
       "产品名称   保暖内衣  冲锋衣   围巾   帽子   手套   棉衣   棉袜   毛衣  羽绒服   短袖   短裙   短裤   长裙   外套   \n",
       "quater                                                                         \n",
       "2017Q1  109  117  114  132  123  127  119  103  139  121  122  113  121  121   \n",
       "2017Q2  112  117  142  131  144  123  126  115  115  113  118  124  121  119   \n",
       "2017Q3  130  106  109   98  135  125  107  117  127  125  154  131  120  132   \n",
       "2017Q4  132  135  141  108  106  112  123  155  140  114  127  134  127  127   \n",
       "2018Q1  130  131  135  124  135  113  121  127  125  140  142  124   99  134   \n",
       "2018Q2  110  124  125  111  137  124  115  117  132  129  125  118   98  117   \n",
       "2018Q3  112  126  113  130  114  122  112  104  136  119  133  153  114  118   \n",
       "2018Q4  128  147  123  117  125  128  116  141  124  151  113  117  113  111   \n",
       "2019Q1  138  122  118  111  114  111  109  135  105  117  121  134  120  122   \n",
       "2019Q2  122  120  139  135  130  117  137  110  127  118  112  133  112  126   \n",
       "2019Q3  112  123  116  115  125  122  108  124  141  129  121  110  124  129   \n",
       "2019Q4  133  114  125  112  114  121  103   98  132  123  123  130  126  113   \n",
       "\n",
       "产品类型                   \n",
       "产品名称     秋衣   秋裤   裤子  \n",
       "quater                 \n",
       "2017Q1  125  135   97  \n",
       "2017Q2  148  108  127  \n",
       "2017Q3  144  134  144  \n",
       "2017Q4  132  125  118  \n",
       "2018Q1  114  114  103  \n",
       "2018Q2  124  119  131  \n",
       "2018Q3  116  109  142  \n",
       "2018Q4  126  114  123  \n",
       "2019Q1  106  135  119  \n",
       "2019Q2  130  107  127  \n",
       "2019Q3  130  111  110  \n",
       "2019Q4  116  114  122  "
      ]
     },
     "execution_count": 33,
     "metadata": {},
     "output_type": "execute_result"
    }
   ],
   "source": [
    "pd.pivot_table(order_data,columns=['产品类型','产品名称'],index='quater',values='订单ID',aggfunc='count')"
   ]
  },
  {
   "cell_type": "markdown",
   "metadata": {},
   "source": [
    "# 重来"
   ]
  },
  {
   "cell_type": "code",
   "execution_count": null,
   "metadata": {},
   "outputs": [],
   "source": []
  },
  {
   "cell_type": "code",
   "execution_count": 146,
   "metadata": {},
   "outputs": [],
   "source": [
    "#计算每年GMV\n",
    "order_year_df=order_data.groupby('year').agg({\n",
    "    '销售额':'sum'\n",
    "})"
   ]
  },
  {
   "cell_type": "code",
   "execution_count": 147,
   "metadata": {},
   "outputs": [],
   "source": [
    "#每年交易用户数\n",
    "order_year_df['交易用户数']=order_data[['year','客户ID']].drop_duplicates().groupby('year')['客户ID'].count()"
   ]
  },
  {
   "cell_type": "code",
   "execution_count": 150,
   "metadata": {},
   "outputs": [],
   "source": [
    "order_year_df=order_year_df.rename(columns={'销售额':'GMV'})"
   ]
  },
  {
   "cell_type": "code",
   "execution_count": 152,
   "metadata": {
    "collapsed": true
   },
   "outputs": [
    {
     "data": {
      "text/html": [
       "<div>\n",
       "<style scoped>\n",
       "    .dataframe tbody tr th:only-of-type {\n",
       "        vertical-align: middle;\n",
       "    }\n",
       "\n",
       "    .dataframe tbody tr th {\n",
       "        vertical-align: top;\n",
       "    }\n",
       "\n",
       "    .dataframe thead th {\n",
       "        text-align: right;\n",
       "    }\n",
       "</style>\n",
       "<table border=\"1\" class=\"dataframe\">\n",
       "  <thead>\n",
       "    <tr style=\"text-align: right;\">\n",
       "      <th></th>\n",
       "      <th>产品ID</th>\n",
       "      <th>订单ID</th>\n",
       "      <th>客户ID</th>\n",
       "      <th>订单日期</th>\n",
       "      <th>发货日期</th>\n",
       "      <th>销售经理ID</th>\n",
       "      <th>利润</th>\n",
       "      <th>折扣</th>\n",
       "      <th>数量</th>\n",
       "      <th>是否退回</th>\n",
       "      <th>...</th>\n",
       "      <th>销售额</th>\n",
       "      <th>实际发货天数</th>\n",
       "      <th>产品类型</th>\n",
       "      <th>产品名称</th>\n",
       "      <th>产品单价</th>\n",
       "      <th>产品成本价</th>\n",
       "      <th>month</th>\n",
       "      <th>quater</th>\n",
       "      <th>year</th>\n",
       "      <th>1-12month</th>\n",
       "    </tr>\n",
       "  </thead>\n",
       "  <tbody>\n",
       "    <tr>\n",
       "      <th>0</th>\n",
       "      <td>p1047</td>\n",
       "      <td>1</td>\n",
       "      <td>10221</td>\n",
       "      <td>2017-01-01 00:00:00</td>\n",
       "      <td>2017-01-02 00:00:00</td>\n",
       "      <td>sale003</td>\n",
       "      <td>10.90</td>\n",
       "      <td>1.0</td>\n",
       "      <td>1</td>\n",
       "      <td>0</td>\n",
       "      <td>...</td>\n",
       "      <td>29.9</td>\n",
       "      <td>1</td>\n",
       "      <td>冬装</td>\n",
       "      <td>围巾</td>\n",
       "      <td>29.9</td>\n",
       "      <td>19</td>\n",
       "      <td>2017-01</td>\n",
       "      <td>2017Q1</td>\n",
       "      <td>2017</td>\n",
       "      <td>1</td>\n",
       "    </tr>\n",
       "    <tr>\n",
       "      <th>1</th>\n",
       "      <td>p1614</td>\n",
       "      <td>2</td>\n",
       "      <td>10706</td>\n",
       "      <td>2017-01-01 00:00:00</td>\n",
       "      <td>2017-01-10 00:00:00</td>\n",
       "      <td>sale007</td>\n",
       "      <td>249.50</td>\n",
       "      <td>1.0</td>\n",
       "      <td>5</td>\n",
       "      <td>0</td>\n",
       "      <td>...</td>\n",
       "      <td>499.5</td>\n",
       "      <td>9</td>\n",
       "      <td>冬装</td>\n",
       "      <td>保暖内衣</td>\n",
       "      <td>99.9</td>\n",
       "      <td>50</td>\n",
       "      <td>2017-01</td>\n",
       "      <td>2017Q1</td>\n",
       "      <td>2017</td>\n",
       "      <td>1</td>\n",
       "    </tr>\n",
       "    <tr>\n",
       "      <th>2</th>\n",
       "      <td>p1614</td>\n",
       "      <td>3</td>\n",
       "      <td>10420</td>\n",
       "      <td>2017-01-01 00:00:00</td>\n",
       "      <td>2017-01-11 00:00:00</td>\n",
       "      <td>sale001</td>\n",
       "      <td>29.92</td>\n",
       "      <td>0.8</td>\n",
       "      <td>1</td>\n",
       "      <td>0</td>\n",
       "      <td>...</td>\n",
       "      <td>99.9</td>\n",
       "      <td>10</td>\n",
       "      <td>冬装</td>\n",
       "      <td>保暖内衣</td>\n",
       "      <td>99.9</td>\n",
       "      <td>50</td>\n",
       "      <td>2017-01</td>\n",
       "      <td>2017Q1</td>\n",
       "      <td>2017</td>\n",
       "      <td>1</td>\n",
       "    </tr>\n",
       "    <tr>\n",
       "      <th>3</th>\n",
       "      <td>p1898</td>\n",
       "      <td>4</td>\n",
       "      <td>10372</td>\n",
       "      <td>2017-01-01 00:00:00</td>\n",
       "      <td>2017-01-04 00:00:00</td>\n",
       "      <td>sale003</td>\n",
       "      <td>12.24</td>\n",
       "      <td>0.8</td>\n",
       "      <td>2</td>\n",
       "      <td>0</td>\n",
       "      <td>...</td>\n",
       "      <td>57.8</td>\n",
       "      <td>3</td>\n",
       "      <td>冬装</td>\n",
       "      <td>帽子</td>\n",
       "      <td>28.9</td>\n",
       "      <td>17</td>\n",
       "      <td>2017-01</td>\n",
       "      <td>2017Q1</td>\n",
       "      <td>2017</td>\n",
       "      <td>1</td>\n",
       "    </tr>\n",
       "    <tr>\n",
       "      <th>4</th>\n",
       "      <td>p1898</td>\n",
       "      <td>5</td>\n",
       "      <td>10250</td>\n",
       "      <td>2017-01-01 00:00:00</td>\n",
       "      <td>2017-01-07 00:00:00</td>\n",
       "      <td>sale003</td>\n",
       "      <td>0.34</td>\n",
       "      <td>0.6</td>\n",
       "      <td>1</td>\n",
       "      <td>0</td>\n",
       "      <td>...</td>\n",
       "      <td>28.9</td>\n",
       "      <td>6</td>\n",
       "      <td>冬装</td>\n",
       "      <td>帽子</td>\n",
       "      <td>28.9</td>\n",
       "      <td>17</td>\n",
       "      <td>2017-01</td>\n",
       "      <td>2017Q1</td>\n",
       "      <td>2017</td>\n",
       "      <td>1</td>\n",
       "    </tr>\n",
       "  </tbody>\n",
       "</table>\n",
       "<p>5 rows × 21 columns</p>\n",
       "</div>"
      ],
      "text/plain": [
       "    产品ID  订单ID   客户ID                 订单日期                 发货日期   销售经理ID  \\\n",
       "0  p1047     1  10221  2017-01-01 00:00:00  2017-01-02 00:00:00  sale003   \n",
       "1  p1614     2  10706  2017-01-01 00:00:00  2017-01-10 00:00:00  sale007   \n",
       "2  p1614     3  10420  2017-01-01 00:00:00  2017-01-11 00:00:00  sale001   \n",
       "3  p1898     4  10372  2017-01-01 00:00:00  2017-01-04 00:00:00  sale003   \n",
       "4  p1898     5  10250  2017-01-01 00:00:00  2017-01-07 00:00:00  sale003   \n",
       "\n",
       "       利润   折扣  数量  是否退回  ...    销售额  实际发货天数  产品类型  产品名称  产品单价  产品成本价  \\\n",
       "0   10.90  1.0   1     0  ...   29.9       1    冬装    围巾  29.9     19   \n",
       "1  249.50  1.0   5     0  ...  499.5       9    冬装  保暖内衣  99.9     50   \n",
       "2   29.92  0.8   1     0  ...   99.9      10    冬装  保暖内衣  99.9     50   \n",
       "3   12.24  0.8   2     0  ...   57.8       3    冬装    帽子  28.9     17   \n",
       "4    0.34  0.6   1     0  ...   28.9       6    冬装    帽子  28.9     17   \n",
       "\n",
       "     month  quater  year  1-12month  \n",
       "0  2017-01  2017Q1  2017          1  \n",
       "1  2017-01  2017Q1  2017          1  \n",
       "2  2017-01  2017Q1  2017          1  \n",
       "3  2017-01  2017Q1  2017          1  \n",
       "4  2017-01  2017Q1  2017          1  \n",
       "\n",
       "[5 rows x 21 columns]"
      ]
     },
     "execution_count": 152,
     "metadata": {},
     "output_type": "execute_result"
    }
   ],
   "source": [
    "order_data.head()"
   ]
  },
  {
   "cell_type": "code",
   "execution_count": 154,
   "metadata": {},
   "outputs": [],
   "source": [
    "order_year_df['订单数']=order_data.groupby('year')['订单ID'].count()"
   ]
  },
  {
   "cell_type": "code",
   "execution_count": 156,
   "metadata": {},
   "outputs": [],
   "source": [
    "order_year_df['ARPU']=order_year_df['GMV']/order_year_df['交易用户数']"
   ]
  },
  {
   "cell_type": "code",
   "execution_count": 158,
   "metadata": {},
   "outputs": [],
   "source": [
    "order_year_df['人均订单数']=order_year_df['订单数']/order_year_df['交易用户数']"
   ]
  },
  {
   "cell_type": "code",
   "execution_count": 159,
   "metadata": {},
   "outputs": [],
   "source": [
    "order_year_df['单均价']=order_year_df['ARPU']/order_year_df['人均订单数']"
   ]
  },
  {
   "cell_type": "code",
   "execution_count": 176,
   "metadata": {},
   "outputs": [],
   "source": [
    "order_year_df['商品量']=order_data.groupby('year')['数量'].sum()"
   ]
  },
  {
   "cell_type": "code",
   "execution_count": 180,
   "metadata": {},
   "outputs": [],
   "source": [
    "order_year_df['单均商品量']=order_year_df['商品量']/order_year_df['交易用户数']/order_year_df['人均订单数']\n",
    "#相当于order_data.groupby('year')['数量'].mean()"
   ]
  },
  {
   "cell_type": "code",
   "execution_count": 233,
   "metadata": {},
   "outputs": [
    {
     "data": {
      "text/html": [
       "<div>\n",
       "<style scoped>\n",
       "    .dataframe tbody tr th:only-of-type {\n",
       "        vertical-align: middle;\n",
       "    }\n",
       "\n",
       "    .dataframe tbody tr th {\n",
       "        vertical-align: top;\n",
       "    }\n",
       "\n",
       "    .dataframe thead th {\n",
       "        text-align: right;\n",
       "    }\n",
       "</style>\n",
       "<table border=\"1\" class=\"dataframe\">\n",
       "  <thead>\n",
       "    <tr style=\"text-align: right;\">\n",
       "      <th></th>\n",
       "      <th>GMV</th>\n",
       "      <th>交易用户数</th>\n",
       "      <th>订单数</th>\n",
       "      <th>ARPU</th>\n",
       "      <th>人均订单数</th>\n",
       "      <th>单均价</th>\n",
       "      <th>商品量</th>\n",
       "      <th>单均商品量</th>\n",
       "    </tr>\n",
       "    <tr>\n",
       "      <th>year</th>\n",
       "      <th></th>\n",
       "      <th></th>\n",
       "      <th></th>\n",
       "      <th></th>\n",
       "      <th></th>\n",
       "      <th></th>\n",
       "      <th></th>\n",
       "      <th></th>\n",
       "    </tr>\n",
       "  </thead>\n",
       "  <tbody>\n",
       "    <tr>\n",
       "      <th>2017</th>\n",
       "      <td>5973039.2</td>\n",
       "      <td>790</td>\n",
       "      <td>8435</td>\n",
       "      <td>7560.809114</td>\n",
       "      <td>10.677215</td>\n",
       "      <td>708.125572</td>\n",
       "      <td>46438</td>\n",
       "      <td>5.505394</td>\n",
       "    </tr>\n",
       "    <tr>\n",
       "      <th>2018</th>\n",
       "      <td>6023146.9</td>\n",
       "      <td>790</td>\n",
       "      <td>8357</td>\n",
       "      <td>7624.236582</td>\n",
       "      <td>10.578481</td>\n",
       "      <td>720.730753</td>\n",
       "      <td>46291</td>\n",
       "      <td>5.539189</td>\n",
       "    </tr>\n",
       "    <tr>\n",
       "      <th>2019</th>\n",
       "      <td>5890699.0</td>\n",
       "      <td>790</td>\n",
       "      <td>8208</td>\n",
       "      <td>7456.581013</td>\n",
       "      <td>10.389873</td>\n",
       "      <td>717.677753</td>\n",
       "      <td>45230</td>\n",
       "      <td>5.510478</td>\n",
       "    </tr>\n",
       "  </tbody>\n",
       "</table>\n",
       "</div>"
      ],
      "text/plain": [
       "            GMV  交易用户数   订单数         ARPU      人均订单数         单均价    商品量  \\\n",
       "year                                                                      \n",
       "2017  5973039.2    790  8435  7560.809114  10.677215  708.125572  46438   \n",
       "2018  6023146.9    790  8357  7624.236582  10.578481  720.730753  46291   \n",
       "2019  5890699.0    790  8208  7456.581013  10.389873  717.677753  45230   \n",
       "\n",
       "         单均商品量  \n",
       "year            \n",
       "2017  5.505394  \n",
       "2018  5.539189  \n",
       "2019  5.510478  "
      ]
     },
     "execution_count": 233,
     "metadata": {},
     "output_type": "execute_result"
    }
   ],
   "source": [
    "order_year_df"
   ]
  },
  {
   "cell_type": "code",
   "execution_count": 196,
   "metadata": {
    "scrolled": true
   },
   "outputs": [
    {
     "data": {
      "text/html": [
       "<div>\n",
       "<style scoped>\n",
       "    .dataframe tbody tr th:only-of-type {\n",
       "        vertical-align: middle;\n",
       "    }\n",
       "\n",
       "    .dataframe tbody tr th {\n",
       "        vertical-align: top;\n",
       "    }\n",
       "\n",
       "    .dataframe thead th {\n",
       "        text-align: right;\n",
       "    }\n",
       "</style>\n",
       "<table border=\"1\" class=\"dataframe\">\n",
       "  <thead>\n",
       "    <tr style=\"text-align: right;\">\n",
       "      <th></th>\n",
       "      <th>产品单价</th>\n",
       "      <th>产品成本价</th>\n",
       "      <th>数量</th>\n",
       "      <th>折扣</th>\n",
       "      <th>利润</th>\n",
       "      <th>销售额</th>\n",
       "    </tr>\n",
       "  </thead>\n",
       "  <tbody>\n",
       "    <tr>\n",
       "      <th>0</th>\n",
       "      <td>29.9</td>\n",
       "      <td>19</td>\n",
       "      <td>1</td>\n",
       "      <td>1.00</td>\n",
       "      <td>10.90</td>\n",
       "      <td>29.9</td>\n",
       "    </tr>\n",
       "    <tr>\n",
       "      <th>1</th>\n",
       "      <td>99.9</td>\n",
       "      <td>50</td>\n",
       "      <td>5</td>\n",
       "      <td>1.00</td>\n",
       "      <td>249.50</td>\n",
       "      <td>499.5</td>\n",
       "    </tr>\n",
       "    <tr>\n",
       "      <th>2</th>\n",
       "      <td>99.9</td>\n",
       "      <td>50</td>\n",
       "      <td>1</td>\n",
       "      <td>0.80</td>\n",
       "      <td>29.92</td>\n",
       "      <td>99.9</td>\n",
       "    </tr>\n",
       "    <tr>\n",
       "      <th>3</th>\n",
       "      <td>28.9</td>\n",
       "      <td>17</td>\n",
       "      <td>2</td>\n",
       "      <td>0.80</td>\n",
       "      <td>12.24</td>\n",
       "      <td>57.8</td>\n",
       "    </tr>\n",
       "    <tr>\n",
       "      <th>4</th>\n",
       "      <td>28.9</td>\n",
       "      <td>17</td>\n",
       "      <td>1</td>\n",
       "      <td>0.60</td>\n",
       "      <td>0.34</td>\n",
       "      <td>28.9</td>\n",
       "    </tr>\n",
       "    <tr>\n",
       "      <th>...</th>\n",
       "      <td>...</td>\n",
       "      <td>...</td>\n",
       "      <td>...</td>\n",
       "      <td>...</td>\n",
       "      <td>...</td>\n",
       "      <td>...</td>\n",
       "    </tr>\n",
       "    <tr>\n",
       "      <th>24995</th>\n",
       "      <td>199.9</td>\n",
       "      <td>90</td>\n",
       "      <td>1</td>\n",
       "      <td>1.00</td>\n",
       "      <td>109.90</td>\n",
       "      <td>199.9</td>\n",
       "    </tr>\n",
       "    <tr>\n",
       "      <th>24996</th>\n",
       "      <td>19.9</td>\n",
       "      <td>7</td>\n",
       "      <td>5</td>\n",
       "      <td>1.00</td>\n",
       "      <td>64.50</td>\n",
       "      <td>99.5</td>\n",
       "    </tr>\n",
       "    <tr>\n",
       "      <th>24997</th>\n",
       "      <td>19.9</td>\n",
       "      <td>7</td>\n",
       "      <td>7</td>\n",
       "      <td>1.00</td>\n",
       "      <td>90.30</td>\n",
       "      <td>139.3</td>\n",
       "    </tr>\n",
       "    <tr>\n",
       "      <th>24998</th>\n",
       "      <td>19.9</td>\n",
       "      <td>7</td>\n",
       "      <td>10</td>\n",
       "      <td>0.85</td>\n",
       "      <td>99.15</td>\n",
       "      <td>199.0</td>\n",
       "    </tr>\n",
       "    <tr>\n",
       "      <th>24999</th>\n",
       "      <td>9.9</td>\n",
       "      <td>3</td>\n",
       "      <td>8</td>\n",
       "      <td>1.00</td>\n",
       "      <td>55.20</td>\n",
       "      <td>79.2</td>\n",
       "    </tr>\n",
       "  </tbody>\n",
       "</table>\n",
       "<p>25000 rows × 6 columns</p>\n",
       "</div>"
      ],
      "text/plain": [
       "        产品单价  产品成本价  数量    折扣      利润    销售额\n",
       "0       29.9     19   1  1.00   10.90   29.9\n",
       "1       99.9     50   5  1.00  249.50  499.5\n",
       "2       99.9     50   1  0.80   29.92   99.9\n",
       "3       28.9     17   2  0.80   12.24   57.8\n",
       "4       28.9     17   1  0.60    0.34   28.9\n",
       "...      ...    ...  ..   ...     ...    ...\n",
       "24995  199.9     90   1  1.00  109.90  199.9\n",
       "24996   19.9      7   5  1.00   64.50   99.5\n",
       "24997   19.9      7   7  1.00   90.30  139.3\n",
       "24998   19.9      7  10  0.85   99.15  199.0\n",
       "24999    9.9      3   8  1.00   55.20   79.2\n",
       "\n",
       "[25000 rows x 6 columns]"
      ]
     },
     "execution_count": 196,
     "metadata": {},
     "output_type": "execute_result"
    }
   ],
   "source": [
    "order_data[['产品单价','产品成本价','数量','折扣','利润','销售额']]\n",
    "#（产品单价*折扣-产品成本价）*数量=利润\n",
    "# 产品单价*数量=销售额\n",
    "# GMV是去掉商品折扣后的金额"
   ]
  },
  {
   "cell_type": "code",
   "execution_count": 188,
   "metadata": {},
   "outputs": [
    {
     "data": {
      "text/plain": [
       "year\n",
       "2017    129.339834\n",
       "2018    129.984839\n",
       "2019    130.176438\n",
       "Name: 产品单价, dtype: float64"
      ]
     },
     "execution_count": 188,
     "metadata": {},
     "output_type": "execute_result"
    }
   ],
   "source": [
    "# order_data['现价']=order_data['产品单价']*order_data['折扣']\n",
    "# order_year_df['商品均价']\n",
    "order_year_df['原价']=order_data.groupby('year')['产品单价'].mean()\n",
    "# order_year_df['折扣']=order_data.groupby('year')['折扣'].mean()"
   ]
  },
  {
   "cell_type": "code",
   "execution_count": 195,
   "metadata": {},
   "outputs": [
    {
     "data": {
      "text/plain": [
       "Index(['产品ID', '订单ID', '客户ID', '订单日期', '发货日期', '销售经理ID', '利润', '折扣', '数量',\n",
       "       '是否退回', '计划发货天数', '销售额', '实际发货天数', '产品类型', '产品名称', '产品单价', '产品成本价',\n",
       "       'month', 'quater', 'year', '1-12month'],\n",
       "      dtype='object')"
      ]
     },
     "execution_count": 195,
     "metadata": {},
     "output_type": "execute_result"
    }
   ],
   "source": [
    "order_data.columns"
   ]
  },
  {
   "cell_type": "code",
   "execution_count": 194,
   "metadata": {
    "scrolled": true
   },
   "outputs": [
    {
     "data": {
      "text/plain": [
       "year\n",
       "2017    129.339834\n",
       "2018    129.984839\n",
       "2019    130.176438\n",
       "Name: 产品单价, dtype: float64"
      ]
     },
     "execution_count": 194,
     "metadata": {},
     "output_type": "execute_result"
    }
   ],
   "source": [
    "order_data.groupby('year')['产品单价'].mean()"
   ]
  },
  {
   "cell_type": "markdown",
   "metadata": {},
   "source": [
    "# 重来2"
   ]
  },
  {
   "cell_type": "markdown",
   "metadata": {},
   "source": [
    "## 拆解GMV\n",
    "- GMV是去掉商品折扣后的金额"
   ]
  },
  {
   "cell_type": "code",
   "execution_count": 6,
   "metadata": {},
   "outputs": [],
   "source": [
    "#定义实际销售额\n",
    "order_data['实际销售额']=order_data['产品单价']*order_data['折扣']*order_data['数量']"
   ]
  },
  {
   "cell_type": "code",
   "execution_count": 7,
   "metadata": {},
   "outputs": [],
   "source": [
    "#所有订单\n",
    "# unnormal_order=order_data[order_data['是否退回']==1]\n",
    "order_df=order_data.groupby('year')['实际销售额'].sum().to_frame()\n",
    "order_df=order_df.rename(columns={'实际销售额':'GMV'})\n",
    "order_df['交易用户数']=order_data[['year','客户ID']].drop_duplicates().groupby('year')['客户ID'].count()\n",
    "order_df['订单数']=order_data.groupby('year')['订单ID'].count()\n",
    "order_df['人均订单数']=order_df['订单数']/order_df['交易用户数']\n",
    "order_df['ARPU']=order_df['GMV']/order_df['交易用户数']\n",
    "order_df['单均价']=order_df['ARPU']/order_df['人均订单数']\n",
    "order_df['单均商品量']=order_data.groupby('year')['数量'].mean()\n",
    "order_df['单原价']=order_data.groupby('year')['销售额'].mean()\n",
    "order_df['单均折扣']=order_data.groupby('year')['折扣'].mean()\n",
    "order_df['商品均价']=order_df['单原价']/order_df['单均商品量']\n"
   ]
  },
  {
   "cell_type": "code",
   "execution_count": 8,
   "metadata": {},
   "outputs": [
    {
     "data": {
      "text/html": [
       "<div>\n",
       "<style scoped>\n",
       "    .dataframe tbody tr th:only-of-type {\n",
       "        vertical-align: middle;\n",
       "    }\n",
       "\n",
       "    .dataframe tbody tr th {\n",
       "        vertical-align: top;\n",
       "    }\n",
       "\n",
       "    .dataframe thead th {\n",
       "        text-align: right;\n",
       "    }\n",
       "</style>\n",
       "<table border=\"1\" class=\"dataframe\">\n",
       "  <thead>\n",
       "    <tr style=\"text-align: right;\">\n",
       "      <th></th>\n",
       "      <th>GMV</th>\n",
       "      <th>交易用户数</th>\n",
       "      <th>订单数</th>\n",
       "      <th>人均订单数</th>\n",
       "      <th>ARPU</th>\n",
       "      <th>单均价</th>\n",
       "      <th>单均商品量</th>\n",
       "      <th>单原价</th>\n",
       "      <th>单均折扣</th>\n",
       "      <th>商品均价</th>\n",
       "    </tr>\n",
       "  </thead>\n",
       "  <tbody>\n",
       "    <tr>\n",
       "      <th>2017-2018</th>\n",
       "      <td>0.008407</td>\n",
       "      <td>0.0</td>\n",
       "      <td>-0.009247</td>\n",
       "      <td>-0.009247</td>\n",
       "      <td>0.008407</td>\n",
       "      <td>0.017819</td>\n",
       "      <td>0.006138</td>\n",
       "      <td>0.017801</td>\n",
       "      <td>0.000439</td>\n",
       "      <td>0.011591</td>\n",
       "    </tr>\n",
       "    <tr>\n",
       "      <th>2018-2019</th>\n",
       "      <td>-0.022250</td>\n",
       "      <td>0.0</td>\n",
       "      <td>-0.017829</td>\n",
       "      <td>-0.017829</td>\n",
       "      <td>-0.022250</td>\n",
       "      <td>-0.004501</td>\n",
       "      <td>-0.005183</td>\n",
       "      <td>-0.004236</td>\n",
       "      <td>-0.001683</td>\n",
       "      <td>0.000952</td>\n",
       "    </tr>\n",
       "  </tbody>\n",
       "</table>\n",
       "</div>"
      ],
      "text/plain": [
       "                GMV  交易用户数       订单数     人均订单数      ARPU       单均价     单均商品量  \\\n",
       "2017-2018  0.008407    0.0 -0.009247 -0.009247  0.008407  0.017819  0.006138   \n",
       "2018-2019 -0.022250    0.0 -0.017829 -0.017829 -0.022250 -0.004501 -0.005183   \n",
       "\n",
       "                单原价      单均折扣      商品均价  \n",
       "2017-2018  0.017801  0.000439  0.011591  \n",
       "2018-2019 -0.004236 -0.001683  0.000952  "
      ]
     },
     "execution_count": 8,
     "metadata": {},
     "output_type": "execute_result"
    }
   ],
   "source": [
    "(order_df.diff().dropna().reset_index()/order_df.iloc[:2,:].reset_index()).drop(columns='year',axis=1).rename(index={\n",
    "    0:'2017-2018',\n",
    "    1:'2018-2019'\n",
    "})"
   ]
  },
  {
   "cell_type": "code",
   "execution_count": 9,
   "metadata": {
    "scrolled": true
   },
   "outputs": [
    {
     "data": {
      "text/html": [
       "<div>\n",
       "<style scoped>\n",
       "    .dataframe tbody tr th:only-of-type {\n",
       "        vertical-align: middle;\n",
       "    }\n",
       "\n",
       "    .dataframe tbody tr th {\n",
       "        vertical-align: top;\n",
       "    }\n",
       "\n",
       "    .dataframe thead th {\n",
       "        text-align: right;\n",
       "    }\n",
       "</style>\n",
       "<table border=\"1\" class=\"dataframe\">\n",
       "  <thead>\n",
       "    <tr style=\"text-align: right;\">\n",
       "      <th></th>\n",
       "      <th>GMV</th>\n",
       "      <th>交易用户数</th>\n",
       "      <th>订单数</th>\n",
       "      <th>人均订单数</th>\n",
       "      <th>ARPU</th>\n",
       "      <th>单均价</th>\n",
       "      <th>单均商品量</th>\n",
       "      <th>单原价</th>\n",
       "      <th>单均折扣</th>\n",
       "      <th>商品均价</th>\n",
       "    </tr>\n",
       "    <tr>\n",
       "      <th>year</th>\n",
       "      <th></th>\n",
       "      <th></th>\n",
       "      <th></th>\n",
       "      <th></th>\n",
       "      <th></th>\n",
       "      <th></th>\n",
       "      <th></th>\n",
       "      <th></th>\n",
       "      <th></th>\n",
       "      <th></th>\n",
       "    </tr>\n",
       "  </thead>\n",
       "  <tbody>\n",
       "    <tr>\n",
       "      <th>2017</th>\n",
       "      <td>5703011.795</td>\n",
       "      <td>790</td>\n",
       "      <td>8435</td>\n",
       "      <td>10.677215</td>\n",
       "      <td>7219.002272</td>\n",
       "      <td>676.112839</td>\n",
       "      <td>5.505394</td>\n",
       "      <td>708.125572</td>\n",
       "      <td>0.953136</td>\n",
       "      <td>128.623955</td>\n",
       "    </tr>\n",
       "    <tr>\n",
       "      <th>2018</th>\n",
       "      <td>5750958.850</td>\n",
       "      <td>790</td>\n",
       "      <td>8357</td>\n",
       "      <td>10.578481</td>\n",
       "      <td>7279.694747</td>\n",
       "      <td>688.160686</td>\n",
       "      <td>5.539189</td>\n",
       "      <td>720.730753</td>\n",
       "      <td>0.953554</td>\n",
       "      <td>130.114858</td>\n",
       "    </tr>\n",
       "    <tr>\n",
       "      <th>2019</th>\n",
       "      <td>5622999.330</td>\n",
       "      <td>790</td>\n",
       "      <td>8208</td>\n",
       "      <td>10.389873</td>\n",
       "      <td>7117.720671</td>\n",
       "      <td>685.063271</td>\n",
       "      <td>5.510478</td>\n",
       "      <td>717.677753</td>\n",
       "      <td>0.951949</td>\n",
       "      <td>130.238757</td>\n",
       "    </tr>\n",
       "  </tbody>\n",
       "</table>\n",
       "</div>"
      ],
      "text/plain": [
       "              GMV  交易用户数   订单数      人均订单数         ARPU         单均价     单均商品量  \\\n",
       "year                                                                           \n",
       "2017  5703011.795    790  8435  10.677215  7219.002272  676.112839  5.505394   \n",
       "2018  5750958.850    790  8357  10.578481  7279.694747  688.160686  5.539189   \n",
       "2019  5622999.330    790  8208  10.389873  7117.720671  685.063271  5.510478   \n",
       "\n",
       "             单原价      单均折扣        商品均价  \n",
       "year                                    \n",
       "2017  708.125572  0.953136  128.623955  \n",
       "2018  720.730753  0.953554  130.114858  \n",
       "2019  717.677753  0.951949  130.238757  "
      ]
     },
     "execution_count": 9,
     "metadata": {},
     "output_type": "execute_result"
    }
   ],
   "source": [
    "order_df"
   ]
  },
  {
   "cell_type": "markdown",
   "metadata": {},
   "source": [
    "- 可以看出，18年GMV成交额有所提高后，在19年又快速下降，订单数，人均订单数都是接连下降，商品价格在18年上升后又下降\n",
    "- 18年GMV上升是由于单均价上升，且单均价提高的原因是由于单原价提高，并且但均商品量提高，即定价提高，\n",
    "- 19年GMV下降可能是订单量，单均价，折扣共同影响导致\n",
    "- 交易用户数没有变化\n"
   ]
  },
  {
   "cell_type": "code",
   "execution_count": 10,
   "metadata": {},
   "outputs": [
    {
     "data": {
      "text/plain": [
       "Index(['产品ID', '订单ID', '客户ID', '订单日期', '发货日期', '销售经理ID', '利润', '折扣', '数量',\n",
       "       '是否退回', '计划发货天数', '销售额', '实际发货天数', '产品类型', '产品名称', '产品单价', '产品成本价',\n",
       "       'month', 'quater', 'year', '1-12month', '实际销售额'],\n",
       "      dtype='object')"
      ]
     },
     "execution_count": 10,
     "metadata": {},
     "output_type": "execute_result"
    }
   ],
   "source": [
    "order_data.columns"
   ]
  },
  {
   "cell_type": "code",
   "execution_count": 11,
   "metadata": {},
   "outputs": [],
   "source": [
    "#正常订单\n",
    "normal_order=order_data[order_data['是否退回']!=1]\n"
   ]
  },
  {
   "cell_type": "code",
   "execution_count": 12,
   "metadata": {},
   "outputs": [],
   "source": [
    "normal_order_df=normal_order.groupby('year')['实际销售额'].sum().to_frame()"
   ]
  },
  {
   "cell_type": "code",
   "execution_count": 13,
   "metadata": {},
   "outputs": [],
   "source": [
    "normal_order_df=normal_order_df.rename(columns={'实际销售额':'GMV'})"
   ]
  },
  {
   "cell_type": "code",
   "execution_count": 14,
   "metadata": {},
   "outputs": [],
   "source": [
    "normal_order_df['交易用户数']=normal_order[['year','客户ID']].drop_duplicates().groupby('year')['客户ID'].count()"
   ]
  },
  {
   "cell_type": "code",
   "execution_count": 15,
   "metadata": {},
   "outputs": [],
   "source": [
    "normal_order_df['订单数']=normal_order.groupby('year')['订单ID'].count()"
   ]
  },
  {
   "cell_type": "code",
   "execution_count": 16,
   "metadata": {},
   "outputs": [],
   "source": [
    "normal_order_df['人均订单数']=normal_order_df['订单数']/normal_order_df['交易用户数']\n",
    "normal_order_df['ARPU']=normal_order_df['GMV']/normal_order_df['交易用户数']\n",
    "normal_order_df['单均价']=normal_order_df['ARPU']/normal_order_df['人均订单数']"
   ]
  },
  {
   "cell_type": "code",
   "execution_count": 17,
   "metadata": {},
   "outputs": [],
   "source": [
    "normal_order_df['单均商品量']=normal_order.groupby('year')['数量'].mean()\n",
    "normal_order_df['单原价']=normal_order.groupby('year')['销售额'].mean()\n",
    "normal_order_df['单均折扣']=normal_order.groupby('year')['折扣'].mean()\n",
    "normal_order_df['商品均价']=normal_order_df['单原价']/normal_order_df['单均商品量']"
   ]
  },
  {
   "cell_type": "code",
   "execution_count": 18,
   "metadata": {},
   "outputs": [
    {
     "data": {
      "text/html": [
       "<div>\n",
       "<style scoped>\n",
       "    .dataframe tbody tr th:only-of-type {\n",
       "        vertical-align: middle;\n",
       "    }\n",
       "\n",
       "    .dataframe tbody tr th {\n",
       "        vertical-align: top;\n",
       "    }\n",
       "\n",
       "    .dataframe thead th {\n",
       "        text-align: right;\n",
       "    }\n",
       "</style>\n",
       "<table border=\"1\" class=\"dataframe\">\n",
       "  <thead>\n",
       "    <tr style=\"text-align: right;\">\n",
       "      <th></th>\n",
       "      <th>GMV</th>\n",
       "      <th>交易用户数</th>\n",
       "      <th>订单数</th>\n",
       "      <th>人均订单数</th>\n",
       "      <th>ARPU</th>\n",
       "      <th>单均价</th>\n",
       "      <th>单均商品量</th>\n",
       "      <th>单原价</th>\n",
       "      <th>单均折扣</th>\n",
       "      <th>商品均价</th>\n",
       "    </tr>\n",
       "  </thead>\n",
       "  <tbody>\n",
       "    <tr>\n",
       "      <th>2017-2018</th>\n",
       "      <td>-0.006021</td>\n",
       "      <td>0.0</td>\n",
       "      <td>-0.013076</td>\n",
       "      <td>-0.013076</td>\n",
       "      <td>-0.006021</td>\n",
       "      <td>0.007148</td>\n",
       "      <td>0.004931</td>\n",
       "      <td>0.008034</td>\n",
       "      <td>-0.000261</td>\n",
       "      <td>0.003088</td>\n",
       "    </tr>\n",
       "    <tr>\n",
       "      <th>2018-2019</th>\n",
       "      <td>-0.005323</td>\n",
       "      <td>0.0</td>\n",
       "      <td>-0.010473</td>\n",
       "      <td>-0.010473</td>\n",
       "      <td>-0.005323</td>\n",
       "      <td>0.005205</td>\n",
       "      <td>-0.002759</td>\n",
       "      <td>0.005321</td>\n",
       "      <td>-0.001005</td>\n",
       "      <td>0.008102</td>\n",
       "    </tr>\n",
       "  </tbody>\n",
       "</table>\n",
       "</div>"
      ],
      "text/plain": [
       "                GMV  交易用户数       订单数     人均订单数      ARPU       单均价     单均商品量  \\\n",
       "2017-2018 -0.006021    0.0 -0.013076 -0.013076 -0.006021  0.007148  0.004931   \n",
       "2018-2019 -0.005323    0.0 -0.010473 -0.010473 -0.005323  0.005205 -0.002759   \n",
       "\n",
       "                单原价      单均折扣      商品均价  \n",
       "2017-2018  0.008034 -0.000261  0.003088  \n",
       "2018-2019  0.005321 -0.001005  0.008102  "
      ]
     },
     "execution_count": 18,
     "metadata": {},
     "output_type": "execute_result"
    }
   ],
   "source": [
    "(normal_order_df.diff().dropna().reset_index()/normal_order_df.iloc[:2,:].reset_index()).drop(columns='year',axis=1).rename(index={\n",
    "    0:'2017-2018',\n",
    "    1:'2018-2019'\n",
    "})"
   ]
  },
  {
   "cell_type": "code",
   "execution_count": 19,
   "metadata": {},
   "outputs": [
    {
     "data": {
      "text/html": [
       "<div>\n",
       "<style scoped>\n",
       "    .dataframe tbody tr th:only-of-type {\n",
       "        vertical-align: middle;\n",
       "    }\n",
       "\n",
       "    .dataframe tbody tr th {\n",
       "        vertical-align: top;\n",
       "    }\n",
       "\n",
       "    .dataframe thead th {\n",
       "        text-align: right;\n",
       "    }\n",
       "</style>\n",
       "<table border=\"1\" class=\"dataframe\">\n",
       "  <thead>\n",
       "    <tr style=\"text-align: right;\">\n",
       "      <th></th>\n",
       "      <th>GMV</th>\n",
       "      <th>交易用户数</th>\n",
       "      <th>订单数</th>\n",
       "      <th>人均订单数</th>\n",
       "      <th>ARPU</th>\n",
       "      <th>单均价</th>\n",
       "      <th>单均商品量</th>\n",
       "      <th>单原价</th>\n",
       "      <th>单均折扣</th>\n",
       "      <th>商品均价</th>\n",
       "    </tr>\n",
       "    <tr>\n",
       "      <th>year</th>\n",
       "      <th></th>\n",
       "      <th></th>\n",
       "      <th></th>\n",
       "      <th></th>\n",
       "      <th></th>\n",
       "      <th></th>\n",
       "      <th></th>\n",
       "      <th></th>\n",
       "      <th></th>\n",
       "      <th></th>\n",
       "    </tr>\n",
       "  </thead>\n",
       "  <tbody>\n",
       "    <tr>\n",
       "      <th>2017</th>\n",
       "      <td>5461809.105</td>\n",
       "      <td>790</td>\n",
       "      <td>8030</td>\n",
       "      <td>10.164557</td>\n",
       "      <td>6913.682411</td>\n",
       "      <td>680.175480</td>\n",
       "      <td>5.506351</td>\n",
       "      <td>712.135915</td>\n",
       "      <td>0.953163</td>\n",
       "      <td>129.329912</td>\n",
       "    </tr>\n",
       "    <tr>\n",
       "      <th>2018</th>\n",
       "      <td>5428922.605</td>\n",
       "      <td>790</td>\n",
       "      <td>7925</td>\n",
       "      <td>10.031646</td>\n",
       "      <td>6872.053930</td>\n",
       "      <td>685.037553</td>\n",
       "      <td>5.533502</td>\n",
       "      <td>717.857375</td>\n",
       "      <td>0.952915</td>\n",
       "      <td>129.729316</td>\n",
       "    </tr>\n",
       "    <tr>\n",
       "      <th>2019</th>\n",
       "      <td>5400024.050</td>\n",
       "      <td>790</td>\n",
       "      <td>7842</td>\n",
       "      <td>9.926582</td>\n",
       "      <td>6835.473481</td>\n",
       "      <td>688.602914</td>\n",
       "      <td>5.518235</td>\n",
       "      <td>721.677200</td>\n",
       "      <td>0.951957</td>\n",
       "      <td>130.780436</td>\n",
       "    </tr>\n",
       "  </tbody>\n",
       "</table>\n",
       "</div>"
      ],
      "text/plain": [
       "              GMV  交易用户数   订单数      人均订单数         ARPU         单均价     单均商品量  \\\n",
       "year                                                                           \n",
       "2017  5461809.105    790  8030  10.164557  6913.682411  680.175480  5.506351   \n",
       "2018  5428922.605    790  7925  10.031646  6872.053930  685.037553  5.533502   \n",
       "2019  5400024.050    790  7842   9.926582  6835.473481  688.602914  5.518235   \n",
       "\n",
       "             单原价      单均折扣        商品均价  \n",
       "year                                    \n",
       "2017  712.135915  0.953163  129.329912  \n",
       "2018  717.857375  0.952915  129.729316  \n",
       "2019  721.677200  0.951957  130.780436  "
      ]
     },
     "execution_count": 19,
     "metadata": {},
     "output_type": "execute_result"
    }
   ],
   "source": [
    "normal_order_df"
   ]
  },
  {
   "cell_type": "markdown",
   "metadata": {},
   "source": [
    "- 可以看出2018,2019两年内正常订单的交易额持续下降，可以看出商品均价提高与单原价直接相关，而单原价提高是否影响订单数下降需要具体讨论\n",
    "- 可以发现GMV下降的主要原因是人均订单数减少"
   ]
  },
  {
   "cell_type": "code",
   "execution_count": 20,
   "metadata": {},
   "outputs": [],
   "source": [
    "#退货订单\n",
    "unnormal_order=order_data[order_data['是否退回']==1]\n",
    "unnormal_order_df=unnormal_order.groupby('year')['实际销售额'].sum().to_frame()\n",
    "unnormal_order_df=unnormal_order_df.rename(columns={'实际销售额':'GMV'})\n",
    "unnormal_order_df['交易用户数']=unnormal_order[['year','客户ID']].drop_duplicates().groupby('year')['客户ID'].count()\n",
    "unnormal_order_df['订单数']=unnormal_order.groupby('year')['订单ID'].count()\n",
    "unnormal_order_df['人均订单数']=unnormal_order_df['订单数']/unnormal_order_df['交易用户数']\n",
    "unnormal_order_df['ARPU']=unnormal_order_df['GMV']/unnormal_order_df['交易用户数']\n",
    "unnormal_order_df['单均价']=unnormal_order_df['ARPU']/unnormal_order_df['人均订单数']\n",
    "unnormal_order_df['单均商品量']=unnormal_order.groupby('year')['数量'].mean()\n",
    "unnormal_order_df['单原价']=unnormal_order.groupby('year')['销售额'].mean()\n",
    "unnormal_order_df['单均折扣']=unnormal_order.groupby('year')['折扣'].mean()\n",
    "unnormal_order_df['商品均价']=unnormal_order_df['单原价']/unnormal_order_df['单均商品量']\n"
   ]
  },
  {
   "cell_type": "code",
   "execution_count": 21,
   "metadata": {},
   "outputs": [
    {
     "data": {
      "text/html": [
       "<div>\n",
       "<style scoped>\n",
       "    .dataframe tbody tr th:only-of-type {\n",
       "        vertical-align: middle;\n",
       "    }\n",
       "\n",
       "    .dataframe tbody tr th {\n",
       "        vertical-align: top;\n",
       "    }\n",
       "\n",
       "    .dataframe thead th {\n",
       "        text-align: right;\n",
       "    }\n",
       "</style>\n",
       "<table border=\"1\" class=\"dataframe\">\n",
       "  <thead>\n",
       "    <tr style=\"text-align: right;\">\n",
       "      <th></th>\n",
       "      <th>GMV</th>\n",
       "      <th>交易用户数</th>\n",
       "      <th>订单数</th>\n",
       "      <th>人均订单数</th>\n",
       "      <th>ARPU</th>\n",
       "      <th>单均价</th>\n",
       "      <th>单均商品量</th>\n",
       "      <th>单原价</th>\n",
       "      <th>单均折扣</th>\n",
       "      <th>商品均价</th>\n",
       "    </tr>\n",
       "  </thead>\n",
       "  <tbody>\n",
       "    <tr>\n",
       "      <th>2017-2018</th>\n",
       "      <td>0.335127</td>\n",
       "      <td>0.056250</td>\n",
       "      <td>0.066667</td>\n",
       "      <td>0.009862</td>\n",
       "      <td>0.264026</td>\n",
       "      <td>0.251682</td>\n",
       "      <td>0.028634</td>\n",
       "      <td>0.230398</td>\n",
       "      <td>0.013316</td>\n",
       "      <td>0.196147</td>\n",
       "    </tr>\n",
       "    <tr>\n",
       "      <th>2018-2019</th>\n",
       "      <td>-0.307608</td>\n",
       "      <td>-0.130178</td>\n",
       "      <td>-0.152778</td>\n",
       "      <td>-0.025983</td>\n",
       "      <td>-0.203985</td>\n",
       "      <td>-0.182751</td>\n",
       "      <td>-0.053027</td>\n",
       "      <td>-0.182894</td>\n",
       "      <td>-0.013987</td>\n",
       "      <td>-0.137139</td>\n",
       "    </tr>\n",
       "  </tbody>\n",
       "</table>\n",
       "</div>"
      ],
      "text/plain": [
       "                GMV     交易用户数       订单数     人均订单数      ARPU       单均价  \\\n",
       "2017-2018  0.335127  0.056250  0.066667  0.009862  0.264026  0.251682   \n",
       "2018-2019 -0.307608 -0.130178 -0.152778 -0.025983 -0.203985 -0.182751   \n",
       "\n",
       "              单均商品量       单原价      单均折扣      商品均价  \n",
       "2017-2018  0.028634  0.230398  0.013316  0.196147  \n",
       "2018-2019 -0.053027 -0.182894 -0.013987 -0.137139  "
      ]
     },
     "execution_count": 21,
     "metadata": {},
     "output_type": "execute_result"
    }
   ],
   "source": [
    "(unnormal_order_df.diff().dropna().reset_index()/unnormal_order_df.iloc[:2,:].reset_index()).drop(columns='year',axis=1).rename(index={\n",
    "    0:'2017-2018',\n",
    "    1:'2018-2019'\n",
    "})"
   ]
  },
  {
   "cell_type": "code",
   "execution_count": 22,
   "metadata": {},
   "outputs": [
    {
     "data": {
      "text/html": [
       "<div>\n",
       "<style scoped>\n",
       "    .dataframe tbody tr th:only-of-type {\n",
       "        vertical-align: middle;\n",
       "    }\n",
       "\n",
       "    .dataframe tbody tr th {\n",
       "        vertical-align: top;\n",
       "    }\n",
       "\n",
       "    .dataframe thead th {\n",
       "        text-align: right;\n",
       "    }\n",
       "</style>\n",
       "<table border=\"1\" class=\"dataframe\">\n",
       "  <thead>\n",
       "    <tr style=\"text-align: right;\">\n",
       "      <th></th>\n",
       "      <th>GMV</th>\n",
       "      <th>交易用户数</th>\n",
       "      <th>订单数</th>\n",
       "      <th>人均订单数</th>\n",
       "      <th>ARPU</th>\n",
       "      <th>单均价</th>\n",
       "      <th>单均商品量</th>\n",
       "      <th>单原价</th>\n",
       "      <th>单均折扣</th>\n",
       "      <th>商品均价</th>\n",
       "    </tr>\n",
       "    <tr>\n",
       "      <th>year</th>\n",
       "      <th></th>\n",
       "      <th></th>\n",
       "      <th></th>\n",
       "      <th></th>\n",
       "      <th></th>\n",
       "      <th></th>\n",
       "      <th></th>\n",
       "      <th></th>\n",
       "      <th></th>\n",
       "      <th></th>\n",
       "    </tr>\n",
       "  </thead>\n",
       "  <tbody>\n",
       "    <tr>\n",
       "      <th>2017</th>\n",
       "      <td>241202.690</td>\n",
       "      <td>320</td>\n",
       "      <td>405</td>\n",
       "      <td>1.265625</td>\n",
       "      <td>753.758406</td>\n",
       "      <td>595.562198</td>\n",
       "      <td>5.486420</td>\n",
       "      <td>628.611852</td>\n",
       "      <td>0.952593</td>\n",
       "      <td>114.575968</td>\n",
       "    </tr>\n",
       "    <tr>\n",
       "      <th>2018</th>\n",
       "      <td>322036.245</td>\n",
       "      <td>338</td>\n",
       "      <td>432</td>\n",
       "      <td>1.278107</td>\n",
       "      <td>952.769956</td>\n",
       "      <td>745.454271</td>\n",
       "      <td>5.643519</td>\n",
       "      <td>773.442593</td>\n",
       "      <td>0.965278</td>\n",
       "      <td>137.049713</td>\n",
       "    </tr>\n",
       "    <tr>\n",
       "      <th>2019</th>\n",
       "      <td>222975.280</td>\n",
       "      <td>294</td>\n",
       "      <td>366</td>\n",
       "      <td>1.244898</td>\n",
       "      <td>758.419320</td>\n",
       "      <td>609.222077</td>\n",
       "      <td>5.344262</td>\n",
       "      <td>631.984699</td>\n",
       "      <td>0.951776</td>\n",
       "      <td>118.254806</td>\n",
       "    </tr>\n",
       "  </tbody>\n",
       "</table>\n",
       "</div>"
      ],
      "text/plain": [
       "             GMV  交易用户数  订单数     人均订单数        ARPU         单均价     单均商品量  \\\n",
       "year                                                                       \n",
       "2017  241202.690    320  405  1.265625  753.758406  595.562198  5.486420   \n",
       "2018  322036.245    338  432  1.278107  952.769956  745.454271  5.643519   \n",
       "2019  222975.280    294  366  1.244898  758.419320  609.222077  5.344262   \n",
       "\n",
       "             单原价      单均折扣        商品均价  \n",
       "year                                    \n",
       "2017  628.611852  0.952593  114.575968  \n",
       "2018  773.442593  0.965278  137.049713  \n",
       "2019  631.984699  0.951776  118.254806  "
      ]
     },
     "execution_count": 22,
     "metadata": {},
     "output_type": "execute_result"
    }
   ],
   "source": [
    "unnormal_order_df"
   ]
  },
  {
   "cell_type": "markdown",
   "metadata": {},
   "source": [
    "## 拆解利润\n",
    "-（产品单价*折扣*是否退回- 成本)数量=利润\n",
    "- 假设退货商品直接为负利润"
   ]
  },
  {
   "cell_type": "code",
   "execution_count": 23,
   "metadata": {
    "scrolled": true
   },
   "outputs": [
    {
     "data": {
      "text/plain": [
       "Index(['产品ID', '订单ID', '客户ID', '订单日期', '发货日期', '销售经理ID', '利润', '折扣', '数量',\n",
       "       '是否退回', '计划发货天数', '销售额', '实际发货天数', '产品类型', '产品名称', '产品单价', '产品成本价',\n",
       "       'month', 'quater', 'year', '1-12month', '实际销售额'],\n",
       "      dtype='object')"
      ]
     },
     "execution_count": 23,
     "metadata": {},
     "output_type": "execute_result"
    }
   ],
   "source": [
    "order_data.columns"
   ]
  },
  {
   "cell_type": "code",
   "execution_count": 24,
   "metadata": {},
   "outputs": [],
   "source": [
    "order_data['实际利润']=order_data['实际销售额']*(1-order_data['是否退回'])-order_data['产品成本价']*order_data['数量']"
   ]
  },
  {
   "cell_type": "code",
   "execution_count": 25,
   "metadata": {},
   "outputs": [],
   "source": [
    "order_data['折扣价']=order_data['产品单价']*order_data['折扣']\n",
    "order_data['折扣后销售额']=order_data['折扣价']*order_data['数量']\n",
    "order_data['成本总和']=order_data['产品成本价']*order_data['数量']"
   ]
  },
  {
   "cell_type": "code",
   "execution_count": 26,
   "metadata": {},
   "outputs": [],
   "source": [
    "profit_order=order_data.groupby('year').agg({\n",
    "    '实际利润':'sum',\n",
    "    '是否退回':'sum',\n",
    "    '数量':'sum',\n",
    "    '销售额':'sum',\n",
    "    '折扣后销售额':'sum',\n",
    "    '成本总和':'sum'\n",
    "})\n",
    "profit_order['商品均利润']=profit_order['实际利润']/profit_order['数量']\n",
    "profit_order['商品均原价']=profit_order['销售额']/profit_order['数量']\n",
    "\n",
    "profit_order['商品均折扣价']=profit_order['折扣后销售额']/profit_order['数量']\n",
    "profit_order['商品均成本']=profit_order['成本总和']/profit_order['数量']\n",
    "profit_order['商品均折扣']=profit_order['商品均折扣价']/profit_order['商品均原价']"
   ]
  },
  {
   "cell_type": "code",
   "execution_count": 27,
   "metadata": {},
   "outputs": [
    {
     "data": {
      "text/html": [
       "<div>\n",
       "<style scoped>\n",
       "    .dataframe tbody tr th:only-of-type {\n",
       "        vertical-align: middle;\n",
       "    }\n",
       "\n",
       "    .dataframe tbody tr th {\n",
       "        vertical-align: top;\n",
       "    }\n",
       "\n",
       "    .dataframe thead th {\n",
       "        text-align: right;\n",
       "    }\n",
       "</style>\n",
       "<table border=\"1\" class=\"dataframe\">\n",
       "  <thead>\n",
       "    <tr style=\"text-align: right;\">\n",
       "      <th></th>\n",
       "      <th>实际利润</th>\n",
       "      <th>是否退回</th>\n",
       "      <th>数量</th>\n",
       "      <th>销售额</th>\n",
       "      <th>折扣后销售额</th>\n",
       "      <th>成本总和</th>\n",
       "      <th>商品均利润</th>\n",
       "      <th>商品均原价</th>\n",
       "      <th>商品均折扣价</th>\n",
       "      <th>商品均成本</th>\n",
       "      <th>商品均折扣</th>\n",
       "    </tr>\n",
       "    <tr>\n",
       "      <th>year</th>\n",
       "      <th></th>\n",
       "      <th></th>\n",
       "      <th></th>\n",
       "      <th></th>\n",
       "      <th></th>\n",
       "      <th></th>\n",
       "      <th></th>\n",
       "      <th></th>\n",
       "      <th></th>\n",
       "      <th></th>\n",
       "      <th></th>\n",
       "    </tr>\n",
       "  </thead>\n",
       "  <tbody>\n",
       "    <tr>\n",
       "      <th>2017</th>\n",
       "      <td>2983218.105</td>\n",
       "      <td>405</td>\n",
       "      <td>46438</td>\n",
       "      <td>5973039.2</td>\n",
       "      <td>5703011.795</td>\n",
       "      <td>2478591</td>\n",
       "      <td>64.240883</td>\n",
       "      <td>128.623955</td>\n",
       "      <td>122.809160</td>\n",
       "      <td>53.374198</td>\n",
       "      <td>0.954792</td>\n",
       "    </tr>\n",
       "    <tr>\n",
       "      <th>2018</th>\n",
       "      <td>2945552.605</td>\n",
       "      <td>432</td>\n",
       "      <td>46291</td>\n",
       "      <td>6023146.9</td>\n",
       "      <td>5750958.850</td>\n",
       "      <td>2483370</td>\n",
       "      <td>63.631216</td>\n",
       "      <td>130.114858</td>\n",
       "      <td>124.234924</td>\n",
       "      <td>53.646929</td>\n",
       "      <td>0.954810</td>\n",
       "    </tr>\n",
       "    <tr>\n",
       "      <th>2019</th>\n",
       "      <td>2957382.050</td>\n",
       "      <td>366</td>\n",
       "      <td>45230</td>\n",
       "      <td>5890699.0</td>\n",
       "      <td>5622999.330</td>\n",
       "      <td>2442642</td>\n",
       "      <td>65.385409</td>\n",
       "      <td>130.238757</td>\n",
       "      <td>124.320127</td>\n",
       "      <td>54.004908</td>\n",
       "      <td>0.954556</td>\n",
       "    </tr>\n",
       "  </tbody>\n",
       "</table>\n",
       "</div>"
      ],
      "text/plain": [
       "             实际利润  是否退回     数量        销售额       折扣后销售额     成本总和      商品均利润  \\\n",
       "year                                                                         \n",
       "2017  2983218.105   405  46438  5973039.2  5703011.795  2478591  64.240883   \n",
       "2018  2945552.605   432  46291  6023146.9  5750958.850  2483370  63.631216   \n",
       "2019  2957382.050   366  45230  5890699.0  5622999.330  2442642  65.385409   \n",
       "\n",
       "           商品均原价      商品均折扣价      商品均成本     商品均折扣  \n",
       "year                                               \n",
       "2017  128.623955  122.809160  53.374198  0.954792  \n",
       "2018  130.114858  124.234924  53.646929  0.954810  \n",
       "2019  130.238757  124.320127  54.004908  0.954556  "
      ]
     },
     "execution_count": 27,
     "metadata": {},
     "output_type": "execute_result"
    }
   ],
   "source": [
    "profit_order\n",
    "#是否退回：1表示退回"
   ]
  },
  {
   "cell_type": "code",
   "execution_count": 28,
   "metadata": {
    "scrolled": true
   },
   "outputs": [
    {
     "data": {
      "text/html": [
       "<div>\n",
       "<style scoped>\n",
       "    .dataframe tbody tr th:only-of-type {\n",
       "        vertical-align: middle;\n",
       "    }\n",
       "\n",
       "    .dataframe tbody tr th {\n",
       "        vertical-align: top;\n",
       "    }\n",
       "\n",
       "    .dataframe thead th {\n",
       "        text-align: right;\n",
       "    }\n",
       "</style>\n",
       "<table border=\"1\" class=\"dataframe\">\n",
       "  <thead>\n",
       "    <tr style=\"text-align: right;\">\n",
       "      <th></th>\n",
       "      <th>实际利润</th>\n",
       "      <th>是否退回</th>\n",
       "      <th>数量</th>\n",
       "      <th>销售额</th>\n",
       "      <th>折扣后销售额</th>\n",
       "      <th>成本总和</th>\n",
       "      <th>商品均利润</th>\n",
       "      <th>商品均原价</th>\n",
       "      <th>商品均折扣价</th>\n",
       "      <th>商品均成本</th>\n",
       "      <th>商品均折扣</th>\n",
       "    </tr>\n",
       "  </thead>\n",
       "  <tbody>\n",
       "    <tr>\n",
       "      <th>2017-2018</th>\n",
       "      <td>-0.012626</td>\n",
       "      <td>0.066667</td>\n",
       "      <td>-0.003166</td>\n",
       "      <td>0.008389</td>\n",
       "      <td>0.008407</td>\n",
       "      <td>0.001928</td>\n",
       "      <td>-0.009490</td>\n",
       "      <td>0.011591</td>\n",
       "      <td>0.011610</td>\n",
       "      <td>0.005110</td>\n",
       "      <td>0.000018</td>\n",
       "    </tr>\n",
       "    <tr>\n",
       "      <th>2018-2019</th>\n",
       "      <td>0.004016</td>\n",
       "      <td>-0.152778</td>\n",
       "      <td>-0.022920</td>\n",
       "      <td>-0.021990</td>\n",
       "      <td>-0.022250</td>\n",
       "      <td>-0.016400</td>\n",
       "      <td>0.027568</td>\n",
       "      <td>0.000952</td>\n",
       "      <td>0.000686</td>\n",
       "      <td>0.006673</td>\n",
       "      <td>-0.000266</td>\n",
       "    </tr>\n",
       "  </tbody>\n",
       "</table>\n",
       "</div>"
      ],
      "text/plain": [
       "               实际利润      是否退回        数量       销售额    折扣后销售额      成本总和  \\\n",
       "2017-2018 -0.012626  0.066667 -0.003166  0.008389  0.008407  0.001928   \n",
       "2018-2019  0.004016 -0.152778 -0.022920 -0.021990 -0.022250 -0.016400   \n",
       "\n",
       "              商品均利润     商品均原价    商品均折扣价     商品均成本     商品均折扣  \n",
       "2017-2018 -0.009490  0.011591  0.011610  0.005110  0.000018  \n",
       "2018-2019  0.027568  0.000952  0.000686  0.006673 -0.000266  "
      ]
     },
     "execution_count": 28,
     "metadata": {},
     "output_type": "execute_result"
    }
   ],
   "source": [
    "(profit_order.diff().dropna().reset_index()/profit_order.iloc[:2,:].reset_index()).drop(columns='year',axis=1).rename(index={\n",
    "    0:'2017-2018',\n",
    "    1:'2018-2019'\n",
    "})"
   ]
  },
  {
   "cell_type": "markdown",
   "metadata": {},
   "source": [
    "\n",
    "- 可以看出18年利润下降与商品退货有强相关，小部分与商品的成本提高有关\n",
    "- 19年利润稍微回升，主要与退货比例下降有关，或者和商品打折有关"
   ]
  },
  {
   "cell_type": "code",
   "execution_count": 29,
   "metadata": {
    "scrolled": true
   },
   "outputs": [
    {
     "data": {
      "text/plain": [
       "count    25000.000000\n",
       "mean       386.894679\n",
       "std        654.292739\n",
       "min        -20.600000\n",
       "25%         54.500000\n",
       "50%        125.100000\n",
       "75%        359.100000\n",
       "max       3999.000000\n",
       "Name: 利润, dtype: float64"
      ]
     },
     "execution_count": 29,
     "metadata": {},
     "output_type": "execute_result"
    }
   ],
   "source": [
    "order_data['利润'].describe()"
   ]
  },
  {
   "cell_type": "code",
   "execution_count": 30,
   "metadata": {},
   "outputs": [
    {
     "data": {
      "text/plain": [
       "Index(['产品ID', '订单ID', '客户ID', '订单日期', '发货日期', '销售经理ID', '利润', '折扣', '数量',\n",
       "       '是否退回', '计划发货天数', '销售额', '实际发货天数', '产品类型', '产品名称', '产品单价', '产品成本价',\n",
       "       'month', 'quater', 'year', '1-12month', '实际销售额', '实际利润', '折扣价',\n",
       "       '折扣后销售额', '成本总和'],\n",
       "      dtype='object')"
      ]
     },
     "execution_count": 30,
     "metadata": {},
     "output_type": "execute_result"
    }
   ],
   "source": [
    "order_data.columns"
   ]
  },
  {
   "cell_type": "markdown",
   "metadata": {},
   "source": [
    "## 营收情况-时间维度\n"
   ]
  },
  {
   "attachments": {
    "%E6%88%AA%E5%B1%8F2020-11-15%20%E4%B8%8B%E5%8D%881.37.33.png": {
     "image/png": "[encoded data removed]"
    }
   },
   "cell_type": "markdown",
   "metadata": {},
   "source": [
    "- ![%E6%88%AA%E5%B1%8F2020-11-15%20%E4%B8%8B%E5%8D%881.37.33.png](attachment:%E6%88%AA%E5%B1%8F2020-11-15%20%E4%B8%8B%E5%8D%881.37.33.png)"
   ]
  },
  {
   "cell_type": "markdown",
   "metadata": {},
   "source": [
    "- 销售情况不存在周期性，三月，十月GMV同比增长率已连续下降，八月，九月GMV连续上升\n"
   ]
  },
  {
   "cell_type": "code",
   "execution_count": 31,
   "metadata": {},
   "outputs": [
    {
     "data": {
      "text/html": [
       "<div>\n",
       "<style scoped>\n",
       "    .dataframe tbody tr th:only-of-type {\n",
       "        vertical-align: middle;\n",
       "    }\n",
       "\n",
       "    .dataframe tbody tr th {\n",
       "        vertical-align: top;\n",
       "    }\n",
       "\n",
       "    .dataframe thead th {\n",
       "        text-align: right;\n",
       "    }\n",
       "</style>\n",
       "<table border=\"1\" class=\"dataframe\">\n",
       "  <thead>\n",
       "    <tr style=\"text-align: right;\">\n",
       "      <th></th>\n",
       "      <th>国家</th>\n",
       "      <th>地区</th>\n",
       "      <th>发货城市</th>\n",
       "      <th>城市ID</th>\n",
       "    </tr>\n",
       "  </thead>\n",
       "  <tbody>\n",
       "    <tr>\n",
       "      <th>0</th>\n",
       "      <td>中国</td>\n",
       "      <td>东北</td>\n",
       "      <td>阿城</td>\n",
       "      <td>city001</td>\n",
       "    </tr>\n",
       "    <tr>\n",
       "      <th>1</th>\n",
       "      <td>中国</td>\n",
       "      <td>西北</td>\n",
       "      <td>阿克苏</td>\n",
       "      <td>city002</td>\n",
       "    </tr>\n",
       "    <tr>\n",
       "      <th>2</th>\n",
       "      <td>中国</td>\n",
       "      <td>华北</td>\n",
       "      <td>阿里河</td>\n",
       "      <td>city003</td>\n",
       "    </tr>\n",
       "    <tr>\n",
       "      <th>3</th>\n",
       "      <td>中国</td>\n",
       "      <td>中南</td>\n",
       "      <td>安埠</td>\n",
       "      <td>city004</td>\n",
       "    </tr>\n",
       "    <tr>\n",
       "      <th>4</th>\n",
       "      <td>中国</td>\n",
       "      <td>东北</td>\n",
       "      <td>安达</td>\n",
       "      <td>city005</td>\n",
       "    </tr>\n",
       "    <tr>\n",
       "      <th>...</th>\n",
       "      <td>...</td>\n",
       "      <td>...</td>\n",
       "      <td>...</td>\n",
       "      <td>...</td>\n",
       "    </tr>\n",
       "    <tr>\n",
       "      <th>587</th>\n",
       "      <td>中国</td>\n",
       "      <td>华东</td>\n",
       "      <td>诸暨</td>\n",
       "      <td>city588</td>\n",
       "    </tr>\n",
       "    <tr>\n",
       "      <th>588</th>\n",
       "      <td>中国</td>\n",
       "      <td>中南</td>\n",
       "      <td>驻马店</td>\n",
       "      <td>city589</td>\n",
       "    </tr>\n",
       "    <tr>\n",
       "      <th>589</th>\n",
       "      <td>中国</td>\n",
       "      <td>东北</td>\n",
       "      <td>庄河</td>\n",
       "      <td>city590</td>\n",
       "    </tr>\n",
       "    <tr>\n",
       "      <th>590</th>\n",
       "      <td>中国</td>\n",
       "      <td>西南</td>\n",
       "      <td>自贡</td>\n",
       "      <td>city591</td>\n",
       "    </tr>\n",
       "    <tr>\n",
       "      <th>591</th>\n",
       "      <td>中国</td>\n",
       "      <td>西南</td>\n",
       "      <td>遵义</td>\n",
       "      <td>city592</td>\n",
       "    </tr>\n",
       "  </tbody>\n",
       "</table>\n",
       "<p>592 rows × 4 columns</p>\n",
       "</div>"
      ],
      "text/plain": [
       "     国家  地区 发货城市     城市ID\n",
       "0    中国  东北   阿城  city001\n",
       "1    中国  西北  阿克苏  city002\n",
       "2    中国  华北  阿里河  city003\n",
       "3    中国  中南   安埠  city004\n",
       "4    中国  东北   安达  city005\n",
       "..   ..  ..  ...      ...\n",
       "587  中国  华东   诸暨  city588\n",
       "588  中国  中南  驻马店  city589\n",
       "589  中国  东北   庄河  city590\n",
       "590  中国  西南   自贡  city591\n",
       "591  中国  西南   遵义  city592\n",
       "\n",
       "[592 rows x 4 columns]"
      ]
     },
     "execution_count": 31,
     "metadata": {},
     "output_type": "execute_result"
    }
   ],
   "source": [
    "city_data"
   ]
  },
  {
   "cell_type": "code",
   "execution_count": 32,
   "metadata": {},
   "outputs": [],
   "source": [
    "order_district=order_data[['订单ID','是否退回','客户ID','实际销售额','实际利润','订单日期','year']].merge(cus_data[['客户ID','省/自治区','城市ID']]).merge(city_data[['城市ID','地区']])"
   ]
  },
  {
   "cell_type": "code",
   "execution_count": 315,
   "metadata": {},
   "outputs": [],
   "source": [
    "order_district.to_excel('订单地区表.xlsx')"
   ]
  },
  {
   "cell_type": "markdown",
   "metadata": {},
   "source": [
    "## 营收情况- 地区维度"
   ]
  },
  {
   "attachments": {
    "%E6%88%AA%E5%B1%8F2020-11-15%20%E4%B8%8B%E5%8D%882.38.47.png": {
     "image/png": "[encoded data removed]"
    }
   },
   "cell_type": "markdown",
   "metadata": {},
   "source": [
    "- ![%E6%88%AA%E5%B1%8F2020-11-15%20%E4%B8%8B%E5%8D%882.38.47.png](attachment:%E6%88%AA%E5%B1%8F2020-11-15%20%E4%B8%8B%E5%8D%882.38.47.png)"
   ]
  },
  {
   "cell_type": "markdown",
   "metadata": {},
   "source": [
    "- 可以看出销售呈现明显地区分布，由西向东，由北到南销售额逐渐降低\n",
    "- 东部大区（华东，中南，东北，华东）贡献87.44%的销售额，87.37%的利润\n",
    "- 东南地区（华东，中南）销售额和利润均超50%"
   ]
  },
  {
   "attachments": {
    "%E6%88%AA%E5%B1%8F2020-11-15%20%E4%B8%8B%E5%8D%883.15.12.png": {
     "image/png": "[encoded data removed]"
    }
   },
   "cell_type": "markdown",
   "metadata": {},
   "source": [
    "- ![%E6%88%AA%E5%B1%8F2020-11-15%20%E4%B8%8B%E5%8D%883.15.12.png](attachment:%E6%88%AA%E5%B1%8F2020-11-15%20%E4%B8%8B%E5%8D%883.15.12.png)"
   ]
  },
  {
   "cell_type": "markdown",
   "metadata": {},
   "source": [
    "- 可以看出18年GMV存在北降男升的趋势，（东北华北地区GMV下降，华东，中南，西南，西北地区GMV上升）\n",
    "- 19年的变化情况与18年相反，其中两年西北地区的GMV变化幅度最大\n",
    "- 可能与各地区不同的营销方式有关"
   ]
  },
  {
   "attachments": {
    "%E6%88%AA%E5%B1%8F2020-11-15%20%E4%B8%8B%E5%8D%884.15.26.png": {
     "image/png": "[encoded data removed]"
    }
   },
   "cell_type": "markdown",
   "metadata": {},
   "source": [
    "![%E6%88%AA%E5%B1%8F2020-11-15%20%E4%B8%8B%E5%8D%884.15.26.png](attachment:%E6%88%AA%E5%B1%8F2020-11-15%20%E4%B8%8B%E5%8D%884.15.26.png)"
   ]
  },
  {
   "cell_type": "markdown",
   "metadata": {},
   "source": [
    "- 可以看出山东，广东，辽宁，黑龙江连续3年进入GMV前五\n",
    "- 青海，宁夏，西藏，海南连续3年位于后五\n",
    "- 贵州，湖南，江西，上海利润占GMV较高，营收情况较为健康"
   ]
  },
  {
   "cell_type": "markdown",
   "metadata": {},
   "source": [
    "## 营收情况-品类维度"
   ]
  },
  {
   "attachments": {
    "%E6%88%AA%E5%B1%8F2020-11-17%20%E4%B8%8B%E5%8D%8810.25.39.png": {
     "image/png": "[encoded data removed]"
    }
   },
   "cell_type": "markdown",
   "metadata": {},
   "source": [
    "- ![%E6%88%AA%E5%B1%8F2020-11-17%20%E4%B8%8B%E5%8D%8810.25.39.png](attachment:%E6%88%AA%E5%B1%8F2020-11-17%20%E4%B8%8B%E5%8D%8810.25.39.png)"
   ]
  },
  {
   "cell_type": "markdown",
   "metadata": {},
   "source": [
    "- 可以看出2017-2018年，各品类GMV出现不同变化，夏装下降7.4%，秋装和冬装分别上涨0.5%和2.4%\n",
    "- 2018-2019年，冬装下降4.2%，夏装和秋装分别上涨3.3%和0.2%"
   ]
  },
  {
   "cell_type": "code",
   "execution_count": 320,
   "metadata": {},
   "outputs": [],
   "source": [
    "year_cate=pd.pivot_table(order_data,index='year',columns='产品类型',values='订单ID',aggfunc='count')"
   ]
  },
  {
   "cell_type": "code",
   "execution_count": 322,
   "metadata": {},
   "outputs": [
    {
     "data": {
      "text/html": [
       "<div>\n",
       "<style scoped>\n",
       "    .dataframe tbody tr th:only-of-type {\n",
       "        vertical-align: middle;\n",
       "    }\n",
       "\n",
       "    .dataframe tbody tr th {\n",
       "        vertical-align: top;\n",
       "    }\n",
       "\n",
       "    .dataframe thead th {\n",
       "        text-align: right;\n",
       "    }\n",
       "</style>\n",
       "<table border=\"1\" class=\"dataframe\">\n",
       "  <thead>\n",
       "    <tr style=\"text-align: right;\">\n",
       "      <th>产品类型</th>\n",
       "      <th>冬装</th>\n",
       "      <th>夏装</th>\n",
       "      <th>秋装</th>\n",
       "    </tr>\n",
       "    <tr>\n",
       "      <th>year</th>\n",
       "      <th></th>\n",
       "      <th></th>\n",
       "      <th></th>\n",
       "    </tr>\n",
       "  </thead>\n",
       "  <tbody>\n",
       "    <tr>\n",
       "      <th>2017</th>\n",
       "      <td>4414</td>\n",
       "      <td>1985</td>\n",
       "      <td>2036</td>\n",
       "    </tr>\n",
       "    <tr>\n",
       "      <th>2018</th>\n",
       "      <td>4454</td>\n",
       "      <td>1988</td>\n",
       "      <td>1915</td>\n",
       "    </tr>\n",
       "    <tr>\n",
       "      <th>2019</th>\n",
       "      <td>4338</td>\n",
       "      <td>1953</td>\n",
       "      <td>1917</td>\n",
       "    </tr>\n",
       "  </tbody>\n",
       "</table>\n",
       "</div>"
      ],
      "text/plain": [
       "产品类型    冬装    夏装    秋装\n",
       "year                  \n",
       "2017  4414  1985  2036\n",
       "2018  4454  1988  1915\n",
       "2019  4338  1953  1917"
      ]
     },
     "execution_count": 322,
     "metadata": {},
     "output_type": "execute_result"
    }
   ],
   "source": [
    "year_cate"
   ]
  },
  {
   "cell_type": "code",
   "execution_count": 336,
   "metadata": {},
   "outputs": [
    {
     "data": {
      "text/html": [
       "<div>\n",
       "<style scoped>\n",
       "    .dataframe tbody tr th:only-of-type {\n",
       "        vertical-align: middle;\n",
       "    }\n",
       "\n",
       "    .dataframe tbody tr th {\n",
       "        vertical-align: top;\n",
       "    }\n",
       "\n",
       "    .dataframe thead th {\n",
       "        text-align: right;\n",
       "    }\n",
       "</style>\n",
       "<table border=\"1\" class=\"dataframe\">\n",
       "  <thead>\n",
       "    <tr style=\"text-align: right;\">\n",
       "      <th>产品类型</th>\n",
       "      <th>冬装</th>\n",
       "      <th>夏装</th>\n",
       "      <th>秋装</th>\n",
       "    </tr>\n",
       "  </thead>\n",
       "  <tbody>\n",
       "    <tr>\n",
       "      <th>2017-2018</th>\n",
       "      <td>0.009062</td>\n",
       "      <td>0.001511</td>\n",
       "      <td>-0.059430</td>\n",
       "    </tr>\n",
       "    <tr>\n",
       "      <th>2018-2019</th>\n",
       "      <td>-0.026044</td>\n",
       "      <td>-0.017606</td>\n",
       "      <td>0.001044</td>\n",
       "    </tr>\n",
       "  </tbody>\n",
       "</table>\n",
       "</div>"
      ],
      "text/plain": [
       "产品类型             冬装        夏装        秋装\n",
       "2017-2018  0.009062  0.001511 -0.059430\n",
       "2018-2019 -0.026044 -0.017606  0.001044"
      ]
     },
     "execution_count": 336,
     "metadata": {},
     "output_type": "execute_result"
    }
   ],
   "source": [
    "(year_cate.diff().dropna().reset_index()/year_cate.iloc[:2,:].reset_index()).drop(columns='year',axis=1).rename(index={\n",
    "    0:'2017-2018',\n",
    "    1:'2018-2019'\n",
    "})"
   ]
  },
  {
   "cell_type": "code",
   "execution_count": 337,
   "metadata": {},
   "outputs": [
    {
     "data": {
      "text/plain": [
       "Index(['产品ID', '订单ID', '客户ID', '订单日期', '发货日期', '销售经理ID', '利润', '折扣', '数量',\n",
       "       '是否退回', '计划发货天数', '销售额', '实际发货天数', '产品类型', '产品名称', '产品单价', '产品成本价',\n",
       "       'month', 'quater', 'year', '1-12month', '实际销售额', '折扣价', '折扣后销售额',\n",
       "       '成本总和', '实际利润'],\n",
       "      dtype='object')"
      ]
     },
     "execution_count": 337,
     "metadata": {},
     "output_type": "execute_result"
    }
   ],
   "source": [
    "order_data.columns"
   ]
  },
  {
   "cell_type": "code",
   "execution_count": 47,
   "metadata": {},
   "outputs": [
    {
     "data": {
      "text/html": [
       "<div>\n",
       "<style scoped>\n",
       "    .dataframe tbody tr th:only-of-type {\n",
       "        vertical-align: middle;\n",
       "    }\n",
       "\n",
       "    .dataframe tbody tr th {\n",
       "        vertical-align: top;\n",
       "    }\n",
       "\n",
       "    .dataframe thead th {\n",
       "        text-align: right;\n",
       "    }\n",
       "</style>\n",
       "<table border=\"1\" class=\"dataframe\">\n",
       "  <thead>\n",
       "    <tr style=\"text-align: right;\">\n",
       "      <th></th>\n",
       "      <th></th>\n",
       "      <th>GMV</th>\n",
       "      <th>交易用户数</th>\n",
       "      <th>订单数</th>\n",
       "      <th>人均订单数</th>\n",
       "      <th>ARPU</th>\n",
       "      <th>单均价</th>\n",
       "      <th>单均商品量</th>\n",
       "      <th>单原价</th>\n",
       "      <th>单均折扣</th>\n",
       "      <th>商品均价</th>\n",
       "    </tr>\n",
       "    <tr>\n",
       "      <th>产品类型</th>\n",
       "      <th>year</th>\n",
       "      <th></th>\n",
       "      <th></th>\n",
       "      <th></th>\n",
       "      <th></th>\n",
       "      <th></th>\n",
       "      <th></th>\n",
       "      <th></th>\n",
       "      <th></th>\n",
       "      <th></th>\n",
       "      <th></th>\n",
       "    </tr>\n",
       "  </thead>\n",
       "  <tbody>\n",
       "    <tr>\n",
       "      <th rowspan=\"3\" valign=\"top\">冬装</th>\n",
       "      <th>2017</th>\n",
       "      <td>3493345.165</td>\n",
       "      <td>787</td>\n",
       "      <td>4414</td>\n",
       "      <td>5.608640</td>\n",
       "      <td>4438.812154</td>\n",
       "      <td>791.423916</td>\n",
       "      <td>5.497055</td>\n",
       "      <td>829.190440</td>\n",
       "      <td>0.952696</td>\n",
       "      <td>150.614181</td>\n",
       "    </tr>\n",
       "    <tr>\n",
       "      <th>2018</th>\n",
       "      <td>3578028.680</td>\n",
       "      <td>789</td>\n",
       "      <td>4454</td>\n",
       "      <td>5.645120</td>\n",
       "      <td>4534.890596</td>\n",
       "      <td>803.329295</td>\n",
       "      <td>5.542658</td>\n",
       "      <td>841.532398</td>\n",
       "      <td>0.952728</td>\n",
       "      <td>151.923403</td>\n",
       "    </tr>\n",
       "    <tr>\n",
       "      <th>2019</th>\n",
       "      <td>3428498.390</td>\n",
       "      <td>787</td>\n",
       "      <td>4338</td>\n",
       "      <td>5.512071</td>\n",
       "      <td>4356.414727</td>\n",
       "      <td>790.340800</td>\n",
       "      <td>5.494698</td>\n",
       "      <td>827.279023</td>\n",
       "      <td>0.952605</td>\n",
       "      <td>150.128371</td>\n",
       "    </tr>\n",
       "    <tr>\n",
       "      <th rowspan=\"3\" valign=\"top\">夏装</th>\n",
       "      <th>2017</th>\n",
       "      <td>603455.165</td>\n",
       "      <td>735</td>\n",
       "      <td>1985</td>\n",
       "      <td>2.700680</td>\n",
       "      <td>821.027435</td>\n",
       "      <td>304.007640</td>\n",
       "      <td>5.604534</td>\n",
       "      <td>318.809824</td>\n",
       "      <td>0.953300</td>\n",
       "      <td>57.908628</td>\n",
       "    </tr>\n",
       "    <tr>\n",
       "      <th>2018</th>\n",
       "      <td>558647.765</td>\n",
       "      <td>712</td>\n",
       "      <td>1988</td>\n",
       "      <td>2.792135</td>\n",
       "      <td>784.617647</td>\n",
       "      <td>281.009942</td>\n",
       "      <td>5.447183</td>\n",
       "      <td>293.620272</td>\n",
       "      <td>0.955936</td>\n",
       "      <td>53.007812</td>\n",
       "    </tr>\n",
       "    <tr>\n",
       "      <th>2019</th>\n",
       "      <td>576898.975</td>\n",
       "      <td>725</td>\n",
       "      <td>1953</td>\n",
       "      <td>2.693793</td>\n",
       "      <td>795.722724</td>\n",
       "      <td>295.391180</td>\n",
       "      <td>5.498720</td>\n",
       "      <td>310.433231</td>\n",
       "      <td>0.949309</td>\n",
       "      <td>56.335086</td>\n",
       "    </tr>\n",
       "    <tr>\n",
       "      <th rowspan=\"3\" valign=\"top\">秋装</th>\n",
       "      <th>2017</th>\n",
       "      <td>1606211.465</td>\n",
       "      <td>736</td>\n",
       "      <td>2036</td>\n",
       "      <td>2.766304</td>\n",
       "      <td>2182.352534</td>\n",
       "      <td>788.905435</td>\n",
       "      <td>5.426817</td>\n",
       "      <td>825.223527</td>\n",
       "      <td>0.953929</td>\n",
       "      <td>149.893631</td>\n",
       "    </tr>\n",
       "    <tr>\n",
       "      <th>2018</th>\n",
       "      <td>1614282.405</td>\n",
       "      <td>723</td>\n",
       "      <td>1915</td>\n",
       "      <td>2.648686</td>\n",
       "      <td>2232.755747</td>\n",
       "      <td>842.967313</td>\n",
       "      <td>5.626632</td>\n",
       "      <td>883.156397</td>\n",
       "      <td>0.953003</td>\n",
       "      <td>159.437861</td>\n",
       "    </tr>\n",
       "    <tr>\n",
       "      <th>2019</th>\n",
       "      <td>1617601.965</td>\n",
       "      <td>720</td>\n",
       "      <td>1917</td>\n",
       "      <td>2.662500</td>\n",
       "      <td>2246.669396</td>\n",
       "      <td>843.819491</td>\n",
       "      <td>5.558164</td>\n",
       "      <td>884.552165</td>\n",
       "      <td>0.953156</td>\n",
       "      <td>160.521870</td>\n",
       "    </tr>\n",
       "  </tbody>\n",
       "</table>\n",
       "</div>"
      ],
      "text/plain": [
       "                   GMV  交易用户数   订单数     人均订单数         ARPU         单均价  \\\n",
       "产品类型 year                                                                \n",
       "冬装   2017  3493345.165    787  4414  5.608640  4438.812154  791.423916   \n",
       "     2018  3578028.680    789  4454  5.645120  4534.890596  803.329295   \n",
       "     2019  3428498.390    787  4338  5.512071  4356.414727  790.340800   \n",
       "夏装   2017   603455.165    735  1985  2.700680   821.027435  304.007640   \n",
       "     2018   558647.765    712  1988  2.792135   784.617647  281.009942   \n",
       "     2019   576898.975    725  1953  2.693793   795.722724  295.391180   \n",
       "秋装   2017  1606211.465    736  2036  2.766304  2182.352534  788.905435   \n",
       "     2018  1614282.405    723  1915  2.648686  2232.755747  842.967313   \n",
       "     2019  1617601.965    720  1917  2.662500  2246.669396  843.819491   \n",
       "\n",
       "              单均商品量         单原价      单均折扣        商品均价  \n",
       "产品类型 year                                              \n",
       "冬装   2017  5.497055  829.190440  0.952696  150.614181  \n",
       "     2018  5.542658  841.532398  0.952728  151.923403  \n",
       "     2019  5.494698  827.279023  0.952605  150.128371  \n",
       "夏装   2017  5.604534  318.809824  0.953300   57.908628  \n",
       "     2018  5.447183  293.620272  0.955936   53.007812  \n",
       "     2019  5.498720  310.433231  0.949309   56.335086  \n",
       "秋装   2017  5.426817  825.223527  0.953929  149.893631  \n",
       "     2018  5.626632  883.156397  0.953003  159.437861  \n",
       "     2019  5.558164  884.552165  0.953156  160.521870  "
      ]
     },
     "execution_count": 47,
     "metadata": {},
     "output_type": "execute_result"
    }
   ],
   "source": [
    "new_order_df=order_data.groupby(['产品类型','year'])['实际销售额'].sum().to_frame()\n",
    "new_order_df=new_order_df.rename(columns={'实际销售额':'GMV'})\n",
    "new_order_df['交易用户数']=order_data[['产品类型','year','客户ID']].drop_duplicates().groupby(['产品类型','year'])['客户ID'].count()\n",
    "new_order_df['订单数']=order_data.groupby(['产品类型','year'])['订单ID'].count()\n",
    "new_order_df['人均订单数']=new_order_df['订单数']/new_order_df['交易用户数']\n",
    "new_order_df['ARPU']=new_order_df['GMV']/new_order_df['交易用户数']\n",
    "new_order_df['单均价']=new_order_df['ARPU']/new_order_df['人均订单数']\n",
    "# new_order_df\n",
    "new_order_df['单均商品量']=order_data.groupby(['产品类型','year'])['数量'].mean()\n",
    "new_order_df['单原价']=order_data.groupby(['产品类型','year'])['销售额'].mean()\n",
    "new_order_df['单均折扣']=order_data.groupby(['产品类型','year'])['折扣'].mean()\n",
    "new_order_df['商品均价']=new_order_df['单原价']/order_df['单均商品量']\n",
    "\n",
    "new_order_df"
   ]
  },
  {
   "cell_type": "code",
   "execution_count": 49,
   "metadata": {},
   "outputs": [
    {
     "data": {
      "text/plain": [
       "Index(['GMV', '交易用户数', '订单数', '人均订单数', 'ARPU', '单均价', '单均商品量', '单原价', '单均折扣',\n",
       "       '商品均价'],\n",
       "      dtype='object')"
      ]
     },
     "execution_count": 49,
     "metadata": {},
     "output_type": "execute_result"
    }
   ],
   "source": [
    "new_order_df.columns"
   ]
  },
  {
   "cell_type": "code",
   "execution_count": 52,
   "metadata": {},
   "outputs": [
    {
     "name": "stdout",
     "output_type": "stream",
     "text": [
      "变量为 GMV\n",
      "产品类型             冬装        夏装        秋装\n",
      "2017-2018  0.024241 -0.074251  0.005025\n",
      "2018-2019 -0.041791  0.032670  0.002056\n",
      "\n",
      "\n",
      "变量为 交易用户数\n",
      "产品类型             冬装        夏装        秋装\n",
      "2017-2018  0.002541 -0.031293 -0.017663\n",
      "2018-2019 -0.002535  0.018258 -0.004149\n",
      "\n",
      "\n",
      "变量为 订单数\n",
      "产品类型             冬装        夏装        秋装\n",
      "2017-2018  0.009062  0.001511 -0.059430\n",
      "2018-2019 -0.026044 -0.017606  0.001044\n",
      "\n",
      "\n",
      "变量为 人均订单数\n",
      "产品类型             冬装        夏装        秋装\n",
      "2017-2018  0.006504  0.033864 -0.042518\n",
      "2018-2019 -0.023569 -0.035221  0.005215\n",
      "\n",
      "\n",
      "变量为 ARPU\n",
      "产品类型             冬装        夏装        秋装\n",
      "2017-2018  0.021645 -0.044347  0.023096\n",
      "2018-2019 -0.039356  0.014153  0.006232\n",
      "\n",
      "\n",
      "变量为 单均价\n",
      "产品类型             冬装        夏装        秋装\n",
      "2017-2018  0.015043 -0.075648  0.068528\n",
      "2018-2019 -0.016168  0.051177  0.001011\n",
      "\n",
      "\n",
      "变量为 单均商品量\n",
      "产品类型             冬装        夏装        秋装\n",
      "2017-2018  0.008296 -0.028076  0.036820\n",
      "2018-2019 -0.008653  0.009461 -0.012169\n",
      "\n",
      "\n",
      "变量为 单原价\n",
      "产品类型             冬装        夏装        秋装\n",
      "2017-2018  0.014884 -0.079011  0.070203\n",
      "2018-2019 -0.016937  0.057261  0.001580\n",
      "\n",
      "\n",
      "变量为 单均折扣\n",
      "产品类型             冬装        夏装        秋装\n",
      "2017-2018  0.000034  0.002765 -0.000971\n",
      "2018-2019 -0.000129 -0.006932  0.000161\n",
      "\n",
      "\n",
      "变量为 商品均价\n",
      "产品类型             冬装       夏装        秋装\n",
      "2017-2018  0.008693 -0.08463  0.063673\n",
      "2018-2019 -0.011815  0.06277  0.006799\n",
      "\n",
      "\n"
     ]
    }
   ],
   "source": [
    "for i in new_order_df.columns:\n",
    "    year_cate=pd.pivot_table(new_order_df,index='year',columns='产品类型',values=i)\n",
    "    df=(year_cate.diff().dropna().reset_index()/year_cate.iloc[:2,:].reset_index()).drop(columns='year',axis=1).rename(index={\n",
    "        0:'2017-2018',\n",
    "        1:'2018-2019'\n",
    "    })\n",
    "    print('变量为',i)\n",
    "    print(df)\n",
    "    print('\\n')"
   ]
  },
  {
   "cell_type": "markdown",
   "metadata": {},
   "source": [
    "- 可以看出18年GMV提升主要由于冬装产品导致，夏装下降7.43%,秋装上升0.50%,冬装上升2.42%\n",
    "    - 冬装GMV上升的原因是单均价提高的原因1.50%，平均单件商品定价提高1.3元\n",
    "    - 夏装GMV下降的原因是交易用户数（3.13%），折扣（8.46%），单均价（7.56%）共同所致，平均单件商品下降4.9元\n",
    "- 19年GMV下降主要是冬装产品导致，冬装下降4.18%，夏装上升3.27%，秋装上升0.21%\n",
    "    - 冬装GMV下降的原因是人均订单数（2.36%）和单均价（1.62%）共同导致，平均单件商品定价减少1.8元\n",
    "    - 夏装GMV上升的原因是交易用户数（1.83%）和单均价（5.12%）共同导致，平均单件商品定价提高3.3元"
   ]
  },
  {
   "cell_type": "markdown",
   "metadata": {},
   "source": [
    "# 客户交易情况\n",
    "## 1.客户结构"
   ]
  },
  {
   "cell_type": "code",
   "execution_count": 57,
   "metadata": {},
   "outputs": [
    {
     "data": {
      "text/plain": [
       "Index(['产品ID', '订单ID', '客户ID', '订单日期', '发货日期', '销售经理ID', '利润', '折扣', '数量',\n",
       "       '是否退回', '计划发货天数', '销售额', '实际发货天数', '产品类型', '产品名称', '产品单价', '产品成本价',\n",
       "       'month', 'quater', 'year', '1-12month', '实际销售额', '实际利润', '折扣价',\n",
       "       '折扣后销售额', '成本总和'],\n",
       "      dtype='object')"
      ]
     },
     "execution_count": 57,
     "metadata": {},
     "output_type": "execute_result"
    }
   ],
   "source": [
    "order_data.columns"
   ]
  },
  {
   "cell_type": "code",
   "execution_count": 86,
   "metadata": {},
   "outputs": [],
   "source": [
    "order_data['真实订单']=1-order_data['是否退回']"
   ]
  },
  {
   "cell_type": "code",
   "execution_count": 88,
   "metadata": {},
   "outputs": [],
   "source": [
    "order_client=order_data.merge(cus_data,on='客户ID')"
   ]
  },
  {
   "cell_type": "code",
   "execution_count": 81,
   "metadata": {},
   "outputs": [],
   "source": [
    "s1=pd.pivot_table(order_client,index='细分',columns='year',values='实际销售额',aggfunc='sum').mean(axis=1)"
   ]
  },
  {
   "cell_type": "code",
   "execution_count": 82,
   "metadata": {},
   "outputs": [
    {
     "data": {
      "image/png": "[encoded data removed]",
      "text/plain": [
       "<Figure size 432x288 with 1 Axes>"
      ]
     },
     "metadata": {},
     "output_type": "display_data"
    }
   ],
   "source": [
    "plt.pie(s1/s1.sum(),labels=s1.index,autopct='%1.2f%%')\n",
    "plt.show()"
   ]
  },
  {
   "cell_type": "code",
   "execution_count": 83,
   "metadata": {},
   "outputs": [
    {
     "data": {
      "image/png": "[encoded data removed]",
      "text/plain": [
       "<Figure size 432x288 with 1 Axes>"
      ]
     },
     "metadata": {},
     "output_type": "display_data"
    }
   ],
   "source": [
    "s1=pd.pivot_table(order_client,index='细分',columns='year',values='实际利润',aggfunc='sum').mean(axis=1)\n",
    "plt.pie(s1/s1.sum(),labels=s1.index,autopct='%1.2f%%')\n",
    "plt.show()"
   ]
  },
  {
   "cell_type": "code",
   "execution_count": 89,
   "metadata": {},
   "outputs": [
    {
     "data": {
      "image/png": "[encoded data removed]",
      "text/plain": [
       "<Figure size 432x288 with 1 Axes>"
      ]
     },
     "metadata": {},
     "output_type": "display_data"
    }
   ],
   "source": [
    "s1=pd.pivot_table(order_client,index='细分',columns='year',values='真实订单',aggfunc='sum').mean(axis=1)\n",
    "plt.pie(s1/s1.sum(),labels=s1.index,autopct='%1.2f%%')\n",
    "plt.show()"
   ]
  },
  {
   "cell_type": "markdown",
   "metadata": {},
   "source": [
    "- 2017-2019年，消费者在年均实际销售额，年均实际利润，年均实际订单量都占据50%，是目前的消费主力"
   ]
  },
  {
   "cell_type": "markdown",
   "metadata": {},
   "source": [
    "## 2.利用RFM和用户生命周期给用户打标签"
   ]
  },
  {
   "cell_type": "code",
   "execution_count": 93,
   "metadata": {},
   "outputs": [
    {
     "data": {
      "text/plain": [
       "179.100    366\n",
       "119.400    357\n",
       "79.600     356\n",
       "199.000    349\n",
       "159.200    349\n",
       "          ... \n",
       "67.830       2\n",
       "719.880      2\n",
       "479.840      2\n",
       "239.200      1\n",
       "284.905      1\n",
       "Name: 实际销售额, Length: 805, dtype: int64"
      ]
     },
     "execution_count": 93,
     "metadata": {},
     "output_type": "execute_result"
    }
   ],
   "source": [
    "order_data['实际销售额'].value_counts()\n",
    "#实际销售额包含退货的，只是去掉折扣了"
   ]
  },
  {
   "cell_type": "code",
   "execution_count": 96,
   "metadata": {},
   "outputs": [],
   "source": [
    "rfm=order_data.groupby('客户ID').agg({\n",
    "    '订单日期':'max',\n",
    "    '订单ID':'count',\n",
    "    '实际销售额':'sum'\n",
    "})"
   ]
  },
  {
   "cell_type": "code",
   "execution_count": 97,
   "metadata": {},
   "outputs": [],
   "source": [
    "import datetime"
   ]
  },
  {
   "cell_type": "code",
   "execution_count": 99,
   "metadata": {},
   "outputs": [],
   "source": [
    "dd='2020-11-23 12:29:00'\n",
    "rfm['RR']=(pd.to_datetime(dd) - pd.to_datetime(rfm.订单日期)).dt.days\n",
    "R_median=np.median(rfm.RR)\n",
    "F_median=np.median(rfm.订单ID)\n",
    "M_median=np.median(rfm.实际销售额)\n",
    "rfm['R']=np.where(rfm.RR<R_median,'高','低')\n",
    "rfm['F']=np.where(rfm.订单ID>F_median,'高','低')\n",
    "rfm['M']=np.where(rfm.实际销售额>M_median,'高','低')\n",
    "rfm['RFM']=rfm.R+rfm.F+rfm.M\n",
    "RFM = {'高高高':'重要价值用户','高低高':'重要保持用户','低高高':'重要发展用户','低低高':'重要挽留用户','高高低':'一般价值用户','高低低':'一般发展用户','低高低':'一般保持用户','低低低':'一般挽留用户'}\n",
    "rfm['RFMlevel'] = [RFM[i] for i in rfm.RFM.tolist()]\n"
   ]
  },
  {
   "cell_type": "code",
   "execution_count": 137,
   "metadata": {},
   "outputs": [],
   "source": [
    "rfm.to_excel('用户价值.xlsx')"
   ]
  },
  {
   "cell_type": "code",
   "execution_count": 104,
   "metadata": {},
   "outputs": [],
   "source": [
    "rfm=rfm.reset_index()\n",
    "s1=rfm.groupby('RFMlevel')['客户ID'].count()/np.sum(rfm.groupby('RFMlevel')['客户ID'].count())"
   ]
  },
  {
   "cell_type": "code",
   "execution_count": 108,
   "metadata": {},
   "outputs": [
    {
     "data": {
      "text/plain": [
       "dict_values(['重要价值用户', '重要保持用户', '重要发展用户', '重要挽留用户', '一般价值用户', '一般发展用户', '一般保持用户', '一般挽留用户'])"
      ]
     },
     "execution_count": 108,
     "metadata": {},
     "output_type": "execute_result"
    }
   ],
   "source": [
    "RFM.values()"
   ]
  },
  {
   "cell_type": "code",
   "execution_count": 115,
   "metadata": {},
   "outputs": [],
   "source": [
    "s1=s1.loc[RFM.values()]"
   ]
  },
  {
   "cell_type": "code",
   "execution_count": 133,
   "metadata": {},
   "outputs": [],
   "source": [
    "s2=rfm.groupby('RFMlevel')['实际销售额'].sum()/np.sum(rfm.groupby('RFMlevel')['实际销售额'].sum())\n",
    "s2=s2.loc[RFM.values()]"
   ]
  },
  {
   "cell_type": "code",
   "execution_count": 138,
   "metadata": {
    "scrolled": true
   },
   "outputs": [],
   "source": [
    "df=s1.reset_index().merge(s2.reset_index(),on='RFMlevel')"
   ]
  },
  {
   "cell_type": "code",
   "execution_count": 144,
   "metadata": {},
   "outputs": [
    {
     "data": {
      "text/html": [
       "<div>\n",
       "<style scoped>\n",
       "    .dataframe tbody tr th:only-of-type {\n",
       "        vertical-align: middle;\n",
       "    }\n",
       "\n",
       "    .dataframe tbody tr th {\n",
       "        vertical-align: top;\n",
       "    }\n",
       "\n",
       "    .dataframe thead th {\n",
       "        text-align: right;\n",
       "    }\n",
       "</style>\n",
       "<table border=\"1\" class=\"dataframe\">\n",
       "  <thead>\n",
       "    <tr style=\"text-align: right;\">\n",
       "      <th></th>\n",
       "      <th>RFMlevel</th>\n",
       "      <th>客户ID</th>\n",
       "      <th>实际销售额</th>\n",
       "    </tr>\n",
       "  </thead>\n",
       "  <tbody>\n",
       "    <tr>\n",
       "      <th>7</th>\n",
       "      <td>一般挽留用户</td>\n",
       "      <td>0.194937</td>\n",
       "      <td>0.143208</td>\n",
       "    </tr>\n",
       "    <tr>\n",
       "      <th>0</th>\n",
       "      <td>重要价值用户</td>\n",
       "      <td>0.179747</td>\n",
       "      <td>0.233542</td>\n",
       "    </tr>\n",
       "    <tr>\n",
       "      <th>2</th>\n",
       "      <td>重要发展用户</td>\n",
       "      <td>0.154430</td>\n",
       "      <td>0.195764</td>\n",
       "    </tr>\n",
       "    <tr>\n",
       "      <th>5</th>\n",
       "      <td>一般发展用户</td>\n",
       "      <td>0.150633</td>\n",
       "      <td>0.106752</td>\n",
       "    </tr>\n",
       "    <tr>\n",
       "      <th>4</th>\n",
       "      <td>一般价值用户</td>\n",
       "      <td>0.091139</td>\n",
       "      <td>0.074574</td>\n",
       "    </tr>\n",
       "    <tr>\n",
       "      <th>3</th>\n",
       "      <td>重要挽留用户</td>\n",
       "      <td>0.089873</td>\n",
       "      <td>0.104034</td>\n",
       "    </tr>\n",
       "    <tr>\n",
       "      <th>1</th>\n",
       "      <td>重要保持用户</td>\n",
       "      <td>0.075949</td>\n",
       "      <td>0.090881</td>\n",
       "    </tr>\n",
       "    <tr>\n",
       "      <th>6</th>\n",
       "      <td>一般保持用户</td>\n",
       "      <td>0.063291</td>\n",
       "      <td>0.051245</td>\n",
       "    </tr>\n",
       "  </tbody>\n",
       "</table>\n",
       "</div>"
      ],
      "text/plain": [
       "  RFMlevel      客户ID     实际销售额\n",
       "7   一般挽留用户  0.194937  0.143208\n",
       "0   重要价值用户  0.179747  0.233542\n",
       "2   重要发展用户  0.154430  0.195764\n",
       "5   一般发展用户  0.150633  0.106752\n",
       "4   一般价值用户  0.091139  0.074574\n",
       "3   重要挽留用户  0.089873  0.104034\n",
       "1   重要保持用户  0.075949  0.090881\n",
       "6   一般保持用户  0.063291  0.051245"
      ]
     },
     "execution_count": 144,
     "metadata": {},
     "output_type": "execute_result"
    }
   ],
   "source": [
    "df.sort_values(by='客户ID',ascending=False)"
   ]
  },
  {
   "cell_type": "code",
   "execution_count": 141,
   "metadata": {},
   "outputs": [
    {
     "data": {
      "text/html": [
       "<div>\n",
       "<style scoped>\n",
       "    .dataframe tbody tr th:only-of-type {\n",
       "        vertical-align: middle;\n",
       "    }\n",
       "\n",
       "    .dataframe tbody tr th {\n",
       "        vertical-align: top;\n",
       "    }\n",
       "\n",
       "    .dataframe thead th {\n",
       "        text-align: right;\n",
       "    }\n",
       "</style>\n",
       "<table border=\"1\" class=\"dataframe\">\n",
       "  <thead>\n",
       "    <tr style=\"text-align: right;\">\n",
       "      <th></th>\n",
       "      <th>RFMlevel</th>\n",
       "      <th>客户ID</th>\n",
       "      <th>实际销售额</th>\n",
       "    </tr>\n",
       "  </thead>\n",
       "  <tbody>\n",
       "    <tr>\n",
       "      <th>0</th>\n",
       "      <td>重要价值用户</td>\n",
       "      <td>0.179747</td>\n",
       "      <td>0.233542</td>\n",
       "    </tr>\n",
       "    <tr>\n",
       "      <th>1</th>\n",
       "      <td>重要价值用户重要保持用户</td>\n",
       "      <td>0.255696</td>\n",
       "      <td>0.324423</td>\n",
       "    </tr>\n",
       "    <tr>\n",
       "      <th>2</th>\n",
       "      <td>重要价值用户重要保持用户重要发展用户</td>\n",
       "      <td>0.410127</td>\n",
       "      <td>0.520187</td>\n",
       "    </tr>\n",
       "    <tr>\n",
       "      <th>3</th>\n",
       "      <td>重要价值用户重要保持用户重要发展用户重要挽留用户</td>\n",
       "      <td>0.500000</td>\n",
       "      <td>0.624221</td>\n",
       "    </tr>\n",
       "    <tr>\n",
       "      <th>4</th>\n",
       "      <td>重要价值用户重要保持用户重要发展用户重要挽留用户一般价值用户</td>\n",
       "      <td>0.591139</td>\n",
       "      <td>0.698795</td>\n",
       "    </tr>\n",
       "    <tr>\n",
       "      <th>5</th>\n",
       "      <td>重要价值用户重要保持用户重要发展用户重要挽留用户一般价值用户一般发展用户</td>\n",
       "      <td>0.741772</td>\n",
       "      <td>0.805547</td>\n",
       "    </tr>\n",
       "    <tr>\n",
       "      <th>6</th>\n",
       "      <td>重要价值用户重要保持用户重要发展用户重要挽留用户一般价值用户一般发展用户一般保持用户</td>\n",
       "      <td>0.805063</td>\n",
       "      <td>0.856792</td>\n",
       "    </tr>\n",
       "    <tr>\n",
       "      <th>7</th>\n",
       "      <td>重要价值用户重要保持用户重要发展用户重要挽留用户一般价值用户一般发展用户一般保持用户一般挽留用户</td>\n",
       "      <td>1.000000</td>\n",
       "      <td>1.000000</td>\n",
       "    </tr>\n",
       "  </tbody>\n",
       "</table>\n",
       "</div>"
      ],
      "text/plain": [
       "                                           RFMlevel      客户ID     实际销售额\n",
       "0                                            重要价值用户  0.179747  0.233542\n",
       "1                                      重要价值用户重要保持用户  0.255696  0.324423\n",
       "2                                重要价值用户重要保持用户重要发展用户  0.410127  0.520187\n",
       "3                          重要价值用户重要保持用户重要发展用户重要挽留用户  0.500000  0.624221\n",
       "4                    重要价值用户重要保持用户重要发展用户重要挽留用户一般价值用户  0.591139  0.698795\n",
       "5              重要价值用户重要保持用户重要发展用户重要挽留用户一般价值用户一般发展用户  0.741772  0.805547\n",
       "6        重要价值用户重要保持用户重要发展用户重要挽留用户一般价值用户一般发展用户一般保持用户  0.805063  0.856792\n",
       "7  重要价值用户重要保持用户重要发展用户重要挽留用户一般价值用户一般发展用户一般保持用户一般挽留用户  1.000000  1.000000"
      ]
     },
     "execution_count": 141,
     "metadata": {},
     "output_type": "execute_result"
    }
   ],
   "source": [
    "df.cumsum()"
   ]
  },
  {
   "cell_type": "markdown",
   "metadata": {},
   "source": [
    "- 基于2017-2019年的数据建立RFM模型进行客户分类，四类重要客户对销售额贡献超60%，人数占比为50%，客户营收结构和数量结构较为良好\n",
    "- 一般挽留客户人数占比接近20%，客户流失存在可能，需引起重视"
   ]
  },
  {
   "cell_type": "code",
   "execution_count": 150,
   "metadata": {},
   "outputs": [
    {
     "data": {
      "text/plain": [
       "datetime.datetime(2017, 1, 1, 0, 0)"
      ]
     },
     "execution_count": 150,
     "metadata": {},
     "output_type": "execute_result"
    }
   ],
   "source": [
    "order_data.订单日期.min()"
   ]
  },
  {
   "cell_type": "code",
   "execution_count": 151,
   "metadata": {},
   "outputs": [],
   "source": [
    "dd=['2017-07-01 00:00:00','2018-01-01 00:00:00','2018-07-01 00:00:00',\n",
    "    '2019-01-01 00:00:00','2019-07-01 00:00:00','2020-01-01 00:00:00','2020-07-01 00:00:00','2020-11-23 00:00:00']"
   ]
  },
  {
   "cell_type": "code",
   "execution_count": 159,
   "metadata": {},
   "outputs": [
    {
     "data": {
      "text/html": [
       "<div>\n",
       "<style scoped>\n",
       "    .dataframe tbody tr th:only-of-type {\n",
       "        vertical-align: middle;\n",
       "    }\n",
       "\n",
       "    .dataframe tbody tr th {\n",
       "        vertical-align: top;\n",
       "    }\n",
       "\n",
       "    .dataframe thead th {\n",
       "        text-align: right;\n",
       "    }\n",
       "</style>\n",
       "<table border=\"1\" class=\"dataframe\">\n",
       "  <thead>\n",
       "    <tr style=\"text-align: right;\">\n",
       "      <th></th>\n",
       "      <th>RFMlevel</th>\n",
       "    </tr>\n",
       "  </thead>\n",
       "  <tbody>\n",
       "    <tr>\n",
       "      <th>0</th>\n",
       "      <td>重要价值用户</td>\n",
       "    </tr>\n",
       "    <tr>\n",
       "      <th>1</th>\n",
       "      <td>重要保持用户</td>\n",
       "    </tr>\n",
       "    <tr>\n",
       "      <th>2</th>\n",
       "      <td>重要发展用户</td>\n",
       "    </tr>\n",
       "    <tr>\n",
       "      <th>3</th>\n",
       "      <td>重要挽留用户</td>\n",
       "    </tr>\n",
       "    <tr>\n",
       "      <th>4</th>\n",
       "      <td>一般价值用户</td>\n",
       "    </tr>\n",
       "    <tr>\n",
       "      <th>5</th>\n",
       "      <td>一般发展用户</td>\n",
       "    </tr>\n",
       "    <tr>\n",
       "      <th>6</th>\n",
       "      <td>一般保持用户</td>\n",
       "    </tr>\n",
       "    <tr>\n",
       "      <th>7</th>\n",
       "      <td>一般挽留用户</td>\n",
       "    </tr>\n",
       "  </tbody>\n",
       "</table>\n",
       "</div>"
      ],
      "text/plain": [
       "  RFMlevel\n",
       "0   重要价值用户\n",
       "1   重要保持用户\n",
       "2   重要发展用户\n",
       "3   重要挽留用户\n",
       "4   一般价值用户\n",
       "5   一般发展用户\n",
       "6   一般保持用户\n",
       "7   一般挽留用户"
      ]
     },
     "execution_count": 159,
     "metadata": {},
     "output_type": "execute_result"
    }
   ],
   "source": [
    "s1.reset_index().iloc[:,0].to_frame()"
   ]
  },
  {
   "cell_type": "code",
   "execution_count": 170,
   "metadata": {},
   "outputs": [],
   "source": [
    "rfm_num=s1.reset_index().iloc[:,1].to_frame()\n",
    "rfm_money=s1.reset_index().iloc[:,1].to_frame()\n",
    "for d in dd:\n",
    "    order_data1=order_data.copy()\n",
    "    order_data1=order_data[(pd.to_datetime(d)-pd.to_datetime(order_data.订单日期)).dt.days>0]\n",
    "    rfm=order_data1.groupby('客户ID').agg({\n",
    "    '订单日期':'max',\n",
    "    '订单ID':'count',\n",
    "    '实际销售额':'sum'\n",
    "    }).reset_index()\n",
    "    rfm['RR']=(pd.to_datetime(d) - pd.to_datetime(rfm.订单日期)).dt.days\n",
    "    R_median=np.median(rfm.RR)\n",
    "    F_median=np.median(rfm.订单ID)\n",
    "    M_median=np.median(rfm.实际销售额)\n",
    "    rfm['R']=np.where(rfm.RR<R_median,'高','低')\n",
    "    rfm['F']=np.where(rfm.订单ID>F_median,'高','低')\n",
    "    rfm['M']=np.where(rfm.实际销售额>M_median,'高','低')\n",
    "    rfm['RFM']=rfm.R+rfm.F+rfm.M\n",
    "    RFM = {'高高高':'重要价值用户','高低高':'重要保持用户','低高高':'重要发展用户','低低高':'重要挽留用户','高高低':'一般价值用户','高低低':'一般发展用户','低高低':'一般保持用户','低低低':'一般挽留用户'}\n",
    "    rfm['RFMlevel'] = [RFM[i] for i in rfm.RFM.tolist()]\n",
    "    s1=rfm.groupby('RFMlevel')['客户ID'].count()/np.sum(rfm.groupby('RFMlevel')['客户ID'].count())\n",
    "    s1=s1.loc[RFM.values()].reset_index()\n",
    "    rfm_num=rfm_num.merge(s1,on='RFMlevel').rename(columns={'客户ID':d[:7]})\n",
    "    s2=rfm.groupby('RFMlevel')['实际销售额'].sum()/np.sum(rfm.groupby('RFMlevel')['实际销售额'].sum())\n",
    "    s2=s2.loc[RFM.values()].reset_index()\n",
    "    rfm_money=rfm_num.merge(s2,on='RFMlevel').rename(columns={'实际销售额':d[:7]})\n",
    "    \n",
    "    "
   ]
  },
  {
   "cell_type": "code",
   "execution_count": 175,
   "metadata": {
    "scrolled": true
   },
   "outputs": [
    {
     "data": {
      "text/html": [
       "<div>\n",
       "<style scoped>\n",
       "    .dataframe tbody tr th:only-of-type {\n",
       "        vertical-align: middle;\n",
       "    }\n",
       "\n",
       "    .dataframe tbody tr th {\n",
       "        vertical-align: top;\n",
       "    }\n",
       "\n",
       "    .dataframe thead th {\n",
       "        text-align: right;\n",
       "    }\n",
       "</style>\n",
       "<table border=\"1\" class=\"dataframe\">\n",
       "  <thead>\n",
       "    <tr style=\"text-align: right;\">\n",
       "      <th></th>\n",
       "      <th>RFMlevel</th>\n",
       "      <th>2017-07</th>\n",
       "      <th>2018-01</th>\n",
       "      <th>2018-07</th>\n",
       "      <th>2019-01</th>\n",
       "      <th>2019-07</th>\n",
       "      <th>2020-01</th>\n",
       "      <th>2020-07</th>\n",
       "      <th>2020-11</th>\n",
       "    </tr>\n",
       "  </thead>\n",
       "  <tbody>\n",
       "    <tr>\n",
       "      <th>0</th>\n",
       "      <td>重要价值用户</td>\n",
       "      <td>0.196429</td>\n",
       "      <td>0.191139</td>\n",
       "      <td>0.177215</td>\n",
       "      <td>0.196203</td>\n",
       "      <td>0.189873</td>\n",
       "      <td>0.179747</td>\n",
       "      <td>0.179747</td>\n",
       "      <td>0.179747</td>\n",
       "    </tr>\n",
       "    <tr>\n",
       "      <th>1</th>\n",
       "      <td>重要保持用户</td>\n",
       "      <td>0.080357</td>\n",
       "      <td>0.069620</td>\n",
       "      <td>0.103797</td>\n",
       "      <td>0.078481</td>\n",
       "      <td>0.078481</td>\n",
       "      <td>0.075949</td>\n",
       "      <td>0.075949</td>\n",
       "      <td>0.075949</td>\n",
       "    </tr>\n",
       "    <tr>\n",
       "      <th>2</th>\n",
       "      <td>重要发展用户</td>\n",
       "      <td>0.116071</td>\n",
       "      <td>0.135443</td>\n",
       "      <td>0.124051</td>\n",
       "      <td>0.126582</td>\n",
       "      <td>0.134177</td>\n",
       "      <td>0.154430</td>\n",
       "      <td>0.154430</td>\n",
       "      <td>0.154430</td>\n",
       "    </tr>\n",
       "    <tr>\n",
       "      <th>3</th>\n",
       "      <td>重要挽留用户</td>\n",
       "      <td>0.107143</td>\n",
       "      <td>0.103797</td>\n",
       "      <td>0.094937</td>\n",
       "      <td>0.098734</td>\n",
       "      <td>0.097468</td>\n",
       "      <td>0.089873</td>\n",
       "      <td>0.089873</td>\n",
       "      <td>0.089873</td>\n",
       "    </tr>\n",
       "    <tr>\n",
       "      <th>4</th>\n",
       "      <td>一般价值用户</td>\n",
       "      <td>0.073980</td>\n",
       "      <td>0.089873</td>\n",
       "      <td>0.053165</td>\n",
       "      <td>0.058228</td>\n",
       "      <td>0.065823</td>\n",
       "      <td>0.091139</td>\n",
       "      <td>0.091139</td>\n",
       "      <td>0.091139</td>\n",
       "    </tr>\n",
       "    <tr>\n",
       "      <th>5</th>\n",
       "      <td>一般发展用户</td>\n",
       "      <td>0.135204</td>\n",
       "      <td>0.145570</td>\n",
       "      <td>0.160759</td>\n",
       "      <td>0.159494</td>\n",
       "      <td>0.159494</td>\n",
       "      <td>0.150633</td>\n",
       "      <td>0.150633</td>\n",
       "      <td>0.150633</td>\n",
       "    </tr>\n",
       "    <tr>\n",
       "      <th>6</th>\n",
       "      <td>一般保持用户</td>\n",
       "      <td>0.054847</td>\n",
       "      <td>0.077215</td>\n",
       "      <td>0.054430</td>\n",
       "      <td>0.069620</td>\n",
       "      <td>0.065823</td>\n",
       "      <td>0.063291</td>\n",
       "      <td>0.063291</td>\n",
       "      <td>0.063291</td>\n",
       "    </tr>\n",
       "    <tr>\n",
       "      <th>7</th>\n",
       "      <td>一般挽留用户</td>\n",
       "      <td>0.235969</td>\n",
       "      <td>0.187342</td>\n",
       "      <td>0.231646</td>\n",
       "      <td>0.212658</td>\n",
       "      <td>0.208861</td>\n",
       "      <td>0.194937</td>\n",
       "      <td>0.194937</td>\n",
       "      <td>0.194937</td>\n",
       "    </tr>\n",
       "  </tbody>\n",
       "</table>\n",
       "</div>"
      ],
      "text/plain": [
       "  RFMlevel   2017-07   2018-01   2018-07   2019-01   2019-07   2020-01  \\\n",
       "0   重要价值用户  0.196429  0.191139  0.177215  0.196203  0.189873  0.179747   \n",
       "1   重要保持用户  0.080357  0.069620  0.103797  0.078481  0.078481  0.075949   \n",
       "2   重要发展用户  0.116071  0.135443  0.124051  0.126582  0.134177  0.154430   \n",
       "3   重要挽留用户  0.107143  0.103797  0.094937  0.098734  0.097468  0.089873   \n",
       "4   一般价值用户  0.073980  0.089873  0.053165  0.058228  0.065823  0.091139   \n",
       "5   一般发展用户  0.135204  0.145570  0.160759  0.159494  0.159494  0.150633   \n",
       "6   一般保持用户  0.054847  0.077215  0.054430  0.069620  0.065823  0.063291   \n",
       "7   一般挽留用户  0.235969  0.187342  0.231646  0.212658  0.208861  0.194937   \n",
       "\n",
       "    2020-07   2020-11  \n",
       "0  0.179747  0.179747  \n",
       "1  0.075949  0.075949  \n",
       "2  0.154430  0.154430  \n",
       "3  0.089873  0.089873  \n",
       "4  0.091139  0.091139  \n",
       "5  0.150633  0.150633  \n",
       "6  0.063291  0.063291  \n",
       "7  0.194937  0.194937  "
      ]
     },
     "execution_count": 175,
     "metadata": {},
     "output_type": "execute_result"
    }
   ],
   "source": [
    "rfm_num"
   ]
  },
  {
   "cell_type": "markdown",
   "metadata": {},
   "source": [
    "- 从时间维度看，重要价值客户，重要保持客户，一般发展用户，一般挽留用户在17-18年比例上升，18-19年数量比例减少\n",
    "- 重要发展用户，一般价值用户在17-18年比例下降，在18-19年比例上升\n",
    "- 重要挽留客户，一般保持用户比例逐渐下降"
   ]
  },
  {
   "cell_type": "code",
   "execution_count": 176,
   "metadata": {},
   "outputs": [
    {
     "data": {
      "text/html": [
       "<div>\n",
       "<style scoped>\n",
       "    .dataframe tbody tr th:only-of-type {\n",
       "        vertical-align: middle;\n",
       "    }\n",
       "\n",
       "    .dataframe tbody tr th {\n",
       "        vertical-align: top;\n",
       "    }\n",
       "\n",
       "    .dataframe thead th {\n",
       "        text-align: right;\n",
       "    }\n",
       "</style>\n",
       "<table border=\"1\" class=\"dataframe\">\n",
       "  <thead>\n",
       "    <tr style=\"text-align: right;\">\n",
       "      <th></th>\n",
       "      <th>RFMlevel</th>\n",
       "      <th>2017-07</th>\n",
       "      <th>2018-01</th>\n",
       "      <th>2018-07</th>\n",
       "      <th>2019-01</th>\n",
       "      <th>2019-07</th>\n",
       "      <th>2020-01</th>\n",
       "      <th>2020-07</th>\n",
       "      <th>2020-11</th>\n",
       "      <th>2020-11</th>\n",
       "    </tr>\n",
       "  </thead>\n",
       "  <tbody>\n",
       "    <tr>\n",
       "      <th>0</th>\n",
       "      <td>重要价值用户</td>\n",
       "      <td>0.196429</td>\n",
       "      <td>0.191139</td>\n",
       "      <td>0.177215</td>\n",
       "      <td>0.196203</td>\n",
       "      <td>0.189873</td>\n",
       "      <td>0.179747</td>\n",
       "      <td>0.179747</td>\n",
       "      <td>0.179747</td>\n",
       "      <td>0.233542</td>\n",
       "    </tr>\n",
       "    <tr>\n",
       "      <th>1</th>\n",
       "      <td>重要保持用户</td>\n",
       "      <td>0.080357</td>\n",
       "      <td>0.069620</td>\n",
       "      <td>0.103797</td>\n",
       "      <td>0.078481</td>\n",
       "      <td>0.078481</td>\n",
       "      <td>0.075949</td>\n",
       "      <td>0.075949</td>\n",
       "      <td>0.075949</td>\n",
       "      <td>0.090881</td>\n",
       "    </tr>\n",
       "    <tr>\n",
       "      <th>2</th>\n",
       "      <td>重要发展用户</td>\n",
       "      <td>0.116071</td>\n",
       "      <td>0.135443</td>\n",
       "      <td>0.124051</td>\n",
       "      <td>0.126582</td>\n",
       "      <td>0.134177</td>\n",
       "      <td>0.154430</td>\n",
       "      <td>0.154430</td>\n",
       "      <td>0.154430</td>\n",
       "      <td>0.195764</td>\n",
       "    </tr>\n",
       "    <tr>\n",
       "      <th>3</th>\n",
       "      <td>重要挽留用户</td>\n",
       "      <td>0.107143</td>\n",
       "      <td>0.103797</td>\n",
       "      <td>0.094937</td>\n",
       "      <td>0.098734</td>\n",
       "      <td>0.097468</td>\n",
       "      <td>0.089873</td>\n",
       "      <td>0.089873</td>\n",
       "      <td>0.089873</td>\n",
       "      <td>0.104034</td>\n",
       "    </tr>\n",
       "    <tr>\n",
       "      <th>4</th>\n",
       "      <td>一般价值用户</td>\n",
       "      <td>0.073980</td>\n",
       "      <td>0.089873</td>\n",
       "      <td>0.053165</td>\n",
       "      <td>0.058228</td>\n",
       "      <td>0.065823</td>\n",
       "      <td>0.091139</td>\n",
       "      <td>0.091139</td>\n",
       "      <td>0.091139</td>\n",
       "      <td>0.074574</td>\n",
       "    </tr>\n",
       "    <tr>\n",
       "      <th>5</th>\n",
       "      <td>一般发展用户</td>\n",
       "      <td>0.135204</td>\n",
       "      <td>0.145570</td>\n",
       "      <td>0.160759</td>\n",
       "      <td>0.159494</td>\n",
       "      <td>0.159494</td>\n",
       "      <td>0.150633</td>\n",
       "      <td>0.150633</td>\n",
       "      <td>0.150633</td>\n",
       "      <td>0.106752</td>\n",
       "    </tr>\n",
       "    <tr>\n",
       "      <th>6</th>\n",
       "      <td>一般保持用户</td>\n",
       "      <td>0.054847</td>\n",
       "      <td>0.077215</td>\n",
       "      <td>0.054430</td>\n",
       "      <td>0.069620</td>\n",
       "      <td>0.065823</td>\n",
       "      <td>0.063291</td>\n",
       "      <td>0.063291</td>\n",
       "      <td>0.063291</td>\n",
       "      <td>0.051245</td>\n",
       "    </tr>\n",
       "    <tr>\n",
       "      <th>7</th>\n",
       "      <td>一般挽留用户</td>\n",
       "      <td>0.235969</td>\n",
       "      <td>0.187342</td>\n",
       "      <td>0.231646</td>\n",
       "      <td>0.212658</td>\n",
       "      <td>0.208861</td>\n",
       "      <td>0.194937</td>\n",
       "      <td>0.194937</td>\n",
       "      <td>0.194937</td>\n",
       "      <td>0.143208</td>\n",
       "    </tr>\n",
       "  </tbody>\n",
       "</table>\n",
       "</div>"
      ],
      "text/plain": [
       "  RFMlevel   2017-07   2018-01   2018-07   2019-01   2019-07   2020-01  \\\n",
       "0   重要价值用户  0.196429  0.191139  0.177215  0.196203  0.189873  0.179747   \n",
       "1   重要保持用户  0.080357  0.069620  0.103797  0.078481  0.078481  0.075949   \n",
       "2   重要发展用户  0.116071  0.135443  0.124051  0.126582  0.134177  0.154430   \n",
       "3   重要挽留用户  0.107143  0.103797  0.094937  0.098734  0.097468  0.089873   \n",
       "4   一般价值用户  0.073980  0.089873  0.053165  0.058228  0.065823  0.091139   \n",
       "5   一般发展用户  0.135204  0.145570  0.160759  0.159494  0.159494  0.150633   \n",
       "6   一般保持用户  0.054847  0.077215  0.054430  0.069620  0.065823  0.063291   \n",
       "7   一般挽留用户  0.235969  0.187342  0.231646  0.212658  0.208861  0.194937   \n",
       "\n",
       "    2020-07   2020-11   2020-11  \n",
       "0  0.179747  0.179747  0.233542  \n",
       "1  0.075949  0.075949  0.090881  \n",
       "2  0.154430  0.154430  0.195764  \n",
       "3  0.089873  0.089873  0.104034  \n",
       "4  0.091139  0.091139  0.074574  \n",
       "5  0.150633  0.150633  0.106752  \n",
       "6  0.063291  0.063291  0.051245  \n",
       "7  0.194937  0.194937  0.143208  "
      ]
     },
     "execution_count": 176,
     "metadata": {},
     "output_type": "execute_result"
    }
   ],
   "source": [
    "rfm_money"
   ]
  },
  {
   "cell_type": "markdown",
   "metadata": {},
   "source": [
    "## 3.查找羊毛党用户"
   ]
  },
  {
   "cell_type": "code",
   "execution_count": null,
   "metadata": {},
   "outputs": [],
   "source": []
  }
 ],
 "metadata": {
  "kernelspec": {
   "display_name": "Python 3",
   "language": "python",
   "name": "python3"
  },
  "language_info": {
   "codemirror_mode": {
    "name": "ipython",
    "version": 3
   },
   "file_extension": ".py",
   "mimetype": "text/x-python",
   "name": "python",
   "nbconvert_exporter": "python",
   "pygments_lexer": "ipython3",
   "version": "3.7.8"
  }
 },
 "nbformat": 4,
 "nbformat_minor": 4
}
