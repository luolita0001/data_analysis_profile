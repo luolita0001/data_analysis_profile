{
 "cells": [
  {
   "cell_type": "code",
   "execution_count": 2,
   "metadata": {},
   "outputs": [],
   "source": [
    "import pandas as pd\n",
    "import numpy as np\n",
    "import matplotlib.pyplot as plt"
   ]
  },
  {
   "cell_type": "code",
   "execution_count": 3,
   "metadata": {},
   "outputs": [],
   "source": [
    "df=pd.read_excel('/Users/tisitao/Downloads/CUMCM2020Probelms/C/附件1：123家有信贷记录企业的相关数据.xlsx',\n",
    "sheet_name='进项发票信息')"
   ]
  },
  {
   "cell_type": "code",
   "execution_count": 4,
   "metadata": {},
   "outputs": [],
   "source": [
    "company_info=pd.read_excel('/Users/tisitao/Downloads/CUMCM2020Probelms/C/附件1：123家有信贷记录企业的相关数据.xlsx',\n",
    "sheet_name='企业信息')\n",
    "\n",
    "sale_info=pd.read_excel('/Users/tisitao/Downloads/CUMCM2020Probelms/C/附件1：123家有信贷记录企业的相关数据.xlsx',\n",
    "sheet_name='销项发票信息')"
   ]
  },
  {
   "cell_type": "code",
   "execution_count": 5,
   "metadata": {},
   "outputs": [
    {
     "data": {
      "text/html": [
       "<div>\n",
       "<style scoped>\n",
       "    .dataframe tbody tr th:only-of-type {\n",
       "        vertical-align: middle;\n",
       "    }\n",
       "\n",
       "    .dataframe tbody tr th {\n",
       "        vertical-align: top;\n",
       "    }\n",
       "\n",
       "    .dataframe thead th {\n",
       "        text-align: right;\n",
       "    }\n",
       "</style>\n",
       "<table border=\"1\" class=\"dataframe\">\n",
       "  <thead>\n",
       "    <tr style=\"text-align: right;\">\n",
       "      <th></th>\n",
       "      <th>企业代号</th>\n",
       "      <th>发票号码</th>\n",
       "      <th>开票日期</th>\n",
       "      <th>销方单位代号</th>\n",
       "      <th>金额</th>\n",
       "      <th>税额</th>\n",
       "      <th>价税合计</th>\n",
       "      <th>发票状态</th>\n",
       "    </tr>\n",
       "  </thead>\n",
       "  <tbody>\n",
       "    <tr>\n",
       "      <th>0</th>\n",
       "      <td>E1</td>\n",
       "      <td>3390939</td>\n",
       "      <td>2017-07-18</td>\n",
       "      <td>A00297</td>\n",
       "      <td>-943.40</td>\n",
       "      <td>-56.60</td>\n",
       "      <td>-1000.00</td>\n",
       "      <td>有效发票</td>\n",
       "    </tr>\n",
       "    <tr>\n",
       "      <th>1</th>\n",
       "      <td>E1</td>\n",
       "      <td>3390940</td>\n",
       "      <td>2017-07-18</td>\n",
       "      <td>A00297</td>\n",
       "      <td>-4780.24</td>\n",
       "      <td>-286.81</td>\n",
       "      <td>-5067.05</td>\n",
       "      <td>有效发票</td>\n",
       "    </tr>\n",
       "    <tr>\n",
       "      <th>2</th>\n",
       "      <td>E1</td>\n",
       "      <td>3390941</td>\n",
       "      <td>2017-07-18</td>\n",
       "      <td>A00297</td>\n",
       "      <td>943.40</td>\n",
       "      <td>56.60</td>\n",
       "      <td>1000.00</td>\n",
       "      <td>有效发票</td>\n",
       "    </tr>\n",
       "    <tr>\n",
       "      <th>3</th>\n",
       "      <td>E1</td>\n",
       "      <td>3390942</td>\n",
       "      <td>2017-07-18</td>\n",
       "      <td>A00297</td>\n",
       "      <td>4780.24</td>\n",
       "      <td>286.81</td>\n",
       "      <td>5067.05</td>\n",
       "      <td>有效发票</td>\n",
       "    </tr>\n",
       "    <tr>\n",
       "      <th>4</th>\n",
       "      <td>E1</td>\n",
       "      <td>9902669</td>\n",
       "      <td>2017-08-07</td>\n",
       "      <td>A05061</td>\n",
       "      <td>326.21</td>\n",
       "      <td>9.79</td>\n",
       "      <td>336.00</td>\n",
       "      <td>有效发票</td>\n",
       "    </tr>\n",
       "  </tbody>\n",
       "</table>\n",
       "</div>"
      ],
      "text/plain": [
       "  企业代号     发票号码       开票日期  销方单位代号       金额      税额     价税合计  发票状态\n",
       "0   E1  3390939 2017-07-18  A00297  -943.40  -56.60 -1000.00  有效发票\n",
       "1   E1  3390940 2017-07-18  A00297 -4780.24 -286.81 -5067.05  有效发票\n",
       "2   E1  3390941 2017-07-18  A00297   943.40   56.60  1000.00  有效发票\n",
       "3   E1  3390942 2017-07-18  A00297  4780.24  286.81  5067.05  有效发票\n",
       "4   E1  9902669 2017-08-07  A05061   326.21    9.79   336.00  有效发票"
      ]
     },
     "execution_count": 5,
     "metadata": {},
     "output_type": "execute_result"
    }
   ],
   "source": [
    "df.head()"
   ]
  },
  {
   "cell_type": "code",
   "execution_count": 4,
   "metadata": {
    "scrolled": true
   },
   "outputs": [
    {
     "data": {
      "text/html": [
       "<div>\n",
       "<style scoped>\n",
       "    .dataframe tbody tr th:only-of-type {\n",
       "        vertical-align: middle;\n",
       "    }\n",
       "\n",
       "    .dataframe tbody tr th {\n",
       "        vertical-align: top;\n",
       "    }\n",
       "\n",
       "    .dataframe thead th {\n",
       "        text-align: right;\n",
       "    }\n",
       "</style>\n",
       "<table border=\"1\" class=\"dataframe\">\n",
       "  <thead>\n",
       "    <tr style=\"text-align: right;\">\n",
       "      <th></th>\n",
       "      <th>企业代号</th>\n",
       "      <th>企业名称</th>\n",
       "      <th>信誉评级</th>\n",
       "      <th>是否违约</th>\n",
       "    </tr>\n",
       "  </thead>\n",
       "  <tbody>\n",
       "    <tr>\n",
       "      <th>0</th>\n",
       "      <td>E1</td>\n",
       "      <td>***电器销售有限公司</td>\n",
       "      <td>A</td>\n",
       "      <td>否</td>\n",
       "    </tr>\n",
       "    <tr>\n",
       "      <th>1</th>\n",
       "      <td>E2</td>\n",
       "      <td>***技术有限责任公司</td>\n",
       "      <td>A</td>\n",
       "      <td>否</td>\n",
       "    </tr>\n",
       "    <tr>\n",
       "      <th>2</th>\n",
       "      <td>E3</td>\n",
       "      <td>***电子(中国)有限公司***分公司</td>\n",
       "      <td>C</td>\n",
       "      <td>否</td>\n",
       "    </tr>\n",
       "    <tr>\n",
       "      <th>3</th>\n",
       "      <td>E4</td>\n",
       "      <td>***发展有限责任公司</td>\n",
       "      <td>C</td>\n",
       "      <td>否</td>\n",
       "    </tr>\n",
       "    <tr>\n",
       "      <th>4</th>\n",
       "      <td>E5</td>\n",
       "      <td>***供应链管理有限公司</td>\n",
       "      <td>B</td>\n",
       "      <td>否</td>\n",
       "    </tr>\n",
       "  </tbody>\n",
       "</table>\n",
       "</div>"
      ],
      "text/plain": [
       "  企业代号                 企业名称 信誉评级 是否违约\n",
       "0   E1          ***电器销售有限公司    A    否\n",
       "1   E2          ***技术有限责任公司    A    否\n",
       "2   E3  ***电子(中国)有限公司***分公司    C    否\n",
       "3   E4          ***发展有限责任公司    C    否\n",
       "4   E5         ***供应链管理有限公司    B    否"
      ]
     },
     "execution_count": 4,
     "metadata": {},
     "output_type": "execute_result"
    }
   ],
   "source": [
    "company_info.head()"
   ]
  },
  {
   "cell_type": "code",
   "execution_count": 5,
   "metadata": {},
   "outputs": [
    {
     "data": {
      "text/html": [
       "<div>\n",
       "<style scoped>\n",
       "    .dataframe tbody tr th:only-of-type {\n",
       "        vertical-align: middle;\n",
       "    }\n",
       "\n",
       "    .dataframe tbody tr th {\n",
       "        vertical-align: top;\n",
       "    }\n",
       "\n",
       "    .dataframe thead th {\n",
       "        text-align: right;\n",
       "    }\n",
       "</style>\n",
       "<table border=\"1\" class=\"dataframe\">\n",
       "  <thead>\n",
       "    <tr style=\"text-align: right;\">\n",
       "      <th></th>\n",
       "      <th>企业代号</th>\n",
       "      <th>发票号码</th>\n",
       "      <th>开票日期</th>\n",
       "      <th>购方单位代号</th>\n",
       "      <th>金额</th>\n",
       "      <th>税额</th>\n",
       "      <th>价税合计</th>\n",
       "      <th>发票状态</th>\n",
       "    </tr>\n",
       "  </thead>\n",
       "  <tbody>\n",
       "    <tr>\n",
       "      <th>0</th>\n",
       "      <td>E1</td>\n",
       "      <td>11459356</td>\n",
       "      <td>2017-08-04</td>\n",
       "      <td>B03711</td>\n",
       "      <td>9401.71</td>\n",
       "      <td>1598.29</td>\n",
       "      <td>11000.0</td>\n",
       "      <td>有效发票</td>\n",
       "    </tr>\n",
       "    <tr>\n",
       "      <th>1</th>\n",
       "      <td>E1</td>\n",
       "      <td>5076239</td>\n",
       "      <td>2017-08-09</td>\n",
       "      <td>B00844</td>\n",
       "      <td>8170.94</td>\n",
       "      <td>1389.06</td>\n",
       "      <td>9560.0</td>\n",
       "      <td>有效发票</td>\n",
       "    </tr>\n",
       "    <tr>\n",
       "      <th>2</th>\n",
       "      <td>E1</td>\n",
       "      <td>5076240</td>\n",
       "      <td>2017-08-09</td>\n",
       "      <td>B00844</td>\n",
       "      <td>8170.94</td>\n",
       "      <td>1389.06</td>\n",
       "      <td>9560.0</td>\n",
       "      <td>有效发票</td>\n",
       "    </tr>\n",
       "    <tr>\n",
       "      <th>3</th>\n",
       "      <td>E1</td>\n",
       "      <td>5076241</td>\n",
       "      <td>2017-08-09</td>\n",
       "      <td>B00844</td>\n",
       "      <td>4085.47</td>\n",
       "      <td>694.53</td>\n",
       "      <td>4780.0</td>\n",
       "      <td>有效发票</td>\n",
       "    </tr>\n",
       "    <tr>\n",
       "      <th>4</th>\n",
       "      <td>E1</td>\n",
       "      <td>5076242</td>\n",
       "      <td>2017-08-09</td>\n",
       "      <td>B00844</td>\n",
       "      <td>4085.47</td>\n",
       "      <td>694.53</td>\n",
       "      <td>4780.0</td>\n",
       "      <td>有效发票</td>\n",
       "    </tr>\n",
       "  </tbody>\n",
       "</table>\n",
       "</div>"
      ],
      "text/plain": [
       "  企业代号      发票号码       开票日期  购方单位代号       金额       税额     价税合计  发票状态\n",
       "0   E1  11459356 2017-08-04  B03711  9401.71  1598.29  11000.0  有效发票\n",
       "1   E1   5076239 2017-08-09  B00844  8170.94  1389.06   9560.0  有效发票\n",
       "2   E1   5076240 2017-08-09  B00844  8170.94  1389.06   9560.0  有效发票\n",
       "3   E1   5076241 2017-08-09  B00844  4085.47   694.53   4780.0  有效发票\n",
       "4   E1   5076242 2017-08-09  B00844  4085.47   694.53   4780.0  有效发票"
      ]
     },
     "execution_count": 5,
     "metadata": {},
     "output_type": "execute_result"
    }
   ],
   "source": [
    "sale_info.head()"
   ]
  },
  {
   "cell_type": "code",
   "execution_count": 8,
   "metadata": {},
   "outputs": [],
   "source": [
    "df=df[df['发票状态']=='有效发票']"
   ]
  },
  {
   "cell_type": "code",
   "execution_count": 10,
   "metadata": {},
   "outputs": [],
   "source": [
    "df['quater']=df['开票日期'].dt.to_period('Q')"
   ]
  },
  {
   "cell_type": "code",
   "execution_count": 124,
   "metadata": {},
   "outputs": [],
   "source": [
    "df['进项负发票个数']=df['价税合计'].apply(lambda x:1 if x<0 else 0)"
   ]
  },
  {
   "cell_type": "code",
   "execution_count": 125,
   "metadata": {},
   "outputs": [
    {
     "data": {
      "text/html": [
       "<div>\n",
       "<style scoped>\n",
       "    .dataframe tbody tr th:only-of-type {\n",
       "        vertical-align: middle;\n",
       "    }\n",
       "\n",
       "    .dataframe tbody tr th {\n",
       "        vertical-align: top;\n",
       "    }\n",
       "\n",
       "    .dataframe thead th {\n",
       "        text-align: right;\n",
       "    }\n",
       "</style>\n",
       "<table border=\"1\" class=\"dataframe\">\n",
       "  <thead>\n",
       "    <tr style=\"text-align: right;\">\n",
       "      <th></th>\n",
       "      <th>企业代号</th>\n",
       "      <th>发票号码</th>\n",
       "      <th>开票日期</th>\n",
       "      <th>销方单位代号</th>\n",
       "      <th>金额</th>\n",
       "      <th>税额</th>\n",
       "      <th>价税合计</th>\n",
       "      <th>发票状态</th>\n",
       "      <th>quater</th>\n",
       "      <th>进项负发票个数</th>\n",
       "    </tr>\n",
       "  </thead>\n",
       "  <tbody>\n",
       "    <tr>\n",
       "      <th>0</th>\n",
       "      <td>E1</td>\n",
       "      <td>3390939</td>\n",
       "      <td>2017-07-18</td>\n",
       "      <td>A00297</td>\n",
       "      <td>-943.40</td>\n",
       "      <td>-56.60</td>\n",
       "      <td>-1000.00</td>\n",
       "      <td>有效发票</td>\n",
       "      <td>2017Q3</td>\n",
       "      <td>1</td>\n",
       "    </tr>\n",
       "    <tr>\n",
       "      <th>1</th>\n",
       "      <td>E1</td>\n",
       "      <td>3390940</td>\n",
       "      <td>2017-07-18</td>\n",
       "      <td>A00297</td>\n",
       "      <td>-4780.24</td>\n",
       "      <td>-286.81</td>\n",
       "      <td>-5067.05</td>\n",
       "      <td>有效发票</td>\n",
       "      <td>2017Q3</td>\n",
       "      <td>1</td>\n",
       "    </tr>\n",
       "    <tr>\n",
       "      <th>2</th>\n",
       "      <td>E1</td>\n",
       "      <td>3390941</td>\n",
       "      <td>2017-07-18</td>\n",
       "      <td>A00297</td>\n",
       "      <td>943.40</td>\n",
       "      <td>56.60</td>\n",
       "      <td>1000.00</td>\n",
       "      <td>有效发票</td>\n",
       "      <td>2017Q3</td>\n",
       "      <td>0</td>\n",
       "    </tr>\n",
       "    <tr>\n",
       "      <th>3</th>\n",
       "      <td>E1</td>\n",
       "      <td>3390942</td>\n",
       "      <td>2017-07-18</td>\n",
       "      <td>A00297</td>\n",
       "      <td>4780.24</td>\n",
       "      <td>286.81</td>\n",
       "      <td>5067.05</td>\n",
       "      <td>有效发票</td>\n",
       "      <td>2017Q3</td>\n",
       "      <td>0</td>\n",
       "    </tr>\n",
       "    <tr>\n",
       "      <th>4</th>\n",
       "      <td>E1</td>\n",
       "      <td>9902669</td>\n",
       "      <td>2017-08-07</td>\n",
       "      <td>A05061</td>\n",
       "      <td>326.21</td>\n",
       "      <td>9.79</td>\n",
       "      <td>336.00</td>\n",
       "      <td>有效发票</td>\n",
       "      <td>2017Q3</td>\n",
       "      <td>0</td>\n",
       "    </tr>\n",
       "    <tr>\n",
       "      <th>...</th>\n",
       "      <td>...</td>\n",
       "      <td>...</td>\n",
       "      <td>...</td>\n",
       "      <td>...</td>\n",
       "      <td>...</td>\n",
       "      <td>...</td>\n",
       "      <td>...</td>\n",
       "      <td>...</td>\n",
       "      <td>...</td>\n",
       "      <td>...</td>\n",
       "    </tr>\n",
       "    <tr>\n",
       "      <th>210942</th>\n",
       "      <td>E122</td>\n",
       "      <td>54706234</td>\n",
       "      <td>2019-04-17</td>\n",
       "      <td>A08967</td>\n",
       "      <td>223.30</td>\n",
       "      <td>6.70</td>\n",
       "      <td>230.00</td>\n",
       "      <td>有效发票</td>\n",
       "      <td>2019Q2</td>\n",
       "      <td>0</td>\n",
       "    </tr>\n",
       "    <tr>\n",
       "      <th>210943</th>\n",
       "      <td>E122</td>\n",
       "      <td>55721344</td>\n",
       "      <td>2020-01-10</td>\n",
       "      <td>A09184</td>\n",
       "      <td>264.15</td>\n",
       "      <td>15.85</td>\n",
       "      <td>280.00</td>\n",
       "      <td>有效发票</td>\n",
       "      <td>2020Q1</td>\n",
       "      <td>0</td>\n",
       "    </tr>\n",
       "    <tr>\n",
       "      <th>210944</th>\n",
       "      <td>E123</td>\n",
       "      <td>38493295</td>\n",
       "      <td>2017-12-15</td>\n",
       "      <td>A03624</td>\n",
       "      <td>264.15</td>\n",
       "      <td>15.85</td>\n",
       "      <td>280.00</td>\n",
       "      <td>有效发票</td>\n",
       "      <td>2017Q4</td>\n",
       "      <td>0</td>\n",
       "    </tr>\n",
       "    <tr>\n",
       "      <th>210945</th>\n",
       "      <td>E123</td>\n",
       "      <td>95472001</td>\n",
       "      <td>2018-12-29</td>\n",
       "      <td>A03626</td>\n",
       "      <td>264.15</td>\n",
       "      <td>15.85</td>\n",
       "      <td>280.00</td>\n",
       "      <td>有效发票</td>\n",
       "      <td>2018Q4</td>\n",
       "      <td>0</td>\n",
       "    </tr>\n",
       "    <tr>\n",
       "      <th>210946</th>\n",
       "      <td>E123</td>\n",
       "      <td>54469883</td>\n",
       "      <td>2019-12-18</td>\n",
       "      <td>A03626</td>\n",
       "      <td>264.15</td>\n",
       "      <td>15.85</td>\n",
       "      <td>280.00</td>\n",
       "      <td>有效发票</td>\n",
       "      <td>2019Q4</td>\n",
       "      <td>0</td>\n",
       "    </tr>\n",
       "  </tbody>\n",
       "</table>\n",
       "<p>203339 rows × 10 columns</p>\n",
       "</div>"
      ],
      "text/plain": [
       "        企业代号      发票号码       开票日期  销方单位代号       金额      税额     价税合计  发票状态  \\\n",
       "0         E1   3390939 2017-07-18  A00297  -943.40  -56.60 -1000.00  有效发票   \n",
       "1         E1   3390940 2017-07-18  A00297 -4780.24 -286.81 -5067.05  有效发票   \n",
       "2         E1   3390941 2017-07-18  A00297   943.40   56.60  1000.00  有效发票   \n",
       "3         E1   3390942 2017-07-18  A00297  4780.24  286.81  5067.05  有效发票   \n",
       "4         E1   9902669 2017-08-07  A05061   326.21    9.79   336.00  有效发票   \n",
       "...      ...       ...        ...     ...      ...     ...      ...   ...   \n",
       "210942  E122  54706234 2019-04-17  A08967   223.30    6.70   230.00  有效发票   \n",
       "210943  E122  55721344 2020-01-10  A09184   264.15   15.85   280.00  有效发票   \n",
       "210944  E123  38493295 2017-12-15  A03624   264.15   15.85   280.00  有效发票   \n",
       "210945  E123  95472001 2018-12-29  A03626   264.15   15.85   280.00  有效发票   \n",
       "210946  E123  54469883 2019-12-18  A03626   264.15   15.85   280.00  有效发票   \n",
       "\n",
       "        quater  进项负发票个数  \n",
       "0       2017Q3        1  \n",
       "1       2017Q3        1  \n",
       "2       2017Q3        0  \n",
       "3       2017Q3        0  \n",
       "4       2017Q3        0  \n",
       "...        ...      ...  \n",
       "210942  2019Q2        0  \n",
       "210943  2020Q1        0  \n",
       "210944  2017Q4        0  \n",
       "210945  2018Q4        0  \n",
       "210946  2019Q4        0  \n",
       "\n",
       "[203339 rows x 10 columns]"
      ]
     },
     "execution_count": 125,
     "metadata": {},
     "output_type": "execute_result"
    }
   ],
   "source": [
    "df"
   ]
  },
  {
   "cell_type": "code",
   "execution_count": 133,
   "metadata": {},
   "outputs": [],
   "source": [
    "df_quater=df.groupby(['企业代号','quater']).aggregate({\n",
    "    '价税合计':'sum',\n",
    "    '发票号码':'count',\n",
    "    '进项负发票个数':'sum'\n",
    "})"
   ]
  },
  {
   "cell_type": "code",
   "execution_count": 134,
   "metadata": {},
   "outputs": [],
   "source": [
    "df_quater=df_quater.reset_index(level=[0,1])"
   ]
  },
  {
   "cell_type": "code",
   "execution_count": 135,
   "metadata": {},
   "outputs": [],
   "source": [
    "df_quater.rename(columns={'价税合计':'进项合计','发票号码':'订单个数'},inplace=True)"
   ]
  },
  {
   "cell_type": "code",
   "execution_count": 136,
   "metadata": {},
   "outputs": [],
   "source": [
    "df1=df.copy()"
   ]
  },
  {
   "cell_type": "code",
   "execution_count": 137,
   "metadata": {},
   "outputs": [],
   "source": [
    "df1_quater=df1.drop_duplicates(subset=['企业代号','销方单位代号','quater'])\n",
    "xiao_num=df1_quater.groupby(['企业代号','quater'])['销方单位代号'].count().values.tolist()"
   ]
  },
  {
   "cell_type": "code",
   "execution_count": 138,
   "metadata": {},
   "outputs": [],
   "source": [
    "df_quater['供货商个数']=xiao_num"
   ]
  },
  {
   "cell_type": "code",
   "execution_count": 139,
   "metadata": {},
   "outputs": [
    {
     "data": {
      "text/html": [
       "<div>\n",
       "<style scoped>\n",
       "    .dataframe tbody tr th:only-of-type {\n",
       "        vertical-align: middle;\n",
       "    }\n",
       "\n",
       "    .dataframe tbody tr th {\n",
       "        vertical-align: top;\n",
       "    }\n",
       "\n",
       "    .dataframe thead th {\n",
       "        text-align: right;\n",
       "    }\n",
       "</style>\n",
       "<table border=\"1\" class=\"dataframe\">\n",
       "  <thead>\n",
       "    <tr style=\"text-align: right;\">\n",
       "      <th></th>\n",
       "      <th>企业代号</th>\n",
       "      <th>quater</th>\n",
       "      <th>进项合计</th>\n",
       "      <th>订单个数</th>\n",
       "      <th>进项负发票个数</th>\n",
       "      <th>供货商个数</th>\n",
       "    </tr>\n",
       "  </thead>\n",
       "  <tbody>\n",
       "    <tr>\n",
       "      <th>0</th>\n",
       "      <td>E1</td>\n",
       "      <td>2017Q3</td>\n",
       "      <td>5.756247e+08</td>\n",
       "      <td>158</td>\n",
       "      <td>14</td>\n",
       "      <td>51</td>\n",
       "    </tr>\n",
       "    <tr>\n",
       "      <th>1</th>\n",
       "      <td>E1</td>\n",
       "      <td>2017Q4</td>\n",
       "      <td>6.953608e+08</td>\n",
       "      <td>233</td>\n",
       "      <td>15</td>\n",
       "      <td>80</td>\n",
       "    </tr>\n",
       "    <tr>\n",
       "      <th>2</th>\n",
       "      <td>E1</td>\n",
       "      <td>2018Q1</td>\n",
       "      <td>6.126124e+08</td>\n",
       "      <td>215</td>\n",
       "      <td>9</td>\n",
       "      <td>63</td>\n",
       "    </tr>\n",
       "    <tr>\n",
       "      <th>3</th>\n",
       "      <td>E1</td>\n",
       "      <td>2018Q2</td>\n",
       "      <td>9.729339e+08</td>\n",
       "      <td>360</td>\n",
       "      <td>1</td>\n",
       "      <td>79</td>\n",
       "    </tr>\n",
       "    <tr>\n",
       "      <th>4</th>\n",
       "      <td>E1</td>\n",
       "      <td>2018Q3</td>\n",
       "      <td>5.680497e+08</td>\n",
       "      <td>386</td>\n",
       "      <td>5</td>\n",
       "      <td>109</td>\n",
       "    </tr>\n",
       "    <tr>\n",
       "      <th>...</th>\n",
       "      <td>...</td>\n",
       "      <td>...</td>\n",
       "      <td>...</td>\n",
       "      <td>...</td>\n",
       "      <td>...</td>\n",
       "      <td>...</td>\n",
       "    </tr>\n",
       "    <tr>\n",
       "      <th>1305</th>\n",
       "      <td>E99</td>\n",
       "      <td>2018Q4</td>\n",
       "      <td>2.779955e+06</td>\n",
       "      <td>164</td>\n",
       "      <td>0</td>\n",
       "      <td>16</td>\n",
       "    </tr>\n",
       "    <tr>\n",
       "      <th>1306</th>\n",
       "      <td>E99</td>\n",
       "      <td>2019Q1</td>\n",
       "      <td>1.678337e+05</td>\n",
       "      <td>119</td>\n",
       "      <td>0</td>\n",
       "      <td>19</td>\n",
       "    </tr>\n",
       "    <tr>\n",
       "      <th>1307</th>\n",
       "      <td>E99</td>\n",
       "      <td>2019Q2</td>\n",
       "      <td>8.384794e+05</td>\n",
       "      <td>190</td>\n",
       "      <td>8</td>\n",
       "      <td>21</td>\n",
       "    </tr>\n",
       "    <tr>\n",
       "      <th>1308</th>\n",
       "      <td>E99</td>\n",
       "      <td>2019Q3</td>\n",
       "      <td>1.736557e+05</td>\n",
       "      <td>129</td>\n",
       "      <td>0</td>\n",
       "      <td>7</td>\n",
       "    </tr>\n",
       "    <tr>\n",
       "      <th>1309</th>\n",
       "      <td>E99</td>\n",
       "      <td>2019Q4</td>\n",
       "      <td>4.856222e+04</td>\n",
       "      <td>98</td>\n",
       "      <td>2</td>\n",
       "      <td>19</td>\n",
       "    </tr>\n",
       "  </tbody>\n",
       "</table>\n",
       "<p>1310 rows × 6 columns</p>\n",
       "</div>"
      ],
      "text/plain": [
       "     企业代号  quater          进项合计  订单个数  进项负发票个数  供货商个数\n",
       "0      E1  2017Q3  5.756247e+08   158       14     51\n",
       "1      E1  2017Q4  6.953608e+08   233       15     80\n",
       "2      E1  2018Q1  6.126124e+08   215        9     63\n",
       "3      E1  2018Q2  9.729339e+08   360        1     79\n",
       "4      E1  2018Q3  5.680497e+08   386        5    109\n",
       "...   ...     ...           ...   ...      ...    ...\n",
       "1305  E99  2018Q4  2.779955e+06   164        0     16\n",
       "1306  E99  2019Q1  1.678337e+05   119        0     19\n",
       "1307  E99  2019Q2  8.384794e+05   190        8     21\n",
       "1308  E99  2019Q3  1.736557e+05   129        0      7\n",
       "1309  E99  2019Q4  4.856222e+04    98        2     19\n",
       "\n",
       "[1310 rows x 6 columns]"
      ]
     },
     "execution_count": 139,
     "metadata": {},
     "output_type": "execute_result"
    }
   ],
   "source": [
    "df_quater"
   ]
  },
  {
   "cell_type": "code",
   "execution_count": 19,
   "metadata": {},
   "outputs": [],
   "source": [
    "sale_info=sale_info[sale_info['发票状态']=='有效发票']"
   ]
  },
  {
   "cell_type": "code",
   "execution_count": 20,
   "metadata": {},
   "outputs": [],
   "source": [
    "sale_info['quater']=sale_info['开票日期'].dt.to_period('Q')"
   ]
  },
  {
   "cell_type": "code",
   "execution_count": 140,
   "metadata": {},
   "outputs": [
    {
     "data": {
      "text/html": [
       "<div>\n",
       "<style scoped>\n",
       "    .dataframe tbody tr th:only-of-type {\n",
       "        vertical-align: middle;\n",
       "    }\n",
       "\n",
       "    .dataframe tbody tr th {\n",
       "        vertical-align: top;\n",
       "    }\n",
       "\n",
       "    .dataframe thead th {\n",
       "        text-align: right;\n",
       "    }\n",
       "</style>\n",
       "<table border=\"1\" class=\"dataframe\">\n",
       "  <thead>\n",
       "    <tr style=\"text-align: right;\">\n",
       "      <th></th>\n",
       "      <th>企业代号</th>\n",
       "      <th>发票号码</th>\n",
       "      <th>开票日期</th>\n",
       "      <th>购方单位代号</th>\n",
       "      <th>金额</th>\n",
       "      <th>税额</th>\n",
       "      <th>价税合计</th>\n",
       "      <th>发票状态</th>\n",
       "      <th>quater</th>\n",
       "    </tr>\n",
       "  </thead>\n",
       "  <tbody>\n",
       "    <tr>\n",
       "      <th>0</th>\n",
       "      <td>E1</td>\n",
       "      <td>11459356</td>\n",
       "      <td>2017-08-04</td>\n",
       "      <td>B03711</td>\n",
       "      <td>9401.71</td>\n",
       "      <td>1598.29</td>\n",
       "      <td>11000.0</td>\n",
       "      <td>有效发票</td>\n",
       "      <td>2017Q3</td>\n",
       "    </tr>\n",
       "    <tr>\n",
       "      <th>1</th>\n",
       "      <td>E1</td>\n",
       "      <td>5076239</td>\n",
       "      <td>2017-08-09</td>\n",
       "      <td>B00844</td>\n",
       "      <td>8170.94</td>\n",
       "      <td>1389.06</td>\n",
       "      <td>9560.0</td>\n",
       "      <td>有效发票</td>\n",
       "      <td>2017Q3</td>\n",
       "    </tr>\n",
       "    <tr>\n",
       "      <th>2</th>\n",
       "      <td>E1</td>\n",
       "      <td>5076240</td>\n",
       "      <td>2017-08-09</td>\n",
       "      <td>B00844</td>\n",
       "      <td>8170.94</td>\n",
       "      <td>1389.06</td>\n",
       "      <td>9560.0</td>\n",
       "      <td>有效发票</td>\n",
       "      <td>2017Q3</td>\n",
       "    </tr>\n",
       "    <tr>\n",
       "      <th>3</th>\n",
       "      <td>E1</td>\n",
       "      <td>5076241</td>\n",
       "      <td>2017-08-09</td>\n",
       "      <td>B00844</td>\n",
       "      <td>4085.47</td>\n",
       "      <td>694.53</td>\n",
       "      <td>4780.0</td>\n",
       "      <td>有效发票</td>\n",
       "      <td>2017Q3</td>\n",
       "    </tr>\n",
       "    <tr>\n",
       "      <th>4</th>\n",
       "      <td>E1</td>\n",
       "      <td>5076242</td>\n",
       "      <td>2017-08-09</td>\n",
       "      <td>B00844</td>\n",
       "      <td>4085.47</td>\n",
       "      <td>694.53</td>\n",
       "      <td>4780.0</td>\n",
       "      <td>有效发票</td>\n",
       "      <td>2017Q3</td>\n",
       "    </tr>\n",
       "    <tr>\n",
       "      <th>...</th>\n",
       "      <td>...</td>\n",
       "      <td>...</td>\n",
       "      <td>...</td>\n",
       "      <td>...</td>\n",
       "      <td>...</td>\n",
       "      <td>...</td>\n",
       "      <td>...</td>\n",
       "      <td>...</td>\n",
       "      <td>...</td>\n",
       "    </tr>\n",
       "    <tr>\n",
       "      <th>162479</th>\n",
       "      <td>E123</td>\n",
       "      <td>8887701</td>\n",
       "      <td>2019-12-17</td>\n",
       "      <td>B10944</td>\n",
       "      <td>4827.67</td>\n",
       "      <td>144.83</td>\n",
       "      <td>4972.5</td>\n",
       "      <td>有效发票</td>\n",
       "      <td>2019Q4</td>\n",
       "    </tr>\n",
       "    <tr>\n",
       "      <th>162480</th>\n",
       "      <td>E123</td>\n",
       "      <td>8887702</td>\n",
       "      <td>2019-12-17</td>\n",
       "      <td>B10944</td>\n",
       "      <td>7412.62</td>\n",
       "      <td>222.38</td>\n",
       "      <td>7635.0</td>\n",
       "      <td>有效发票</td>\n",
       "      <td>2019Q4</td>\n",
       "    </tr>\n",
       "    <tr>\n",
       "      <th>162481</th>\n",
       "      <td>E123</td>\n",
       "      <td>34173085</td>\n",
       "      <td>2019-12-17</td>\n",
       "      <td>B13093</td>\n",
       "      <td>1917.47</td>\n",
       "      <td>57.53</td>\n",
       "      <td>1975.0</td>\n",
       "      <td>有效发票</td>\n",
       "      <td>2019Q4</td>\n",
       "    </tr>\n",
       "    <tr>\n",
       "      <th>162482</th>\n",
       "      <td>E123</td>\n",
       "      <td>8887703</td>\n",
       "      <td>2019-12-25</td>\n",
       "      <td>B13093</td>\n",
       "      <td>7252.42</td>\n",
       "      <td>217.58</td>\n",
       "      <td>7470.0</td>\n",
       "      <td>有效发票</td>\n",
       "      <td>2019Q4</td>\n",
       "    </tr>\n",
       "    <tr>\n",
       "      <th>162483</th>\n",
       "      <td>E123</td>\n",
       "      <td>8887704</td>\n",
       "      <td>2019-12-25</td>\n",
       "      <td>B13093</td>\n",
       "      <td>6660.19</td>\n",
       "      <td>199.81</td>\n",
       "      <td>6860.0</td>\n",
       "      <td>有效发票</td>\n",
       "      <td>2019Q4</td>\n",
       "    </tr>\n",
       "  </tbody>\n",
       "</table>\n",
       "<p>151278 rows × 9 columns</p>\n",
       "</div>"
      ],
      "text/plain": [
       "        企业代号      发票号码       开票日期  购方单位代号       金额       税额     价税合计  发票状态  \\\n",
       "0         E1  11459356 2017-08-04  B03711  9401.71  1598.29  11000.0  有效发票   \n",
       "1         E1   5076239 2017-08-09  B00844  8170.94  1389.06   9560.0  有效发票   \n",
       "2         E1   5076240 2017-08-09  B00844  8170.94  1389.06   9560.0  有效发票   \n",
       "3         E1   5076241 2017-08-09  B00844  4085.47   694.53   4780.0  有效发票   \n",
       "4         E1   5076242 2017-08-09  B00844  4085.47   694.53   4780.0  有效发票   \n",
       "...      ...       ...        ...     ...      ...      ...      ...   ...   \n",
       "162479  E123   8887701 2019-12-17  B10944  4827.67   144.83   4972.5  有效发票   \n",
       "162480  E123   8887702 2019-12-17  B10944  7412.62   222.38   7635.0  有效发票   \n",
       "162481  E123  34173085 2019-12-17  B13093  1917.47    57.53   1975.0  有效发票   \n",
       "162482  E123   8887703 2019-12-25  B13093  7252.42   217.58   7470.0  有效发票   \n",
       "162483  E123   8887704 2019-12-25  B13093  6660.19   199.81   6860.0  有效发票   \n",
       "\n",
       "        quater  \n",
       "0       2017Q3  \n",
       "1       2017Q3  \n",
       "2       2017Q3  \n",
       "3       2017Q3  \n",
       "4       2017Q3  \n",
       "...        ...  \n",
       "162479  2019Q4  \n",
       "162480  2019Q4  \n",
       "162481  2019Q4  \n",
       "162482  2019Q4  \n",
       "162483  2019Q4  \n",
       "\n",
       "[151278 rows x 9 columns]"
      ]
     },
     "execution_count": 140,
     "metadata": {},
     "output_type": "execute_result"
    }
   ],
   "source": [
    "sale_info"
   ]
  },
  {
   "cell_type": "code",
   "execution_count": 147,
   "metadata": {},
   "outputs": [],
   "source": [
    "sale_info['销项负发票个数']=sale_info['价税合计'].apply(lambda x:1 if x<0 else 0 )"
   ]
  },
  {
   "cell_type": "code",
   "execution_count": 148,
   "metadata": {},
   "outputs": [],
   "source": [
    "sale_quater=sale_info.groupby(['企业代号','quater']).aggregate({\n",
    "    '价税合计':'sum',\n",
    "    '发票号码':'count',\n",
    "    '销项负发票个数':'sum'\n",
    "})"
   ]
  },
  {
   "cell_type": "code",
   "execution_count": 149,
   "metadata": {},
   "outputs": [],
   "source": [
    "sale_info1=sale_info.copy()\n",
    "sale_info1_quater=sale_info1.drop_duplicates(subset=['企业代号','购方单位代号','quater'])\n",
    "sale_num=sale_info1_quater.groupby(['企业代号','quater'])['购方单位代号'].count().values.tolist()"
   ]
  },
  {
   "cell_type": "code",
   "execution_count": 150,
   "metadata": {},
   "outputs": [],
   "source": [
    "sale_quater['客户个数']=sale_num"
   ]
  },
  {
   "cell_type": "code",
   "execution_count": 151,
   "metadata": {},
   "outputs": [],
   "source": [
    "sale_quater=sale_quater.reset_index(level=[0,1])\n",
    "sale_quater.rename(columns={'价税合计':'销项合计','发票号码':'销项订单个数'},inplace=True)"
   ]
  },
  {
   "cell_type": "code",
   "execution_count": 152,
   "metadata": {},
   "outputs": [
    {
     "data": {
      "text/html": [
       "<div>\n",
       "<style scoped>\n",
       "    .dataframe tbody tr th:only-of-type {\n",
       "        vertical-align: middle;\n",
       "    }\n",
       "\n",
       "    .dataframe tbody tr th {\n",
       "        vertical-align: top;\n",
       "    }\n",
       "\n",
       "    .dataframe thead th {\n",
       "        text-align: right;\n",
       "    }\n",
       "</style>\n",
       "<table border=\"1\" class=\"dataframe\">\n",
       "  <thead>\n",
       "    <tr style=\"text-align: right;\">\n",
       "      <th></th>\n",
       "      <th>企业代号</th>\n",
       "      <th>quater</th>\n",
       "      <th>销项合计</th>\n",
       "      <th>销项订单个数</th>\n",
       "      <th>销项负发票个数</th>\n",
       "      <th>客户个数</th>\n",
       "    </tr>\n",
       "  </thead>\n",
       "  <tbody>\n",
       "    <tr>\n",
       "      <th>0</th>\n",
       "      <td>E1</td>\n",
       "      <td>2017Q3</td>\n",
       "      <td>4.664307e+08</td>\n",
       "      <td>626</td>\n",
       "      <td>27</td>\n",
       "      <td>122</td>\n",
       "    </tr>\n",
       "    <tr>\n",
       "      <th>1</th>\n",
       "      <td>E1</td>\n",
       "      <td>2017Q4</td>\n",
       "      <td>4.899739e+08</td>\n",
       "      <td>784</td>\n",
       "      <td>19</td>\n",
       "      <td>154</td>\n",
       "    </tr>\n",
       "    <tr>\n",
       "      <th>2</th>\n",
       "      <td>E1</td>\n",
       "      <td>2018Q1</td>\n",
       "      <td>4.874645e+08</td>\n",
       "      <td>707</td>\n",
       "      <td>25</td>\n",
       "      <td>127</td>\n",
       "    </tr>\n",
       "    <tr>\n",
       "      <th>3</th>\n",
       "      <td>E1</td>\n",
       "      <td>2018Q2</td>\n",
       "      <td>5.562644e+08</td>\n",
       "      <td>841</td>\n",
       "      <td>22</td>\n",
       "      <td>149</td>\n",
       "    </tr>\n",
       "    <tr>\n",
       "      <th>4</th>\n",
       "      <td>E1</td>\n",
       "      <td>2018Q3</td>\n",
       "      <td>5.090587e+08</td>\n",
       "      <td>751</td>\n",
       "      <td>5</td>\n",
       "      <td>139</td>\n",
       "    </tr>\n",
       "    <tr>\n",
       "      <th>...</th>\n",
       "      <td>...</td>\n",
       "      <td>...</td>\n",
       "      <td>...</td>\n",
       "      <td>...</td>\n",
       "      <td>...</td>\n",
       "      <td>...</td>\n",
       "    </tr>\n",
       "    <tr>\n",
       "      <th>1328</th>\n",
       "      <td>E98</td>\n",
       "      <td>2020Q1</td>\n",
       "      <td>3.380000e+04</td>\n",
       "      <td>2</td>\n",
       "      <td>0</td>\n",
       "      <td>1</td>\n",
       "    </tr>\n",
       "    <tr>\n",
       "      <th>1329</th>\n",
       "      <td>E99</td>\n",
       "      <td>2018Q2</td>\n",
       "      <td>2.292035e+05</td>\n",
       "      <td>1</td>\n",
       "      <td>0</td>\n",
       "      <td>1</td>\n",
       "    </tr>\n",
       "    <tr>\n",
       "      <th>1330</th>\n",
       "      <td>E99</td>\n",
       "      <td>2018Q3</td>\n",
       "      <td>4.361974e+05</td>\n",
       "      <td>1</td>\n",
       "      <td>0</td>\n",
       "      <td>1</td>\n",
       "    </tr>\n",
       "    <tr>\n",
       "      <th>1331</th>\n",
       "      <td>E99</td>\n",
       "      <td>2019Q1</td>\n",
       "      <td>2.368449e+05</td>\n",
       "      <td>2</td>\n",
       "      <td>0</td>\n",
       "      <td>1</td>\n",
       "    </tr>\n",
       "    <tr>\n",
       "      <th>1332</th>\n",
       "      <td>E99</td>\n",
       "      <td>2019Q4</td>\n",
       "      <td>3.327590e+05</td>\n",
       "      <td>1</td>\n",
       "      <td>0</td>\n",
       "      <td>1</td>\n",
       "    </tr>\n",
       "  </tbody>\n",
       "</table>\n",
       "<p>1333 rows × 6 columns</p>\n",
       "</div>"
      ],
      "text/plain": [
       "     企业代号  quater          销项合计  销项订单个数  销项负发票个数  客户个数\n",
       "0      E1  2017Q3  4.664307e+08     626       27   122\n",
       "1      E1  2017Q4  4.899739e+08     784       19   154\n",
       "2      E1  2018Q1  4.874645e+08     707       25   127\n",
       "3      E1  2018Q2  5.562644e+08     841       22   149\n",
       "4      E1  2018Q3  5.090587e+08     751        5   139\n",
       "...   ...     ...           ...     ...      ...   ...\n",
       "1328  E98  2020Q1  3.380000e+04       2        0     1\n",
       "1329  E99  2018Q2  2.292035e+05       1        0     1\n",
       "1330  E99  2018Q3  4.361974e+05       1        0     1\n",
       "1331  E99  2019Q1  2.368449e+05       2        0     1\n",
       "1332  E99  2019Q4  3.327590e+05       1        0     1\n",
       "\n",
       "[1333 rows x 6 columns]"
      ]
     },
     "execution_count": 152,
     "metadata": {},
     "output_type": "execute_result"
    }
   ],
   "source": [
    "sale_quater"
   ]
  },
  {
   "cell_type": "code",
   "execution_count": 153,
   "metadata": {
    "scrolled": true
   },
   "outputs": [],
   "source": [
    "gc=pd.merge(df_quater,sale_quater,on=['企业代号','quater'],how='inner')"
   ]
  },
  {
   "cell_type": "code",
   "execution_count": 154,
   "metadata": {},
   "outputs": [],
   "source": [
    "gc['净营业收入']=gc['销项合计']-gc['进项合计']"
   ]
  },
  {
   "cell_type": "code",
   "execution_count": 155,
   "metadata": {},
   "outputs": [],
   "source": [
    "gc=pd.merge(gc,company_info,on='企业代号')"
   ]
  },
  {
   "cell_type": "markdown",
   "metadata": {},
   "source": [
    "### 企业问题"
   ]
  },
  {
   "cell_type": "code",
   "execution_count": 115,
   "metadata": {},
   "outputs": [
    {
     "data": {
      "text/plain": [
       "<AxesSubplot:xlabel='信誉评级'>"
      ]
     },
     "execution_count": 115,
     "metadata": {},
     "output_type": "execute_result"
    },
    {
     "data": {
      "image/png": "[encoded data removed]",
      "text/plain": [
       "<Figure size 432x288 with 1 Axes>"
      ]
     },
     "metadata": {
      "needs_background": "light"
     },
     "output_type": "display_data"
    }
   ],
   "source": [
    "gc_count=gc.groupby(by=['信誉评级','是否违约']).count()\n",
    "gc_count=gc_count.reset_index(level=[0,1])\n",
    "gc_pivot=gc_count.pivot_table(index='信誉评级',\n",
    "                    columns='是否违约',\n",
    "                    values='企业代号')\n",
    "gc_pivot.plot(kind='bar')"
   ]
  },
  {
   "cell_type": "markdown",
   "metadata": {},
   "source": [
    "### 训练决策树模型"
   ]
  },
  {
   "cell_type": "code",
   "execution_count": 177,
   "metadata": {},
   "outputs": [],
   "source": [
    "gc.shape\n",
    "gc.to_csv('基础变量.csv',index=False)"
   ]
  },
  {
   "cell_type": "code",
   "execution_count": 52,
   "metadata": {},
   "outputs": [
    {
     "data": {
      "text/plain": [
       "{'A', 'B', 'C', 'D'}"
      ]
     },
     "execution_count": 52,
     "metadata": {},
     "output_type": "execute_result"
    }
   ],
   "source": [
    "set(gc['信誉评级'].values)"
   ]
  },
  {
   "cell_type": "code",
   "execution_count": 157,
   "metadata": {},
   "outputs": [],
   "source": [
    "def convert(x):\n",
    "    if x=='A':\n",
    "        return 1\n",
    "    elif x=='B':\n",
    "        return 2\n",
    "    elif x=='C':\n",
    "        return 3\n",
    "    else:\n",
    "        return 4"
   ]
  },
  {
   "cell_type": "code",
   "execution_count": 158,
   "metadata": {},
   "outputs": [],
   "source": [
    "gc['信誉评级']=gc['信誉评级'].apply(convert)"
   ]
  },
  {
   "cell_type": "code",
   "execution_count": 159,
   "metadata": {},
   "outputs": [],
   "source": [
    "def convert_to_2(x):\n",
    "    if x=='是':\n",
    "        return 1\n",
    "    else:\n",
    "        return 0"
   ]
  },
  {
   "cell_type": "code",
   "execution_count": 160,
   "metadata": {},
   "outputs": [],
   "source": [
    "gc['是否违约']=gc['是否违约'].apply(convert_to_2)"
   ]
  },
  {
   "cell_type": "code",
   "execution_count": 161,
   "metadata": {},
   "outputs": [
    {
     "data": {
      "text/html": [
       "<div>\n",
       "<style scoped>\n",
       "    .dataframe tbody tr th:only-of-type {\n",
       "        vertical-align: middle;\n",
       "    }\n",
       "\n",
       "    .dataframe tbody tr th {\n",
       "        vertical-align: top;\n",
       "    }\n",
       "\n",
       "    .dataframe thead th {\n",
       "        text-align: right;\n",
       "    }\n",
       "</style>\n",
       "<table border=\"1\" class=\"dataframe\">\n",
       "  <thead>\n",
       "    <tr style=\"text-align: right;\">\n",
       "      <th></th>\n",
       "      <th>企业代号</th>\n",
       "      <th>quater</th>\n",
       "      <th>进项合计</th>\n",
       "      <th>订单个数</th>\n",
       "      <th>进项负发票个数</th>\n",
       "      <th>供货商个数</th>\n",
       "      <th>销项合计</th>\n",
       "      <th>销项订单个数</th>\n",
       "      <th>销项负发票个数</th>\n",
       "      <th>客户个数</th>\n",
       "      <th>净营业收入</th>\n",
       "      <th>企业名称</th>\n",
       "      <th>信誉评级</th>\n",
       "      <th>是否违约</th>\n",
       "    </tr>\n",
       "  </thead>\n",
       "  <tbody>\n",
       "    <tr>\n",
       "      <th>0</th>\n",
       "      <td>E1</td>\n",
       "      <td>2017Q3</td>\n",
       "      <td>5.756247e+08</td>\n",
       "      <td>158</td>\n",
       "      <td>14</td>\n",
       "      <td>51</td>\n",
       "      <td>4.664307e+08</td>\n",
       "      <td>626</td>\n",
       "      <td>27</td>\n",
       "      <td>122</td>\n",
       "      <td>-1.091939e+08</td>\n",
       "      <td>***电器销售有限公司</td>\n",
       "      <td>1</td>\n",
       "      <td>0</td>\n",
       "    </tr>\n",
       "    <tr>\n",
       "      <th>1</th>\n",
       "      <td>E1</td>\n",
       "      <td>2017Q4</td>\n",
       "      <td>6.953608e+08</td>\n",
       "      <td>233</td>\n",
       "      <td>15</td>\n",
       "      <td>80</td>\n",
       "      <td>4.899739e+08</td>\n",
       "      <td>784</td>\n",
       "      <td>19</td>\n",
       "      <td>154</td>\n",
       "      <td>-2.053868e+08</td>\n",
       "      <td>***电器销售有限公司</td>\n",
       "      <td>1</td>\n",
       "      <td>0</td>\n",
       "    </tr>\n",
       "    <tr>\n",
       "      <th>2</th>\n",
       "      <td>E1</td>\n",
       "      <td>2018Q1</td>\n",
       "      <td>6.126124e+08</td>\n",
       "      <td>215</td>\n",
       "      <td>9</td>\n",
       "      <td>63</td>\n",
       "      <td>4.874645e+08</td>\n",
       "      <td>707</td>\n",
       "      <td>25</td>\n",
       "      <td>127</td>\n",
       "      <td>-1.251479e+08</td>\n",
       "      <td>***电器销售有限公司</td>\n",
       "      <td>1</td>\n",
       "      <td>0</td>\n",
       "    </tr>\n",
       "    <tr>\n",
       "      <th>3</th>\n",
       "      <td>E1</td>\n",
       "      <td>2018Q2</td>\n",
       "      <td>9.729339e+08</td>\n",
       "      <td>360</td>\n",
       "      <td>1</td>\n",
       "      <td>79</td>\n",
       "      <td>5.562644e+08</td>\n",
       "      <td>841</td>\n",
       "      <td>22</td>\n",
       "      <td>149</td>\n",
       "      <td>-4.166695e+08</td>\n",
       "      <td>***电器销售有限公司</td>\n",
       "      <td>1</td>\n",
       "      <td>0</td>\n",
       "    </tr>\n",
       "    <tr>\n",
       "      <th>4</th>\n",
       "      <td>E1</td>\n",
       "      <td>2018Q3</td>\n",
       "      <td>5.680497e+08</td>\n",
       "      <td>386</td>\n",
       "      <td>5</td>\n",
       "      <td>109</td>\n",
       "      <td>5.090587e+08</td>\n",
       "      <td>751</td>\n",
       "      <td>5</td>\n",
       "      <td>139</td>\n",
       "      <td>-5.899094e+07</td>\n",
       "      <td>***电器销售有限公司</td>\n",
       "      <td>1</td>\n",
       "      <td>0</td>\n",
       "    </tr>\n",
       "  </tbody>\n",
       "</table>\n",
       "</div>"
      ],
      "text/plain": [
       "  企业代号  quater          进项合计  订单个数  进项负发票个数  供货商个数          销项合计  销项订单个数  \\\n",
       "0   E1  2017Q3  5.756247e+08   158       14     51  4.664307e+08     626   \n",
       "1   E1  2017Q4  6.953608e+08   233       15     80  4.899739e+08     784   \n",
       "2   E1  2018Q1  6.126124e+08   215        9     63  4.874645e+08     707   \n",
       "3   E1  2018Q2  9.729339e+08   360        1     79  5.562644e+08     841   \n",
       "4   E1  2018Q3  5.680497e+08   386        5    109  5.090587e+08     751   \n",
       "\n",
       "   销项负发票个数  客户个数         净营业收入         企业名称  信誉评级  是否违约  \n",
       "0       27   122 -1.091939e+08  ***电器销售有限公司     1     0  \n",
       "1       19   154 -2.053868e+08  ***电器销售有限公司     1     0  \n",
       "2       25   127 -1.251479e+08  ***电器销售有限公司     1     0  \n",
       "3       22   149 -4.166695e+08  ***电器销售有限公司     1     0  \n",
       "4        5   139 -5.899094e+07  ***电器销售有限公司     1     0  "
      ]
     },
     "execution_count": 161,
     "metadata": {},
     "output_type": "execute_result"
    }
   ],
   "source": [
    "gc.head()"
   ]
  },
  {
   "cell_type": "code",
   "execution_count": 162,
   "metadata": {},
   "outputs": [],
   "source": [
    "x=gc.drop(['企业代号','quater','企业名称','是否违约','信誉评级'],axis=1)\n",
    "y=gc['信誉评级'].copy()\n",
    "\n",
    "from sklearn import tree\n",
    "\n",
    "dtree=tree.DecisionTreeRegressor(max_depth=3,min_samples_leaf=100,min_samples_split=300)\n",
    "dtree=dtree.fit(x,y)"
   ]
  },
  {
   "cell_type": "markdown",
   "metadata": {},
   "source": [
    "### 输出决策树图像，并作出决策 "
   ]
  },
  {
   "cell_type": "code",
   "execution_count": 65,
   "metadata": {},
   "outputs": [],
   "source": [
    "import pydotplus\n",
    "from IPython.display import Image\n",
    "import six\n",
    "import sys\n",
    "sys.modules['sklearn.externals.six'] = six\n",
    "from six import StringIO\n",
    "import os"
   ]
  },
  {
   "cell_type": "code",
   "execution_count": 163,
   "metadata": {},
   "outputs": [
    {
     "data": {
      "image/png": "[encoded data removed]",
      "text/plain": [
       "<IPython.core.display.Image object>"
      ]
     },
     "execution_count": 163,
     "metadata": {},
     "output_type": "execute_result"
    }
   ],
   "source": [
    "with open('dt.dot','w') as f:\n",
    "    tree.export_graphviz(dtree,out_file=f)\n",
    "dot_data=StringIO()\n",
    "tree.export_graphviz(dtree,out_file=dot_data,\n",
    "                    feature_names=x.columns,\n",
    "                    class_names=['违约率'],\n",
    "                    filled=True,rounded=True,\n",
    "                    special_characters=True)\n",
    "graph=pydotplus.graph_from_dot_data(dot_data.getvalue())\n",
    "Image(graph.create_png())"
   ]
  },
  {
   "cell_type": "code",
   "execution_count": 179,
   "metadata": {},
   "outputs": [
    {
     "data": {
      "text/html": [
       "<div>\n",
       "<style scoped>\n",
       "    .dataframe tbody tr th:only-of-type {\n",
       "        vertical-align: middle;\n",
       "    }\n",
       "\n",
       "    .dataframe tbody tr th {\n",
       "        vertical-align: top;\n",
       "    }\n",
       "\n",
       "    .dataframe thead th {\n",
       "        text-align: right;\n",
       "    }\n",
       "</style>\n",
       "<table border=\"1\" class=\"dataframe\">\n",
       "  <thead>\n",
       "    <tr style=\"text-align: right;\">\n",
       "      <th></th>\n",
       "      <th>企业代号</th>\n",
       "      <th>quater</th>\n",
       "      <th>进项合计</th>\n",
       "      <th>订单个数</th>\n",
       "      <th>进项负发票个数</th>\n",
       "      <th>供货商个数</th>\n",
       "      <th>销项合计</th>\n",
       "      <th>销项订单个数</th>\n",
       "      <th>销项负发票个数</th>\n",
       "      <th>客户个数</th>\n",
       "      <th>净营业收入</th>\n",
       "      <th>企业名称</th>\n",
       "      <th>是否违约</th>\n",
       "    </tr>\n",
       "    <tr>\n",
       "      <th>信誉评级</th>\n",
       "      <th></th>\n",
       "      <th></th>\n",
       "      <th></th>\n",
       "      <th></th>\n",
       "      <th></th>\n",
       "      <th></th>\n",
       "      <th></th>\n",
       "      <th></th>\n",
       "      <th></th>\n",
       "      <th></th>\n",
       "      <th></th>\n",
       "      <th></th>\n",
       "      <th></th>\n",
       "    </tr>\n",
       "  </thead>\n",
       "  <tbody>\n",
       "    <tr>\n",
       "      <th>1</th>\n",
       "      <td>325</td>\n",
       "      <td>325</td>\n",
       "      <td>325</td>\n",
       "      <td>325</td>\n",
       "      <td>325</td>\n",
       "      <td>325</td>\n",
       "      <td>325</td>\n",
       "      <td>325</td>\n",
       "      <td>325</td>\n",
       "      <td>325</td>\n",
       "      <td>325</td>\n",
       "      <td>325</td>\n",
       "      <td>325</td>\n",
       "    </tr>\n",
       "    <tr>\n",
       "      <th>2</th>\n",
       "      <td>412</td>\n",
       "      <td>412</td>\n",
       "      <td>412</td>\n",
       "      <td>412</td>\n",
       "      <td>412</td>\n",
       "      <td>412</td>\n",
       "      <td>412</td>\n",
       "      <td>412</td>\n",
       "      <td>412</td>\n",
       "      <td>412</td>\n",
       "      <td>412</td>\n",
       "      <td>412</td>\n",
       "      <td>412</td>\n",
       "    </tr>\n",
       "    <tr>\n",
       "      <th>3</th>\n",
       "      <td>304</td>\n",
       "      <td>304</td>\n",
       "      <td>304</td>\n",
       "      <td>304</td>\n",
       "      <td>304</td>\n",
       "      <td>304</td>\n",
       "      <td>304</td>\n",
       "      <td>304</td>\n",
       "      <td>304</td>\n",
       "      <td>304</td>\n",
       "      <td>304</td>\n",
       "      <td>304</td>\n",
       "      <td>304</td>\n",
       "    </tr>\n",
       "    <tr>\n",
       "      <th>4</th>\n",
       "      <td>159</td>\n",
       "      <td>159</td>\n",
       "      <td>159</td>\n",
       "      <td>159</td>\n",
       "      <td>159</td>\n",
       "      <td>159</td>\n",
       "      <td>159</td>\n",
       "      <td>159</td>\n",
       "      <td>159</td>\n",
       "      <td>159</td>\n",
       "      <td>159</td>\n",
       "      <td>159</td>\n",
       "      <td>159</td>\n",
       "    </tr>\n",
       "  </tbody>\n",
       "</table>\n",
       "</div>"
      ],
      "text/plain": [
       "      企业代号  quater  进项合计  订单个数  进项负发票个数  供货商个数  销项合计  销项订单个数  销项负发票个数  客户个数  \\\n",
       "信誉评级                                                                          \n",
       "1      325     325   325   325      325    325   325     325      325   325   \n",
       "2      412     412   412   412      412    412   412     412      412   412   \n",
       "3      304     304   304   304      304    304   304     304      304   304   \n",
       "4      159     159   159   159      159    159   159     159      159   159   \n",
       "\n",
       "      净营业收入  企业名称  是否违约  \n",
       "信誉评级                     \n",
       "1       325   325   325  \n",
       "2       412   412   412  \n",
       "3       304   304   304  \n",
       "4       159   159   159  "
      ]
     },
     "execution_count": 179,
     "metadata": {},
     "output_type": "execute_result"
    }
   ],
   "source": [
    "gc.groupby('信誉评级').count()"
   ]
  },
  {
   "cell_type": "code",
   "execution_count": 182,
   "metadata": {},
   "outputs": [
    {
     "data": {
      "text/plain": [
       "array(['E1', 'E10', 'E11', 'E12', 'E13', 'E14', 'E15', 'E16', 'E17',\n",
       "       'E18', 'E19', 'E2', 'E20', 'E21', 'E22', 'E23', 'E24', 'E25',\n",
       "       'E28', 'E29', 'E3', 'E30', 'E32', 'E33', 'E34', 'E38', 'E4', 'E48',\n",
       "       'E5', 'E57', 'E6', 'E63', 'E7', 'E8', 'E9'], dtype=object)"
      ]
     },
     "execution_count": 182,
     "metadata": {},
     "output_type": "execute_result"
    }
   ],
   "source": [
    "#决策树判断的A评级的企业\n",
    "gc[gc['销项合计']>8324696]['企业代号'].unique()"
   ]
  },
  {
   "cell_type": "code",
   "execution_count": 183,
   "metadata": {},
   "outputs": [
    {
     "data": {
      "text/plain": [
       "35"
      ]
     },
     "execution_count": 183,
     "metadata": {},
     "output_type": "execute_result"
    }
   ],
   "source": [
    "len(gc[gc['销项合计']>8324696]['企业代号'].unique())"
   ]
  },
  {
   "cell_type": "code",
   "execution_count": 188,
   "metadata": {
    "scrolled": true
   },
   "outputs": [
    {
     "data": {
      "text/plain": [
       "信誉评级\n",
       "A    27\n",
       "B    38\n",
       "C    34\n",
       "D    24\n",
       "Name: 企业代号, dtype: int64"
      ]
     },
     "execution_count": 188,
     "metadata": {},
     "output_type": "execute_result"
    },
    {
     "data": {
      "image/png": "[encoded data removed]",
      "text/plain": [
       "<Figure size 432x288 with 1 Axes>"
      ]
     },
     "metadata": {
      "needs_background": "light"
     },
     "output_type": "display_data"
    }
   ],
   "source": [
    "#企业评级分布\n",
    "company_count=company_info.groupby(['信誉评级'])['企业代号'].count()\n",
    "plt.bar(company_count.index,company_count.values)\n",
    "company_count"
   ]
  },
  {
   "cell_type": "code",
   "execution_count": 102,
   "metadata": {},
   "outputs": [
    {
     "data": {
      "text/plain": [
       "([<matplotlib.patches.Wedge at 0x7fe5bbfaad90>,\n",
       "  <matplotlib.patches.Wedge at 0x7fe5baa8d190>],\n",
       " [Text(-0.8486380338760866, 0.6998667640765136, '否'),\n",
       "  Text(0.8486379683498276, -0.6998668435317372, '是')],\n",
       " [Text(-0.4628934730233199, 0.3817455076780983, '78.0%'),\n",
       "  Text(0.46289343728172405, -0.38174555101731117, '22.0%')])"
      ]
     },
     "execution_count": 102,
     "metadata": {},
     "output_type": "execute_result"
    },
    {
     "data": {
      "image/png": "[encoded data removed]",
      "text/plain": [
       "<Figure size 432x288 with 1 Axes>"
      ]
     },
     "metadata": {},
     "output_type": "display_data"
    }
   ],
   "source": [
    "#企业违约分布\n",
    "\n",
    "#设置中文\n",
    "plt.rcParams['font.sans-serif'] = ['Microsoft YaHei']\n",
    "\n",
    "company_bad_count=company_info.groupby(['是否违约'])['企业代号'].count().to_frame()\n",
    "company_bad_count['rate']=company_bad_count/company_bad_count.sum()\n",
    "plt.pie(company_bad_count['rate'],labels=company_bad_count.index,autopct='%1.1f%%')"
   ]
  },
  {
   "cell_type": "code",
   "execution_count": 103,
   "metadata": {},
   "outputs": [],
   "source": [
    "x=gc.drop(['企业代号','quater','企业名称','信誉评级'],axis=1)\n",
    "y=gc['信誉评级'].copy()\n",
    "\n",
    "from sklearn import tree\n",
    "\n",
    "dtree=tree.DecisionTreeRegressor(max_depth=3,min_samples_leaf=100,min_samples_split=300)\n",
    "dtree=dtree.fit(x,y)"
   ]
  },
  {
   "cell_type": "code",
   "execution_count": 104,
   "metadata": {},
   "outputs": [
    {
     "data": {
      "image/png": "[encoded data removed]",
      "text/plain": [
       "<IPython.core.display.Image object>"
      ]
     },
     "execution_count": 104,
     "metadata": {},
     "output_type": "execute_result"
    }
   ],
   "source": [
    "with open('dt.dot','w') as f:\n",
    "    tree.export_graphviz(dtree,out_file=f)\n",
    "dot_data=StringIO()\n",
    "tree.export_graphviz(dtree,out_file=dot_data,\n",
    "                    feature_names=x.columns,\n",
    "                    class_names=['违约率'],\n",
    "                    filled=True,rounded=True,\n",
    "                    special_characters=True)\n",
    "graph=pydotplus.graph_from_dot_data(dot_data.getvalue())\n",
    "Image(graph.create_png())"
   ]
  },
  {
   "cell_type": "markdown",
   "metadata": {},
   "source": [
    "### 数据规范化\n",
    "- 采用StandardScaler方法对数据进行规范化,均值为0，方差为1的正态分布\n",
    "- 采用PCA方法对数据进行降维"
   ]
  },
  {
   "cell_type": "code",
   "execution_count": 122,
   "metadata": {},
   "outputs": [],
   "source": [
    "from sklearn.model_selection import learning_curve,train_test_split,GridSearchCV\n",
    "from sklearn.metrics import accuracy_score\n",
    "from sklearn.svm import SVC\n",
    "from sklearn.tree import DecisionTreeClassifier\n",
    "from sklearn.ensemble import RandomForestClassifier\n",
    "from sklearn.neighbors import KNeighborsClassifier\n",
    "import seaborn as sns\n",
    "from sklearn.pipeline import Pipeline\n",
    "from sklearn.preprocessing import StandardScaler\n",
    "\n",
    "# pipeline=Pipeline([\n",
    "#     ('scaler',StandardScaler()),\n",
    "# #     ('pca',PCA()),\n",
    "#     ('randomforestclassifier',RandomForestClassifier())\n",
    "# ])"
   ]
  },
  {
   "cell_type": "code",
   "execution_count": 164,
   "metadata": {},
   "outputs": [],
   "source": [
    "#30%作为测试集，其余作为训练集\n",
    "train_x,test_x,train_y,test_y=train_test_split(x.values,y.values,test_size=0.30,stratify=y.values,random_state=1)\n"
   ]
  },
  {
   "cell_type": "code",
   "execution_count": 171,
   "metadata": {},
   "outputs": [],
   "source": [
    "# 构造各种分类器\n",
    "classifiers=[\n",
    "    SVC(random_state=1,kernel='rbf'),\n",
    "    DecisionTreeClassifier(random_state=1,criterion='gini'),\n",
    "    RandomForestClassifier(random_state=1,criterion='gini'),\n",
    "    KNeighborsClassifier(metric='minkowski'),\n",
    "]"
   ]
  },
  {
   "cell_type": "code",
   "execution_count": 166,
   "metadata": {},
   "outputs": [],
   "source": [
    "#分类器名称\n",
    "classifier_names=[\n",
    "    'svc',\n",
    "    'decisiontreeclassifier',\n",
    "    'randomforestclassifier',\n",
    "    'kneighborsclassifier',\n",
    "]"
   ]
  },
  {
   "cell_type": "code",
   "execution_count": 173,
   "metadata": {},
   "outputs": [],
   "source": [
    "#分类器参数\n",
    "classifier_param_grid=[\n",
    "    {'svc__C':[1],'svc__gamma':[0.01]},\n",
    "    {'decisiontreeclassifier__max_depth':[3,4,6]},\n",
    "    {'randomforestclassifier__n_estimators':[3,5,6]},\n",
    "    {'kneighborsclassifier__n_neighbors':[4,6,8]}\n",
    "]"
   ]
  },
  {
   "cell_type": "code",
   "execution_count": 169,
   "metadata": {},
   "outputs": [],
   "source": [
    "#对具体的分类器进行GridSearchCV参数调优\n",
    "def GridSearchCV_work(pipeline,train_x,train_y,test_x,test_y,param_grid,score='accuracy'):\n",
    "    response={}\n",
    "    gridsearch=GridSearchCV(estimator=pipeline,param_grid=param_grid,scoring=score)\n",
    "    #寻找最优的参数和最优的准确率分数\n",
    "    search=gridsearch.fit(train_x,train_y)\n",
    "    print('GridSearch最优参数：',search.best_params_)\n",
    "    print('GridSearch最优分数:%0.4lf' %search.best_score_)\n",
    "    predict_y=gridsearch.predict(test_x)\n",
    "    print('准确率 %0.4lf' %accuracy_score(test_y,predict_y))\n",
    "    response['predict_y']=predict_y\n",
    "    response['accuracy_score']=accuracy_score(test_y,predict_y)\n",
    "    return response\n",
    "\n"
   ]
  },
  {
   "cell_type": "code",
   "execution_count": 174,
   "metadata": {},
   "outputs": [
    {
     "name": "stdout",
     "output_type": "stream",
     "text": [
      "GridSearch最优参数： {'svc__C': 1, 'svc__gamma': 0.01}\n",
      "GridSearch最优分数:0.4238\n",
      "准确率 0.4389\n",
      "GridSearch最优参数： {'decisiontreeclassifier__max_depth': 6}\n",
      "GridSearch最优分数:0.4881\n",
      "准确率 0.5556\n",
      "GridSearch最优参数： {'randomforestclassifier__n_estimators': 6}\n",
      "GridSearch最优分数:0.5643\n",
      "准确率 0.5944\n",
      "GridSearch最优参数： {'kneighborsclassifier__n_neighbors': 4}\n",
      "GridSearch最优分数:0.5131\n",
      "准确率 0.5222\n"
     ]
    }
   ],
   "source": [
    "for model,model_name,model_param_grid in zip(classifiers,classifier_names,classifier_param_grid):\n",
    "    pipeline=Pipeline([\n",
    "        ('scaler',StandardScaler()),\n",
    "        (model_name,model)\n",
    "    ])\n",
    "    result=GridSearchCV_work(pipeline,train_x,train_y,test_x,test_y,model_param_grid,score='accuracy')\n",
    "    "
   ]
  },
  {
   "cell_type": "code",
   "execution_count": null,
   "metadata": {},
   "outputs": [],
   "source": []
  }
 ],
 "metadata": {
  "kernelspec": {
   "display_name": "Python 3",
   "language": "python",
   "name": "python3"
  },
  "language_info": {
   "codemirror_mode": {
    "name": "ipython",
    "version": 3
   },
   "file_extension": ".py",
   "mimetype": "text/x-python",
   "name": "python",
   "nbconvert_exporter": "python",
   "pygments_lexer": "ipython3",
   "version": "3.7.8"
  }
 },
 "nbformat": 4,
 "nbformat_minor": 4
}
